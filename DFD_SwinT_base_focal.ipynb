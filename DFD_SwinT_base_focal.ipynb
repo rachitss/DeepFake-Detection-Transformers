{
 "cells": [
  {
   "cell_type": "code",
   "execution_count": 1,
   "id": "69efea60",
   "metadata": {},
   "outputs": [
    {
     "name": "stdout",
     "output_type": "stream",
     "text": [
      "Running on device: cuda:0\n"
     ]
    }
   ],
   "source": [
    "from transformers import AutoImageProcessor, AutoModelForImageClassification\n",
    "from PIL import Image\n",
    "import requests\n",
    "import pandas as pd\n",
    "import os\n",
    "from tqdm.auto import tqdm\n",
    "import glob\n",
    "import multiprocessing as mp\n",
    "import numpy as np\n",
    "from sklearn.model_selection import train_test_split\n",
    "import torch\n",
    "from torch.utils.data import TensorDataset, DataLoader\n",
    "import torch.nn as nn\n",
    "import matplotlib.pyplot as plt\n",
    "from torchviz import make_dot\n",
    "from ptflops import get_model_complexity_info\n",
    "import time\n",
    "import sys\n",
    "import matplotlib.pyplot as plt\n",
    "import seaborn as sns\n",
    "from sklearn.metrics import confusion_matrix\n",
    "from torchvision.ops import sigmoid_focal_loss\n",
    "\n",
    "device = 'cuda:0' if torch.cuda.is_available() else 'cpu'\n",
    "print(f'Running on device: {device}')\n"
   ]
  },
  {
   "cell_type": "markdown",
   "id": "08a4cda5",
   "metadata": {},
   "source": [
    "# Training Data"
   ]
  },
  {
   "cell_type": "code",
   "execution_count": 2,
   "id": "204f32de",
   "metadata": {},
   "outputs": [
    {
     "data": {
      "text/html": [
       "<div>\n",
       "<style scoped>\n",
       "    .dataframe tbody tr th:only-of-type {\n",
       "        vertical-align: middle;\n",
       "    }\n",
       "\n",
       "    .dataframe tbody tr th {\n",
       "        vertical-align: top;\n",
       "    }\n",
       "\n",
       "    .dataframe thead th {\n",
       "        text-align: right;\n",
       "    }\n",
       "</style>\n",
       "<table border=\"1\" class=\"dataframe\">\n",
       "  <thead>\n",
       "    <tr style=\"text-align: right;\">\n",
       "      <th></th>\n",
       "      <th>filename</th>\n",
       "      <th>label</th>\n",
       "      <th>split</th>\n",
       "      <th>original</th>\n",
       "      <th>path</th>\n",
       "    </tr>\n",
       "  </thead>\n",
       "  <tbody>\n",
       "    <tr>\n",
       "      <th>0</th>\n",
       "      <td>aagfhgtpmv.mp4</td>\n",
       "      <td>FAKE</td>\n",
       "      <td>train</td>\n",
       "      <td>vudstovrck.mp4</td>\n",
       "      <td>D:\\W\\VS\\VS Folder\\DFD\\DFDC MTCNN Extracted\\aag...</td>\n",
       "    </tr>\n",
       "    <tr>\n",
       "      <th>1</th>\n",
       "      <td>aapnvogymq.mp4</td>\n",
       "      <td>FAKE</td>\n",
       "      <td>train</td>\n",
       "      <td>jdubbvfswz.mp4</td>\n",
       "      <td>D:\\W\\VS\\VS Folder\\DFD\\DFDC MTCNN Extracted\\aap...</td>\n",
       "    </tr>\n",
       "    <tr>\n",
       "      <th>2</th>\n",
       "      <td>abarnvbtwb.mp4</td>\n",
       "      <td>REAL</td>\n",
       "      <td>train</td>\n",
       "      <td>NaN</td>\n",
       "      <td>D:\\W\\VS\\VS Folder\\DFD\\DFDC MTCNN Extracted\\aba...</td>\n",
       "    </tr>\n",
       "    <tr>\n",
       "      <th>3</th>\n",
       "      <td>abofeumbvv.mp4</td>\n",
       "      <td>FAKE</td>\n",
       "      <td>train</td>\n",
       "      <td>atvmxvwyns.mp4</td>\n",
       "      <td>D:\\W\\VS\\VS Folder\\DFD\\DFDC MTCNN Extracted\\abo...</td>\n",
       "    </tr>\n",
       "    <tr>\n",
       "      <th>4</th>\n",
       "      <td>abqwwspghj.mp4</td>\n",
       "      <td>FAKE</td>\n",
       "      <td>train</td>\n",
       "      <td>qzimuostzz.mp4</td>\n",
       "      <td>D:\\W\\VS\\VS Folder\\DFD\\DFDC MTCNN Extracted\\abq...</td>\n",
       "    </tr>\n",
       "    <tr>\n",
       "      <th>...</th>\n",
       "      <td>...</td>\n",
       "      <td>...</td>\n",
       "      <td>...</td>\n",
       "      <td>...</td>\n",
       "      <td>...</td>\n",
       "    </tr>\n",
       "    <tr>\n",
       "      <th>395</th>\n",
       "      <td>etejaapnxh.mp4</td>\n",
       "      <td>FAKE</td>\n",
       "      <td>train</td>\n",
       "      <td>wtreibcmgm.mp4</td>\n",
       "      <td>D:\\W\\VS\\VS Folder\\DFD\\DFDC MTCNN Extracted\\ete...</td>\n",
       "    </tr>\n",
       "    <tr>\n",
       "      <th>396</th>\n",
       "      <td>etmcruaihe.mp4</td>\n",
       "      <td>FAKE</td>\n",
       "      <td>train</td>\n",
       "      <td>afoovlsmtx.mp4</td>\n",
       "      <td>D:\\W\\VS\\VS Folder\\DFD\\DFDC MTCNN Extracted\\etm...</td>\n",
       "    </tr>\n",
       "    <tr>\n",
       "      <th>397</th>\n",
       "      <td>etohcvnzbj.mp4</td>\n",
       "      <td>FAKE</td>\n",
       "      <td>train</td>\n",
       "      <td>bdnaqemxmr.mp4</td>\n",
       "      <td>D:\\W\\VS\\VS Folder\\DFD\\DFDC MTCNN Extracted\\eto...</td>\n",
       "    </tr>\n",
       "    <tr>\n",
       "      <th>398</th>\n",
       "      <td>eudeqjhdfd.mp4</td>\n",
       "      <td>REAL</td>\n",
       "      <td>train</td>\n",
       "      <td>NaN</td>\n",
       "      <td>D:\\W\\VS\\VS Folder\\DFD\\DFDC MTCNN Extracted\\eud...</td>\n",
       "    </tr>\n",
       "    <tr>\n",
       "      <th>399</th>\n",
       "      <td>eukvucdetx.mp4</td>\n",
       "      <td>FAKE</td>\n",
       "      <td>train</td>\n",
       "      <td>gjypopglvi.mp4</td>\n",
       "      <td>D:\\W\\VS\\VS Folder\\DFD\\DFDC MTCNN Extracted\\euk...</td>\n",
       "    </tr>\n",
       "  </tbody>\n",
       "</table>\n",
       "<p>400 rows × 5 columns</p>\n",
       "</div>"
      ],
      "text/plain": [
       "           filename label  split        original  \\\n",
       "0    aagfhgtpmv.mp4  FAKE  train  vudstovrck.mp4   \n",
       "1    aapnvogymq.mp4  FAKE  train  jdubbvfswz.mp4   \n",
       "2    abarnvbtwb.mp4  REAL  train             NaN   \n",
       "3    abofeumbvv.mp4  FAKE  train  atvmxvwyns.mp4   \n",
       "4    abqwwspghj.mp4  FAKE  train  qzimuostzz.mp4   \n",
       "..              ...   ...    ...             ...   \n",
       "395  etejaapnxh.mp4  FAKE  train  wtreibcmgm.mp4   \n",
       "396  etmcruaihe.mp4  FAKE  train  afoovlsmtx.mp4   \n",
       "397  etohcvnzbj.mp4  FAKE  train  bdnaqemxmr.mp4   \n",
       "398  eudeqjhdfd.mp4  REAL  train             NaN   \n",
       "399  eukvucdetx.mp4  FAKE  train  gjypopglvi.mp4   \n",
       "\n",
       "                                                  path  \n",
       "0    D:\\W\\VS\\VS Folder\\DFD\\DFDC MTCNN Extracted\\aag...  \n",
       "1    D:\\W\\VS\\VS Folder\\DFD\\DFDC MTCNN Extracted\\aap...  \n",
       "2    D:\\W\\VS\\VS Folder\\DFD\\DFDC MTCNN Extracted\\aba...  \n",
       "3    D:\\W\\VS\\VS Folder\\DFD\\DFDC MTCNN Extracted\\abo...  \n",
       "4    D:\\W\\VS\\VS Folder\\DFD\\DFDC MTCNN Extracted\\abq...  \n",
       "..                                                 ...  \n",
       "395  D:\\W\\VS\\VS Folder\\DFD\\DFDC MTCNN Extracted\\ete...  \n",
       "396  D:\\W\\VS\\VS Folder\\DFD\\DFDC MTCNN Extracted\\etm...  \n",
       "397  D:\\W\\VS\\VS Folder\\DFD\\DFDC MTCNN Extracted\\eto...  \n",
       "398  D:\\W\\VS\\VS Folder\\DFD\\DFDC MTCNN Extracted\\eud...  \n",
       "399  D:\\W\\VS\\VS Folder\\DFD\\DFDC MTCNN Extracted\\euk...  \n",
       "\n",
       "[400 rows x 5 columns]"
      ]
     },
     "execution_count": 2,
     "metadata": {},
     "output_type": "execute_result"
    }
   ],
   "source": [
    "train_dir = 'D:\\\\W\\\\VS\\\\VS Folder\\\\DFD\\\\DFDC MTCNN Extracted\\\\'\n",
    "train_df = pd.read_csv(os.path.join(train_dir, 'metadata.csv'))\n",
    "train_df['path'] = train_df['filename'].apply(lambda x: os.path.join(train_dir, x.split('.')[0]))\n",
    "\n",
    "# Remove empty folders\n",
    "train_df = train_df[train_df['path'].map(lambda x: os.path.exists(x))]\n",
    "train_df"
   ]
  },
  {
   "cell_type": "code",
   "execution_count": 3,
   "id": "23dbafc7",
   "metadata": {},
   "outputs": [
    {
     "data": {
      "application/vnd.jupyter.widget-view+json": {
       "model_id": "8bd44ed227f646da9869e1a4e179ef88",
       "version_major": 2,
       "version_minor": 0
      },
      "text/plain": [
       "  0%|          | 0/400 [00:00<?, ?it/s]"
      ]
     },
     "metadata": {},
     "output_type": "display_data"
    }
   ],
   "source": [
    "valid_train_df = pd.DataFrame(columns=['filename', 'label', 'split', 'original', 'path'])\n",
    "\n",
    "# for row_idx, row in tqdm(train_df.iterrows()):\n",
    "for row_idx in tqdm(train_df.index):\n",
    "    row = train_df.loc[row_idx]\n",
    "    img_dir = row['path']\n",
    "    face_paths = glob.glob(f'{img_dir}/*.png')\n",
    "\n",
    "    if len(face_paths) >= 5: # Satisfy the minimum requirement for the number of faces\n",
    "        face_indices = [\n",
    "            path.split('\\\\')[-1].split('.')[0].split('_')[0]\n",
    "            for path in face_paths\n",
    "        ]\n",
    "        max_idx = np.max(np.array(face_indices, dtype=np.uint32))\n",
    "\n",
    "        selected_paths = []\n",
    "\n",
    "        for i in range(5):\n",
    "            stride = int((max_idx + 1)/(5**2))\n",
    "            sample = np.linspace(i*stride, max_idx + i*stride, 5).astype(int)\n",
    "\n",
    "            # Get faces\n",
    "            for idx in sample:\n",
    "                paths = glob.glob(f'{img_dir}/{idx}*.png')\n",
    "\n",
    "                selected_paths.extend(paths)\n",
    "                if len(selected_paths) >= 5: # Get enough faces\n",
    "                    break\n",
    "\n",
    "            if len(selected_paths) >= 5:  # Get enough faces\n",
    "                valid_train_df = pd.concat([valid_train_df, pd.DataFrame([row])], ignore_index=True)\n",
    "                break"
   ]
  },
  {
   "cell_type": "code",
   "execution_count": 16,
   "id": "e89472c9",
   "metadata": {},
   "outputs": [
    {
     "name": "stderr",
     "output_type": "stream",
     "text": [
      "C:\\Users\\rachi\\AppData\\Local\\Temp\\ipykernel_21020\\3380636837.py:1: FutureWarning: Downcasting behavior in `replace` is deprecated and will be removed in a future version. To retain the old behavior, explicitly call `result.infer_objects(copy=False)`. To opt-in to the future behavior, set `pd.set_option('future.no_silent_downcasting', True)`\n",
      "  valid_train_df['label']=valid_train_df['label'].replace({'FAKE': 1, 'REAL': 0})\n"
     ]
    },
    {
     "data": {
      "text/html": [
       "<div>\n",
       "<style scoped>\n",
       "    .dataframe tbody tr th:only-of-type {\n",
       "        vertical-align: middle;\n",
       "    }\n",
       "\n",
       "    .dataframe tbody tr th {\n",
       "        vertical-align: top;\n",
       "    }\n",
       "\n",
       "    .dataframe thead th {\n",
       "        text-align: right;\n",
       "    }\n",
       "</style>\n",
       "<table border=\"1\" class=\"dataframe\">\n",
       "  <thead>\n",
       "    <tr style=\"text-align: right;\">\n",
       "      <th></th>\n",
       "      <th>filename</th>\n",
       "      <th>label</th>\n",
       "      <th>split</th>\n",
       "      <th>original</th>\n",
       "      <th>path</th>\n",
       "    </tr>\n",
       "  </thead>\n",
       "  <tbody>\n",
       "    <tr>\n",
       "      <th>0</th>\n",
       "      <td>aagfhgtpmv.mp4</td>\n",
       "      <td>1</td>\n",
       "      <td>train</td>\n",
       "      <td>vudstovrck.mp4</td>\n",
       "      <td>D:\\W\\VS\\VS Folder\\DFD\\DFDC MTCNN Extracted\\aag...</td>\n",
       "    </tr>\n",
       "    <tr>\n",
       "      <th>1</th>\n",
       "      <td>aapnvogymq.mp4</td>\n",
       "      <td>1</td>\n",
       "      <td>train</td>\n",
       "      <td>jdubbvfswz.mp4</td>\n",
       "      <td>D:\\W\\VS\\VS Folder\\DFD\\DFDC MTCNN Extracted\\aap...</td>\n",
       "    </tr>\n",
       "    <tr>\n",
       "      <th>2</th>\n",
       "      <td>abarnvbtwb.mp4</td>\n",
       "      <td>0</td>\n",
       "      <td>train</td>\n",
       "      <td>NaN</td>\n",
       "      <td>D:\\W\\VS\\VS Folder\\DFD\\DFDC MTCNN Extracted\\aba...</td>\n",
       "    </tr>\n",
       "    <tr>\n",
       "      <th>3</th>\n",
       "      <td>abqwwspghj.mp4</td>\n",
       "      <td>1</td>\n",
       "      <td>train</td>\n",
       "      <td>qzimuostzz.mp4</td>\n",
       "      <td>D:\\W\\VS\\VS Folder\\DFD\\DFDC MTCNN Extracted\\abq...</td>\n",
       "    </tr>\n",
       "    <tr>\n",
       "      <th>4</th>\n",
       "      <td>acifjvzvpm.mp4</td>\n",
       "      <td>1</td>\n",
       "      <td>train</td>\n",
       "      <td>kbvibjhfzo.mp4</td>\n",
       "      <td>D:\\W\\VS\\VS Folder\\DFD\\DFDC MTCNN Extracted\\aci...</td>\n",
       "    </tr>\n",
       "  </tbody>\n",
       "</table>\n",
       "</div>"
      ],
      "text/plain": [
       "         filename  label  split        original  \\\n",
       "0  aagfhgtpmv.mp4      1  train  vudstovrck.mp4   \n",
       "1  aapnvogymq.mp4      1  train  jdubbvfswz.mp4   \n",
       "2  abarnvbtwb.mp4      0  train             NaN   \n",
       "3  abqwwspghj.mp4      1  train  qzimuostzz.mp4   \n",
       "4  acifjvzvpm.mp4      1  train  kbvibjhfzo.mp4   \n",
       "\n",
       "                                                path  \n",
       "0  D:\\W\\VS\\VS Folder\\DFD\\DFDC MTCNN Extracted\\aag...  \n",
       "1  D:\\W\\VS\\VS Folder\\DFD\\DFDC MTCNN Extracted\\aap...  \n",
       "2  D:\\W\\VS\\VS Folder\\DFD\\DFDC MTCNN Extracted\\aba...  \n",
       "3  D:\\W\\VS\\VS Folder\\DFD\\DFDC MTCNN Extracted\\abq...  \n",
       "4  D:\\W\\VS\\VS Folder\\DFD\\DFDC MTCNN Extracted\\aci...  "
      ]
     },
     "metadata": {},
     "output_type": "display_data"
    },
    {
     "name": "stdout",
     "output_type": "stream",
     "text": [
      "label\n",
      "0     76\n",
      "1    306\n",
      "Name: filename, dtype: int64\n"
     ]
    }
   ],
   "source": [
    "valid_train_df['label']=valid_train_df['label'].replace({'FAKE': 1, 'REAL': 0})\n",
    "display(valid_train_df.head())\n",
    "\n",
    "label_count = valid_train_df.groupby('label').count()['filename']\n",
    "print(label_count)\n",
    "\n",
    "x = valid_train_df['path'].to_numpy()\n",
    "y = valid_train_df['label'].to_numpy()\n",
    "\n",
    "x_train, x_val, y_train, y_val = train_test_split(x, y, test_size=0.3, random_state=224, stratify=y)\n",
    "\n",
    "np.savez('train_test_split.npz',\n",
    "         x_train=x_train,\n",
    "         x_val=x_val,\n",
    "         y_train=y_train,\n",
    "         y_val=y_val)"
   ]
  },
  {
   "cell_type": "markdown",
   "id": "8cbd86ca",
   "metadata": {},
   "source": [
    "# Training - Feature extraction and classifier"
   ]
  },
  {
   "cell_type": "code",
   "execution_count": 2,
   "id": "89cafb83",
   "metadata": {},
   "outputs": [],
   "source": [
    "data = np.load('train_test_split.npz', allow_pickle=True)\n",
    "x_train = data['x_train']\n",
    "y_train = data['y_train']"
   ]
  },
  {
   "cell_type": "markdown",
   "id": "c67fd378",
   "metadata": {},
   "source": [
    "### Model"
   ]
  },
  {
   "cell_type": "code",
   "execution_count": 3,
   "id": "639c2bc6",
   "metadata": {},
   "outputs": [],
   "source": [
    "\n",
    "class FocalLoss(nn.Module):\n",
    "    def __init__(self, alpha: float = -1, gamma: float = 0, reduction: str = 'mean'):\n",
    "        super().__init__()\n",
    "        self.alpha = alpha\n",
    "        self.gamma = gamma\n",
    "        self.reduction = reduction\n",
    "\n",
    "    def forward(self, inputs: torch.Tensor, targets: torch.Tensor) -> torch.Tensor:\n",
    "        return sigmoid_focal_loss(\n",
    "            inputs=inputs,\n",
    "            targets=targets,\n",
    "            alpha=self.alpha,\n",
    "            gamma=self.gamma,\n",
    "            reduction=self.reduction\n",
    "        )\n"
   ]
  },
  {
   "cell_type": "code",
   "execution_count": 4,
   "id": "1967d768",
   "metadata": {},
   "outputs": [
    {
     "name": "stderr",
     "output_type": "stream",
     "text": [
      "Using a slow image processor as `use_fast` is unset and a slow processor was saved with this model. `use_fast=True` will be the default behavior in v4.52, even if the model was saved with a slow processor. This will result in minor differences in outputs. You'll still be able to use a slow processor with `use_fast=False`.\n",
      "Some weights of SwinForImageClassification were not initialized from the model checkpoint at microsoft/swin-base-patch4-window7-224 and are newly initialized because the shapes did not match:\n",
      "- classifier.bias: found shape torch.Size([1000]) in the checkpoint and torch.Size([1]) in the model instantiated\n",
      "- classifier.weight: found shape torch.Size([1000, 1024]) in the checkpoint and torch.Size([1, 1024]) in the model instantiated\n",
      "You should probably TRAIN this model on a down-stream task to be able to use it for predictions and inference.\n"
     ]
    }
   ],
   "source": [
    "processor = AutoImageProcessor.from_pretrained(\"microsoft/swin-base-patch4-window7-224\")\n",
    "model = AutoModelForImageClassification.from_pretrained(\"microsoft/swin-base-patch4-window7-224\", num_labels=1, ignore_mismatched_sizes=True)\n",
    "# classifier = nn.Linear(768, 1)\n",
    "# criterion = nn.BCEWithLogitsLoss(reduction='mean')  # For binary classification\n",
    "\n",
    "criterion = FocalLoss(alpha=0.2, gamma=2.0, reduction='none')  # New focal loss\n"
   ]
  },
  {
   "cell_type": "code",
   "execution_count": 5,
   "id": "c65a592c",
   "metadata": {},
   "outputs": [
    {
     "name": "stdout",
     "output_type": "stream",
     "text": [
      "SwinForImageClassification(\n",
      "  (swin): SwinModel(\n",
      "    (embeddings): SwinEmbeddings(\n",
      "      (patch_embeddings): SwinPatchEmbeddings(\n",
      "        (projection): Conv2d(3, 128, kernel_size=(4, 4), stride=(4, 4))\n",
      "      )\n",
      "      (norm): LayerNorm((128,), eps=1e-05, elementwise_affine=True)\n",
      "      (dropout): Dropout(p=0.0, inplace=False)\n",
      "    )\n",
      "    (encoder): SwinEncoder(\n",
      "      (layers): ModuleList(\n",
      "        (0): SwinStage(\n",
      "          (blocks): ModuleList(\n",
      "            (0): SwinLayer(\n",
      "              (layernorm_before): LayerNorm((128,), eps=1e-05, elementwise_affine=True)\n",
      "              (attention): SwinAttention(\n",
      "                (self): SwinSelfAttention(\n",
      "                  (query): Linear(in_features=128, out_features=128, bias=True)\n",
      "                  (key): Linear(in_features=128, out_features=128, bias=True)\n",
      "                  (value): Linear(in_features=128, out_features=128, bias=True)\n",
      "                  (dropout): Dropout(p=0.0, inplace=False)\n",
      "                )\n",
      "                (output): SwinSelfOutput(\n",
      "                  (dense): Linear(in_features=128, out_features=128, bias=True)\n",
      "                  (dropout): Dropout(p=0.0, inplace=False)\n",
      "                )\n",
      "              )\n",
      "              (drop_path): Identity()\n",
      "              (layernorm_after): LayerNorm((128,), eps=1e-05, elementwise_affine=True)\n",
      "              (intermediate): SwinIntermediate(\n",
      "                (dense): Linear(in_features=128, out_features=512, bias=True)\n",
      "                (intermediate_act_fn): GELUActivation()\n",
      "              )\n",
      "              (output): SwinOutput(\n",
      "                (dense): Linear(in_features=512, out_features=128, bias=True)\n",
      "                (dropout): Dropout(p=0.0, inplace=False)\n",
      "              )\n",
      "            )\n",
      "            (1): SwinLayer(\n",
      "              (layernorm_before): LayerNorm((128,), eps=1e-05, elementwise_affine=True)\n",
      "              (attention): SwinAttention(\n",
      "                (self): SwinSelfAttention(\n",
      "                  (query): Linear(in_features=128, out_features=128, bias=True)\n",
      "                  (key): Linear(in_features=128, out_features=128, bias=True)\n",
      "                  (value): Linear(in_features=128, out_features=128, bias=True)\n",
      "                  (dropout): Dropout(p=0.0, inplace=False)\n",
      "                )\n",
      "                (output): SwinSelfOutput(\n",
      "                  (dense): Linear(in_features=128, out_features=128, bias=True)\n",
      "                  (dropout): Dropout(p=0.0, inplace=False)\n",
      "                )\n",
      "              )\n",
      "              (drop_path): SwinDropPath(p=0.004347826354205608)\n",
      "              (layernorm_after): LayerNorm((128,), eps=1e-05, elementwise_affine=True)\n",
      "              (intermediate): SwinIntermediate(\n",
      "                (dense): Linear(in_features=128, out_features=512, bias=True)\n",
      "                (intermediate_act_fn): GELUActivation()\n",
      "              )\n",
      "              (output): SwinOutput(\n",
      "                (dense): Linear(in_features=512, out_features=128, bias=True)\n",
      "                (dropout): Dropout(p=0.0, inplace=False)\n",
      "              )\n",
      "            )\n",
      "          )\n",
      "          (downsample): SwinPatchMerging(\n",
      "            (reduction): Linear(in_features=512, out_features=256, bias=False)\n",
      "            (norm): LayerNorm((512,), eps=1e-05, elementwise_affine=True)\n",
      "          )\n",
      "        )\n",
      "        (1): SwinStage(\n",
      "          (blocks): ModuleList(\n",
      "            (0): SwinLayer(\n",
      "              (layernorm_before): LayerNorm((256,), eps=1e-05, elementwise_affine=True)\n",
      "              (attention): SwinAttention(\n",
      "                (self): SwinSelfAttention(\n",
      "                  (query): Linear(in_features=256, out_features=256, bias=True)\n",
      "                  (key): Linear(in_features=256, out_features=256, bias=True)\n",
      "                  (value): Linear(in_features=256, out_features=256, bias=True)\n",
      "                  (dropout): Dropout(p=0.0, inplace=False)\n",
      "                )\n",
      "                (output): SwinSelfOutput(\n",
      "                  (dense): Linear(in_features=256, out_features=256, bias=True)\n",
      "                  (dropout): Dropout(p=0.0, inplace=False)\n",
      "                )\n",
      "              )\n",
      "              (drop_path): SwinDropPath(p=0.008695652708411217)\n",
      "              (layernorm_after): LayerNorm((256,), eps=1e-05, elementwise_affine=True)\n",
      "              (intermediate): SwinIntermediate(\n",
      "                (dense): Linear(in_features=256, out_features=1024, bias=True)\n",
      "                (intermediate_act_fn): GELUActivation()\n",
      "              )\n",
      "              (output): SwinOutput(\n",
      "                (dense): Linear(in_features=1024, out_features=256, bias=True)\n",
      "                (dropout): Dropout(p=0.0, inplace=False)\n",
      "              )\n",
      "            )\n",
      "            (1): SwinLayer(\n",
      "              (layernorm_before): LayerNorm((256,), eps=1e-05, elementwise_affine=True)\n",
      "              (attention): SwinAttention(\n",
      "                (self): SwinSelfAttention(\n",
      "                  (query): Linear(in_features=256, out_features=256, bias=True)\n",
      "                  (key): Linear(in_features=256, out_features=256, bias=True)\n",
      "                  (value): Linear(in_features=256, out_features=256, bias=True)\n",
      "                  (dropout): Dropout(p=0.0, inplace=False)\n",
      "                )\n",
      "                (output): SwinSelfOutput(\n",
      "                  (dense): Linear(in_features=256, out_features=256, bias=True)\n",
      "                  (dropout): Dropout(p=0.0, inplace=False)\n",
      "                )\n",
      "              )\n",
      "              (drop_path): SwinDropPath(p=0.013043479062616825)\n",
      "              (layernorm_after): LayerNorm((256,), eps=1e-05, elementwise_affine=True)\n",
      "              (intermediate): SwinIntermediate(\n",
      "                (dense): Linear(in_features=256, out_features=1024, bias=True)\n",
      "                (intermediate_act_fn): GELUActivation()\n",
      "              )\n",
      "              (output): SwinOutput(\n",
      "                (dense): Linear(in_features=1024, out_features=256, bias=True)\n",
      "                (dropout): Dropout(p=0.0, inplace=False)\n",
      "              )\n",
      "            )\n",
      "          )\n",
      "          (downsample): SwinPatchMerging(\n",
      "            (reduction): Linear(in_features=1024, out_features=512, bias=False)\n",
      "            (norm): LayerNorm((1024,), eps=1e-05, elementwise_affine=True)\n",
      "          )\n",
      "        )\n",
      "        (2): SwinStage(\n",
      "          (blocks): ModuleList(\n",
      "            (0): SwinLayer(\n",
      "              (layernorm_before): LayerNorm((512,), eps=1e-05, elementwise_affine=True)\n",
      "              (attention): SwinAttention(\n",
      "                (self): SwinSelfAttention(\n",
      "                  (query): Linear(in_features=512, out_features=512, bias=True)\n",
      "                  (key): Linear(in_features=512, out_features=512, bias=True)\n",
      "                  (value): Linear(in_features=512, out_features=512, bias=True)\n",
      "                  (dropout): Dropout(p=0.0, inplace=False)\n",
      "                )\n",
      "                (output): SwinSelfOutput(\n",
      "                  (dense): Linear(in_features=512, out_features=512, bias=True)\n",
      "                  (dropout): Dropout(p=0.0, inplace=False)\n",
      "                )\n",
      "              )\n",
      "              (drop_path): SwinDropPath(p=0.017391305416822433)\n",
      "              (layernorm_after): LayerNorm((512,), eps=1e-05, elementwise_affine=True)\n",
      "              (intermediate): SwinIntermediate(\n",
      "                (dense): Linear(in_features=512, out_features=2048, bias=True)\n",
      "                (intermediate_act_fn): GELUActivation()\n",
      "              )\n",
      "              (output): SwinOutput(\n",
      "                (dense): Linear(in_features=2048, out_features=512, bias=True)\n",
      "                (dropout): Dropout(p=0.0, inplace=False)\n",
      "              )\n",
      "            )\n",
      "            (1): SwinLayer(\n",
      "              (layernorm_before): LayerNorm((512,), eps=1e-05, elementwise_affine=True)\n",
      "              (attention): SwinAttention(\n",
      "                (self): SwinSelfAttention(\n",
      "                  (query): Linear(in_features=512, out_features=512, bias=True)\n",
      "                  (key): Linear(in_features=512, out_features=512, bias=True)\n",
      "                  (value): Linear(in_features=512, out_features=512, bias=True)\n",
      "                  (dropout): Dropout(p=0.0, inplace=False)\n",
      "                )\n",
      "                (output): SwinSelfOutput(\n",
      "                  (dense): Linear(in_features=512, out_features=512, bias=True)\n",
      "                  (dropout): Dropout(p=0.0, inplace=False)\n",
      "                )\n",
      "              )\n",
      "              (drop_path): SwinDropPath(p=0.021739132702350616)\n",
      "              (layernorm_after): LayerNorm((512,), eps=1e-05, elementwise_affine=True)\n",
      "              (intermediate): SwinIntermediate(\n",
      "                (dense): Linear(in_features=512, out_features=2048, bias=True)\n",
      "                (intermediate_act_fn): GELUActivation()\n",
      "              )\n",
      "              (output): SwinOutput(\n",
      "                (dense): Linear(in_features=2048, out_features=512, bias=True)\n",
      "                (dropout): Dropout(p=0.0, inplace=False)\n",
      "              )\n",
      "            )\n",
      "            (2): SwinLayer(\n",
      "              (layernorm_before): LayerNorm((512,), eps=1e-05, elementwise_affine=True)\n",
      "              (attention): SwinAttention(\n",
      "                (self): SwinSelfAttention(\n",
      "                  (query): Linear(in_features=512, out_features=512, bias=True)\n",
      "                  (key): Linear(in_features=512, out_features=512, bias=True)\n",
      "                  (value): Linear(in_features=512, out_features=512, bias=True)\n",
      "                  (dropout): Dropout(p=0.0, inplace=False)\n",
      "                )\n",
      "                (output): SwinSelfOutput(\n",
      "                  (dense): Linear(in_features=512, out_features=512, bias=True)\n",
      "                  (dropout): Dropout(p=0.0, inplace=False)\n",
      "                )\n",
      "              )\n",
      "              (drop_path): SwinDropPath(p=0.02608695812523365)\n",
      "              (layernorm_after): LayerNorm((512,), eps=1e-05, elementwise_affine=True)\n",
      "              (intermediate): SwinIntermediate(\n",
      "                (dense): Linear(in_features=512, out_features=2048, bias=True)\n",
      "                (intermediate_act_fn): GELUActivation()\n",
      "              )\n",
      "              (output): SwinOutput(\n",
      "                (dense): Linear(in_features=2048, out_features=512, bias=True)\n",
      "                (dropout): Dropout(p=0.0, inplace=False)\n",
      "              )\n",
      "            )\n",
      "            (3): SwinLayer(\n",
      "              (layernorm_before): LayerNorm((512,), eps=1e-05, elementwise_affine=True)\n",
      "              (attention): SwinAttention(\n",
      "                (self): SwinSelfAttention(\n",
      "                  (query): Linear(in_features=512, out_features=512, bias=True)\n",
      "                  (key): Linear(in_features=512, out_features=512, bias=True)\n",
      "                  (value): Linear(in_features=512, out_features=512, bias=True)\n",
      "                  (dropout): Dropout(p=0.0, inplace=False)\n",
      "                )\n",
      "                (output): SwinSelfOutput(\n",
      "                  (dense): Linear(in_features=512, out_features=512, bias=True)\n",
      "                  (dropout): Dropout(p=0.0, inplace=False)\n",
      "                )\n",
      "              )\n",
      "              (drop_path): SwinDropPath(p=0.030434783548116684)\n",
      "              (layernorm_after): LayerNorm((512,), eps=1e-05, elementwise_affine=True)\n",
      "              (intermediate): SwinIntermediate(\n",
      "                (dense): Linear(in_features=512, out_features=2048, bias=True)\n",
      "                (intermediate_act_fn): GELUActivation()\n",
      "              )\n",
      "              (output): SwinOutput(\n",
      "                (dense): Linear(in_features=2048, out_features=512, bias=True)\n",
      "                (dropout): Dropout(p=0.0, inplace=False)\n",
      "              )\n",
      "            )\n",
      "            (4): SwinLayer(\n",
      "              (layernorm_before): LayerNorm((512,), eps=1e-05, elementwise_affine=True)\n",
      "              (attention): SwinAttention(\n",
      "                (self): SwinSelfAttention(\n",
      "                  (query): Linear(in_features=512, out_features=512, bias=True)\n",
      "                  (key): Linear(in_features=512, out_features=512, bias=True)\n",
      "                  (value): Linear(in_features=512, out_features=512, bias=True)\n",
      "                  (dropout): Dropout(p=0.0, inplace=False)\n",
      "                )\n",
      "                (output): SwinSelfOutput(\n",
      "                  (dense): Linear(in_features=512, out_features=512, bias=True)\n",
      "                  (dropout): Dropout(p=0.0, inplace=False)\n",
      "                )\n",
      "              )\n",
      "              (drop_path): SwinDropPath(p=0.03478261083364487)\n",
      "              (layernorm_after): LayerNorm((512,), eps=1e-05, elementwise_affine=True)\n",
      "              (intermediate): SwinIntermediate(\n",
      "                (dense): Linear(in_features=512, out_features=2048, bias=True)\n",
      "                (intermediate_act_fn): GELUActivation()\n",
      "              )\n",
      "              (output): SwinOutput(\n",
      "                (dense): Linear(in_features=2048, out_features=512, bias=True)\n",
      "                (dropout): Dropout(p=0.0, inplace=False)\n",
      "              )\n",
      "            )\n",
      "            (5): SwinLayer(\n",
      "              (layernorm_before): LayerNorm((512,), eps=1e-05, elementwise_affine=True)\n",
      "              (attention): SwinAttention(\n",
      "                (self): SwinSelfAttention(\n",
      "                  (query): Linear(in_features=512, out_features=512, bias=True)\n",
      "                  (key): Linear(in_features=512, out_features=512, bias=True)\n",
      "                  (value): Linear(in_features=512, out_features=512, bias=True)\n",
      "                  (dropout): Dropout(p=0.0, inplace=False)\n",
      "                )\n",
      "                (output): SwinSelfOutput(\n",
      "                  (dense): Linear(in_features=512, out_features=512, bias=True)\n",
      "                  (dropout): Dropout(p=0.0, inplace=False)\n",
      "                )\n",
      "              )\n",
      "              (drop_path): SwinDropPath(p=0.03913043811917305)\n",
      "              (layernorm_after): LayerNorm((512,), eps=1e-05, elementwise_affine=True)\n",
      "              (intermediate): SwinIntermediate(\n",
      "                (dense): Linear(in_features=512, out_features=2048, bias=True)\n",
      "                (intermediate_act_fn): GELUActivation()\n",
      "              )\n",
      "              (output): SwinOutput(\n",
      "                (dense): Linear(in_features=2048, out_features=512, bias=True)\n",
      "                (dropout): Dropout(p=0.0, inplace=False)\n",
      "              )\n",
      "            )\n",
      "            (6): SwinLayer(\n",
      "              (layernorm_before): LayerNorm((512,), eps=1e-05, elementwise_affine=True)\n",
      "              (attention): SwinAttention(\n",
      "                (self): SwinSelfAttention(\n",
      "                  (query): Linear(in_features=512, out_features=512, bias=True)\n",
      "                  (key): Linear(in_features=512, out_features=512, bias=True)\n",
      "                  (value): Linear(in_features=512, out_features=512, bias=True)\n",
      "                  (dropout): Dropout(p=0.0, inplace=False)\n",
      "                )\n",
      "                (output): SwinSelfOutput(\n",
      "                  (dense): Linear(in_features=512, out_features=512, bias=True)\n",
      "                  (dropout): Dropout(p=0.0, inplace=False)\n",
      "                )\n",
      "              )\n",
      "              (drop_path): SwinDropPath(p=0.04347826540470123)\n",
      "              (layernorm_after): LayerNorm((512,), eps=1e-05, elementwise_affine=True)\n",
      "              (intermediate): SwinIntermediate(\n",
      "                (dense): Linear(in_features=512, out_features=2048, bias=True)\n",
      "                (intermediate_act_fn): GELUActivation()\n",
      "              )\n",
      "              (output): SwinOutput(\n",
      "                (dense): Linear(in_features=2048, out_features=512, bias=True)\n",
      "                (dropout): Dropout(p=0.0, inplace=False)\n",
      "              )\n",
      "            )\n",
      "            (7): SwinLayer(\n",
      "              (layernorm_before): LayerNorm((512,), eps=1e-05, elementwise_affine=True)\n",
      "              (attention): SwinAttention(\n",
      "                (self): SwinSelfAttention(\n",
      "                  (query): Linear(in_features=512, out_features=512, bias=True)\n",
      "                  (key): Linear(in_features=512, out_features=512, bias=True)\n",
      "                  (value): Linear(in_features=512, out_features=512, bias=True)\n",
      "                  (dropout): Dropout(p=0.0, inplace=False)\n",
      "                )\n",
      "                (output): SwinSelfOutput(\n",
      "                  (dense): Linear(in_features=512, out_features=512, bias=True)\n",
      "                  (dropout): Dropout(p=0.0, inplace=False)\n",
      "                )\n",
      "              )\n",
      "              (drop_path): SwinDropPath(p=0.04782608896493912)\n",
      "              (layernorm_after): LayerNorm((512,), eps=1e-05, elementwise_affine=True)\n",
      "              (intermediate): SwinIntermediate(\n",
      "                (dense): Linear(in_features=512, out_features=2048, bias=True)\n",
      "                (intermediate_act_fn): GELUActivation()\n",
      "              )\n",
      "              (output): SwinOutput(\n",
      "                (dense): Linear(in_features=2048, out_features=512, bias=True)\n",
      "                (dropout): Dropout(p=0.0, inplace=False)\n",
      "              )\n",
      "            )\n",
      "            (8): SwinLayer(\n",
      "              (layernorm_before): LayerNorm((512,), eps=1e-05, elementwise_affine=True)\n",
      "              (attention): SwinAttention(\n",
      "                (self): SwinSelfAttention(\n",
      "                  (query): Linear(in_features=512, out_features=512, bias=True)\n",
      "                  (key): Linear(in_features=512, out_features=512, bias=True)\n",
      "                  (value): Linear(in_features=512, out_features=512, bias=True)\n",
      "                  (dropout): Dropout(p=0.0, inplace=False)\n",
      "                )\n",
      "                (output): SwinSelfOutput(\n",
      "                  (dense): Linear(in_features=512, out_features=512, bias=True)\n",
      "                  (dropout): Dropout(p=0.0, inplace=False)\n",
      "                )\n",
      "              )\n",
      "              (drop_path): SwinDropPath(p=0.052173912525177)\n",
      "              (layernorm_after): LayerNorm((512,), eps=1e-05, elementwise_affine=True)\n",
      "              (intermediate): SwinIntermediate(\n",
      "                (dense): Linear(in_features=512, out_features=2048, bias=True)\n",
      "                (intermediate_act_fn): GELUActivation()\n",
      "              )\n",
      "              (output): SwinOutput(\n",
      "                (dense): Linear(in_features=2048, out_features=512, bias=True)\n",
      "                (dropout): Dropout(p=0.0, inplace=False)\n",
      "              )\n",
      "            )\n",
      "            (9): SwinLayer(\n",
      "              (layernorm_before): LayerNorm((512,), eps=1e-05, elementwise_affine=True)\n",
      "              (attention): SwinAttention(\n",
      "                (self): SwinSelfAttention(\n",
      "                  (query): Linear(in_features=512, out_features=512, bias=True)\n",
      "                  (key): Linear(in_features=512, out_features=512, bias=True)\n",
      "                  (value): Linear(in_features=512, out_features=512, bias=True)\n",
      "                  (dropout): Dropout(p=0.0, inplace=False)\n",
      "                )\n",
      "                (output): SwinSelfOutput(\n",
      "                  (dense): Linear(in_features=512, out_features=512, bias=True)\n",
      "                  (dropout): Dropout(p=0.0, inplace=False)\n",
      "                )\n",
      "              )\n",
      "              (drop_path): SwinDropPath(p=0.056521736085414886)\n",
      "              (layernorm_after): LayerNorm((512,), eps=1e-05, elementwise_affine=True)\n",
      "              (intermediate): SwinIntermediate(\n",
      "                (dense): Linear(in_features=512, out_features=2048, bias=True)\n",
      "                (intermediate_act_fn): GELUActivation()\n",
      "              )\n",
      "              (output): SwinOutput(\n",
      "                (dense): Linear(in_features=2048, out_features=512, bias=True)\n",
      "                (dropout): Dropout(p=0.0, inplace=False)\n",
      "              )\n",
      "            )\n",
      "            (10): SwinLayer(\n",
      "              (layernorm_before): LayerNorm((512,), eps=1e-05, elementwise_affine=True)\n",
      "              (attention): SwinAttention(\n",
      "                (self): SwinSelfAttention(\n",
      "                  (query): Linear(in_features=512, out_features=512, bias=True)\n",
      "                  (key): Linear(in_features=512, out_features=512, bias=True)\n",
      "                  (value): Linear(in_features=512, out_features=512, bias=True)\n",
      "                  (dropout): Dropout(p=0.0, inplace=False)\n",
      "                )\n",
      "                (output): SwinSelfOutput(\n",
      "                  (dense): Linear(in_features=512, out_features=512, bias=True)\n",
      "                  (dropout): Dropout(p=0.0, inplace=False)\n",
      "                )\n",
      "              )\n",
      "              (drop_path): SwinDropPath(p=0.06086956337094307)\n",
      "              (layernorm_after): LayerNorm((512,), eps=1e-05, elementwise_affine=True)\n",
      "              (intermediate): SwinIntermediate(\n",
      "                (dense): Linear(in_features=512, out_features=2048, bias=True)\n",
      "                (intermediate_act_fn): GELUActivation()\n",
      "              )\n",
      "              (output): SwinOutput(\n",
      "                (dense): Linear(in_features=2048, out_features=512, bias=True)\n",
      "                (dropout): Dropout(p=0.0, inplace=False)\n",
      "              )\n",
      "            )\n",
      "            (11): SwinLayer(\n",
      "              (layernorm_before): LayerNorm((512,), eps=1e-05, elementwise_affine=True)\n",
      "              (attention): SwinAttention(\n",
      "                (self): SwinSelfAttention(\n",
      "                  (query): Linear(in_features=512, out_features=512, bias=True)\n",
      "                  (key): Linear(in_features=512, out_features=512, bias=True)\n",
      "                  (value): Linear(in_features=512, out_features=512, bias=True)\n",
      "                  (dropout): Dropout(p=0.0, inplace=False)\n",
      "                )\n",
      "                (output): SwinSelfOutput(\n",
      "                  (dense): Linear(in_features=512, out_features=512, bias=True)\n",
      "                  (dropout): Dropout(p=0.0, inplace=False)\n",
      "                )\n",
      "              )\n",
      "              (drop_path): SwinDropPath(p=0.06521739065647125)\n",
      "              (layernorm_after): LayerNorm((512,), eps=1e-05, elementwise_affine=True)\n",
      "              (intermediate): SwinIntermediate(\n",
      "                (dense): Linear(in_features=512, out_features=2048, bias=True)\n",
      "                (intermediate_act_fn): GELUActivation()\n",
      "              )\n",
      "              (output): SwinOutput(\n",
      "                (dense): Linear(in_features=2048, out_features=512, bias=True)\n",
      "                (dropout): Dropout(p=0.0, inplace=False)\n",
      "              )\n",
      "            )\n",
      "            (12): SwinLayer(\n",
      "              (layernorm_before): LayerNorm((512,), eps=1e-05, elementwise_affine=True)\n",
      "              (attention): SwinAttention(\n",
      "                (self): SwinSelfAttention(\n",
      "                  (query): Linear(in_features=512, out_features=512, bias=True)\n",
      "                  (key): Linear(in_features=512, out_features=512, bias=True)\n",
      "                  (value): Linear(in_features=512, out_features=512, bias=True)\n",
      "                  (dropout): Dropout(p=0.0, inplace=False)\n",
      "                )\n",
      "                (output): SwinSelfOutput(\n",
      "                  (dense): Linear(in_features=512, out_features=512, bias=True)\n",
      "                  (dropout): Dropout(p=0.0, inplace=False)\n",
      "                )\n",
      "              )\n",
      "              (drop_path): SwinDropPath(p=0.06956522166728973)\n",
      "              (layernorm_after): LayerNorm((512,), eps=1e-05, elementwise_affine=True)\n",
      "              (intermediate): SwinIntermediate(\n",
      "                (dense): Linear(in_features=512, out_features=2048, bias=True)\n",
      "                (intermediate_act_fn): GELUActivation()\n",
      "              )\n",
      "              (output): SwinOutput(\n",
      "                (dense): Linear(in_features=2048, out_features=512, bias=True)\n",
      "                (dropout): Dropout(p=0.0, inplace=False)\n",
      "              )\n",
      "            )\n",
      "            (13): SwinLayer(\n",
      "              (layernorm_before): LayerNorm((512,), eps=1e-05, elementwise_affine=True)\n",
      "              (attention): SwinAttention(\n",
      "                (self): SwinSelfAttention(\n",
      "                  (query): Linear(in_features=512, out_features=512, bias=True)\n",
      "                  (key): Linear(in_features=512, out_features=512, bias=True)\n",
      "                  (value): Linear(in_features=512, out_features=512, bias=True)\n",
      "                  (dropout): Dropout(p=0.0, inplace=False)\n",
      "                )\n",
      "                (output): SwinSelfOutput(\n",
      "                  (dense): Linear(in_features=512, out_features=512, bias=True)\n",
      "                  (dropout): Dropout(p=0.0, inplace=False)\n",
      "                )\n",
      "              )\n",
      "              (drop_path): SwinDropPath(p=0.07391304522752762)\n",
      "              (layernorm_after): LayerNorm((512,), eps=1e-05, elementwise_affine=True)\n",
      "              (intermediate): SwinIntermediate(\n",
      "                (dense): Linear(in_features=512, out_features=2048, bias=True)\n",
      "                (intermediate_act_fn): GELUActivation()\n",
      "              )\n",
      "              (output): SwinOutput(\n",
      "                (dense): Linear(in_features=2048, out_features=512, bias=True)\n",
      "                (dropout): Dropout(p=0.0, inplace=False)\n",
      "              )\n",
      "            )\n",
      "            (14): SwinLayer(\n",
      "              (layernorm_before): LayerNorm((512,), eps=1e-05, elementwise_affine=True)\n",
      "              (attention): SwinAttention(\n",
      "                (self): SwinSelfAttention(\n",
      "                  (query): Linear(in_features=512, out_features=512, bias=True)\n",
      "                  (key): Linear(in_features=512, out_features=512, bias=True)\n",
      "                  (value): Linear(in_features=512, out_features=512, bias=True)\n",
      "                  (dropout): Dropout(p=0.0, inplace=False)\n",
      "                )\n",
      "                (output): SwinSelfOutput(\n",
      "                  (dense): Linear(in_features=512, out_features=512, bias=True)\n",
      "                  (dropout): Dropout(p=0.0, inplace=False)\n",
      "                )\n",
      "              )\n",
      "              (drop_path): SwinDropPath(p=0.0782608687877655)\n",
      "              (layernorm_after): LayerNorm((512,), eps=1e-05, elementwise_affine=True)\n",
      "              (intermediate): SwinIntermediate(\n",
      "                (dense): Linear(in_features=512, out_features=2048, bias=True)\n",
      "                (intermediate_act_fn): GELUActivation()\n",
      "              )\n",
      "              (output): SwinOutput(\n",
      "                (dense): Linear(in_features=2048, out_features=512, bias=True)\n",
      "                (dropout): Dropout(p=0.0, inplace=False)\n",
      "              )\n",
      "            )\n",
      "            (15): SwinLayer(\n",
      "              (layernorm_before): LayerNorm((512,), eps=1e-05, elementwise_affine=True)\n",
      "              (attention): SwinAttention(\n",
      "                (self): SwinSelfAttention(\n",
      "                  (query): Linear(in_features=512, out_features=512, bias=True)\n",
      "                  (key): Linear(in_features=512, out_features=512, bias=True)\n",
      "                  (value): Linear(in_features=512, out_features=512, bias=True)\n",
      "                  (dropout): Dropout(p=0.0, inplace=False)\n",
      "                )\n",
      "                (output): SwinSelfOutput(\n",
      "                  (dense): Linear(in_features=512, out_features=512, bias=True)\n",
      "                  (dropout): Dropout(p=0.0, inplace=False)\n",
      "                )\n",
      "              )\n",
      "              (drop_path): SwinDropPath(p=0.08260869979858398)\n",
      "              (layernorm_after): LayerNorm((512,), eps=1e-05, elementwise_affine=True)\n",
      "              (intermediate): SwinIntermediate(\n",
      "                (dense): Linear(in_features=512, out_features=2048, bias=True)\n",
      "                (intermediate_act_fn): GELUActivation()\n",
      "              )\n",
      "              (output): SwinOutput(\n",
      "                (dense): Linear(in_features=2048, out_features=512, bias=True)\n",
      "                (dropout): Dropout(p=0.0, inplace=False)\n",
      "              )\n",
      "            )\n",
      "            (16): SwinLayer(\n",
      "              (layernorm_before): LayerNorm((512,), eps=1e-05, elementwise_affine=True)\n",
      "              (attention): SwinAttention(\n",
      "                (self): SwinSelfAttention(\n",
      "                  (query): Linear(in_features=512, out_features=512, bias=True)\n",
      "                  (key): Linear(in_features=512, out_features=512, bias=True)\n",
      "                  (value): Linear(in_features=512, out_features=512, bias=True)\n",
      "                  (dropout): Dropout(p=0.0, inplace=False)\n",
      "                )\n",
      "                (output): SwinSelfOutput(\n",
      "                  (dense): Linear(in_features=512, out_features=512, bias=True)\n",
      "                  (dropout): Dropout(p=0.0, inplace=False)\n",
      "                )\n",
      "              )\n",
      "              (drop_path): SwinDropPath(p=0.08695652335882187)\n",
      "              (layernorm_after): LayerNorm((512,), eps=1e-05, elementwise_affine=True)\n",
      "              (intermediate): SwinIntermediate(\n",
      "                (dense): Linear(in_features=512, out_features=2048, bias=True)\n",
      "                (intermediate_act_fn): GELUActivation()\n",
      "              )\n",
      "              (output): SwinOutput(\n",
      "                (dense): Linear(in_features=2048, out_features=512, bias=True)\n",
      "                (dropout): Dropout(p=0.0, inplace=False)\n",
      "              )\n",
      "            )\n",
      "            (17): SwinLayer(\n",
      "              (layernorm_before): LayerNorm((512,), eps=1e-05, elementwise_affine=True)\n",
      "              (attention): SwinAttention(\n",
      "                (self): SwinSelfAttention(\n",
      "                  (query): Linear(in_features=512, out_features=512, bias=True)\n",
      "                  (key): Linear(in_features=512, out_features=512, bias=True)\n",
      "                  (value): Linear(in_features=512, out_features=512, bias=True)\n",
      "                  (dropout): Dropout(p=0.0, inplace=False)\n",
      "                )\n",
      "                (output): SwinSelfOutput(\n",
      "                  (dense): Linear(in_features=512, out_features=512, bias=True)\n",
      "                  (dropout): Dropout(p=0.0, inplace=False)\n",
      "                )\n",
      "              )\n",
      "              (drop_path): SwinDropPath(p=0.09130434691905975)\n",
      "              (layernorm_after): LayerNorm((512,), eps=1e-05, elementwise_affine=True)\n",
      "              (intermediate): SwinIntermediate(\n",
      "                (dense): Linear(in_features=512, out_features=2048, bias=True)\n",
      "                (intermediate_act_fn): GELUActivation()\n",
      "              )\n",
      "              (output): SwinOutput(\n",
      "                (dense): Linear(in_features=2048, out_features=512, bias=True)\n",
      "                (dropout): Dropout(p=0.0, inplace=False)\n",
      "              )\n",
      "            )\n",
      "          )\n",
      "          (downsample): SwinPatchMerging(\n",
      "            (reduction): Linear(in_features=2048, out_features=1024, bias=False)\n",
      "            (norm): LayerNorm((2048,), eps=1e-05, elementwise_affine=True)\n",
      "          )\n",
      "        )\n",
      "        (3): SwinStage(\n",
      "          (blocks): ModuleList(\n",
      "            (0): SwinLayer(\n",
      "              (layernorm_before): LayerNorm((1024,), eps=1e-05, elementwise_affine=True)\n",
      "              (attention): SwinAttention(\n",
      "                (self): SwinSelfAttention(\n",
      "                  (query): Linear(in_features=1024, out_features=1024, bias=True)\n",
      "                  (key): Linear(in_features=1024, out_features=1024, bias=True)\n",
      "                  (value): Linear(in_features=1024, out_features=1024, bias=True)\n",
      "                  (dropout): Dropout(p=0.0, inplace=False)\n",
      "                )\n",
      "                (output): SwinSelfOutput(\n",
      "                  (dense): Linear(in_features=1024, out_features=1024, bias=True)\n",
      "                  (dropout): Dropout(p=0.0, inplace=False)\n",
      "                )\n",
      "              )\n",
      "              (drop_path): SwinDropPath(p=0.09565217792987823)\n",
      "              (layernorm_after): LayerNorm((1024,), eps=1e-05, elementwise_affine=True)\n",
      "              (intermediate): SwinIntermediate(\n",
      "                (dense): Linear(in_features=1024, out_features=4096, bias=True)\n",
      "                (intermediate_act_fn): GELUActivation()\n",
      "              )\n",
      "              (output): SwinOutput(\n",
      "                (dense): Linear(in_features=4096, out_features=1024, bias=True)\n",
      "                (dropout): Dropout(p=0.0, inplace=False)\n",
      "              )\n",
      "            )\n",
      "            (1): SwinLayer(\n",
      "              (layernorm_before): LayerNorm((1024,), eps=1e-05, elementwise_affine=True)\n",
      "              (attention): SwinAttention(\n",
      "                (self): SwinSelfAttention(\n",
      "                  (query): Linear(in_features=1024, out_features=1024, bias=True)\n",
      "                  (key): Linear(in_features=1024, out_features=1024, bias=True)\n",
      "                  (value): Linear(in_features=1024, out_features=1024, bias=True)\n",
      "                  (dropout): Dropout(p=0.0, inplace=False)\n",
      "                )\n",
      "                (output): SwinSelfOutput(\n",
      "                  (dense): Linear(in_features=1024, out_features=1024, bias=True)\n",
      "                  (dropout): Dropout(p=0.0, inplace=False)\n",
      "                )\n",
      "              )\n",
      "              (drop_path): SwinDropPath(p=0.10000000149011612)\n",
      "              (layernorm_after): LayerNorm((1024,), eps=1e-05, elementwise_affine=True)\n",
      "              (intermediate): SwinIntermediate(\n",
      "                (dense): Linear(in_features=1024, out_features=4096, bias=True)\n",
      "                (intermediate_act_fn): GELUActivation()\n",
      "              )\n",
      "              (output): SwinOutput(\n",
      "                (dense): Linear(in_features=4096, out_features=1024, bias=True)\n",
      "                (dropout): Dropout(p=0.0, inplace=False)\n",
      "              )\n",
      "            )\n",
      "          )\n",
      "        )\n",
      "      )\n",
      "    )\n",
      "    (layernorm): LayerNorm((1024,), eps=1e-05, elementwise_affine=True)\n",
      "    (pooler): AdaptiveAvgPool1d(output_size=1)\n",
      "  )\n",
      "  (classifier): Linear(in_features=1024, out_features=1, bias=True)\n",
      ")\n"
     ]
    }
   ],
   "source": [
    "print(model)\n"
   ]
  },
  {
   "cell_type": "code",
   "execution_count": 5,
   "id": "dc2a9ecb",
   "metadata": {},
   "outputs": [
    {
     "name": "stdout",
     "output_type": "stream",
     "text": [
      "4 total layers\n"
     ]
    },
    {
     "data": {
      "text/plain": [
       "'Unfreezing layer: SwinStage(\\n  (blocks): ModuleList(\\n    (0): SwinLayer(\\n      (layernorm_before): LayerNorm((1024,), eps=1e-05, elementwise_affine=True)\\n      (attention): SwinAttention(\\n        (self): SwinSelfAttention(\\n          (query): Linear(in_features=1024, out_features=1024, bias=True)\\n          (key): Linear(in_features=1024, out_features=1024, bias=True)\\n          (value): Linear(in_features=1024, out_features=1024, bias=True)\\n          (dropout): Dropout(p=0.0, inplace=False)\\n        )\\n        (output): SwinSelfOutput(\\n          (dense): Linear(in_features=1024, out_features=1024, bias=True)\\n          (dropout): Dropout(p=0.0, inplace=False)\\n        )\\n      )\\n      (drop_path): SwinDropPath(p=0.09565217792987823)\\n      (layernorm_after): LayerNorm((1024,), eps=1e-05, elementwise_affine=True)\\n      (intermediate): SwinIntermediate(\\n        (dense): Linear(in_features=1024, out_features=4096, bias=True)\\n        (intermediate_act_fn): GELUActivation()\\n      )\\n      (output): SwinOutput(\\n        (dense): Linear(in_features=4096, out_features=1024, bias=True)\\n        (dropout): Dropout(p=0.0, inplace=False)\\n      )\\n    )\\n    (1): SwinLayer(\\n      (layernorm_before): LayerNorm((1024,), eps=1e-05, elementwise_affine=True)\\n      (attention): SwinAttention(\\n        (self): SwinSelfAttention(\\n          (query): Linear(in_features=1024, out_features=1024, bias=True)\\n          (key): Linear(in_features=1024, out_features=1024, bias=True)\\n          (value): Linear(in_features=1024, out_features=1024, bias=True)\\n          (dropout): Dropout(p=0.0, inplace=False)\\n        )\\n        (output): SwinSelfOutput(\\n          (dense): Linear(in_features=1024, out_features=1024, bias=True)\\n          (dropout): Dropout(p=0.0, inplace=False)\\n        )\\n      )\\n      (drop_path): SwinDropPath(p=0.10000000149011612)\\n      (layernorm_after): LayerNorm((1024,), eps=1e-05, elementwise_affine=True)\\n      (intermediate): SwinIntermediate(\\n        (dense): Linear(in_features=1024, out_features=4096, bias=True)\\n        (intermediate_act_fn): GELUActivation()\\n      )\\n      (output): SwinOutput(\\n        (dense): Linear(in_features=4096, out_features=1024, bias=True)\\n        (dropout): Dropout(p=0.0, inplace=False)\\n      )\\n    )\\n  )\\n)'"
      ]
     },
     "metadata": {},
     "output_type": "display_data"
    }
   ],
   "source": [
    "\n",
    "model = model.to(device)\n",
    "model.train()\n",
    "\n",
    "# freeze model parameters\n",
    "for param in model.parameters():\n",
    "    param.requires_grad = False\n",
    "\n",
    "print(len(model.swin.encoder.layers),\"total layers\")\n",
    "\n",
    "# unfreeze n layer parameters\n",
    "n = 1\n",
    "for layer in model.swin.encoder.layers[-n:]:\n",
    "    for param in layer.parameters():\n",
    "        param.requires_grad = True\n",
    "    display(f'Unfreezing layer: {layer}')\n",
    "\n",
    "for param in model.classifier.parameters():\n",
    "    param.requires_grad = True\n",
    "\n",
    "optimizer = torch.optim.Adam(\n",
    "    list(model.classifier.parameters()) +\n",
    "    [p for p in model.swin.encoder.parameters() if p.requires_grad == True],\n",
    "    lr=1e-4\n",
    ")\n",
    "\n",
    "\n",
    "\n"
   ]
  },
  {
   "cell_type": "markdown",
   "id": "ef9e2c97",
   "metadata": {},
   "source": [
    "### Train"
   ]
  },
  {
   "cell_type": "code",
   "execution_count": 6,
   "id": "53b69100",
   "metadata": {},
   "outputs": [
    {
     "name": "stdout",
     "output_type": "stream",
     "text": [
      "Loading existing model weights...\n",
      "Resuming training with loaded model weights.\n"
     ]
    },
    {
     "data": {
      "application/vnd.jupyter.widget-view+json": {
       "model_id": "1c963a4b627146afa5f0323ffc42b3df",
       "version_major": 2,
       "version_minor": 0
      },
      "text/plain": [
       "Epochs:   0%|          | 0/11 [00:00<?, ?it/s]"
      ]
     },
     "metadata": {},
     "output_type": "display_data"
    },
    {
     "data": {
      "application/vnd.jupyter.widget-view+json": {
       "model_id": "89f8ddfdc3034868a14d1fe3e6b5bb4f",
       "version_major": 2,
       "version_minor": 0
      },
      "text/plain": [
       "Videos:   0%|          | 0/267 [00:00<?, ?it/s]"
      ]
     },
     "metadata": {},
     "output_type": "display_data"
    },
    {
     "data": {
      "application/vnd.jupyter.widget-view+json": {
       "model_id": "db0d74885dee49fbafca0bc36c5001d9",
       "version_major": 2,
       "version_minor": 0
      },
      "text/plain": [
       "Videos:   0%|          | 0/267 [00:00<?, ?it/s]"
      ]
     },
     "metadata": {},
     "output_type": "display_data"
    },
    {
     "data": {
      "application/vnd.jupyter.widget-view+json": {
       "model_id": "28bbb44cdadc4ea4ba50cdc55da2c1d5",
       "version_major": 2,
       "version_minor": 0
      },
      "text/plain": [
       "Videos:   0%|          | 0/267 [00:00<?, ?it/s]"
      ]
     },
     "metadata": {},
     "output_type": "display_data"
    },
    {
     "data": {
      "application/vnd.jupyter.widget-view+json": {
       "model_id": "2adc98d5262747b68a040e22aae4648b",
       "version_major": 2,
       "version_minor": 0
      },
      "text/plain": [
       "Videos:   0%|          | 0/267 [00:00<?, ?it/s]"
      ]
     },
     "metadata": {},
     "output_type": "display_data"
    },
    {
     "data": {
      "application/vnd.jupyter.widget-view+json": {
       "model_id": "59731452837d4672816a13225b5eb72b",
       "version_major": 2,
       "version_minor": 0
      },
      "text/plain": [
       "Videos:   0%|          | 0/267 [00:00<?, ?it/s]"
      ]
     },
     "metadata": {},
     "output_type": "display_data"
    },
    {
     "data": {
      "application/vnd.jupyter.widget-view+json": {
       "model_id": "a80ba08dddbf4e03aad1aae72536cbdd",
       "version_major": 2,
       "version_minor": 0
      },
      "text/plain": [
       "Videos:   0%|          | 0/267 [00:00<?, ?it/s]"
      ]
     },
     "metadata": {},
     "output_type": "display_data"
    },
    {
     "data": {
      "application/vnd.jupyter.widget-view+json": {
       "model_id": "42a65fa58bb24c2ab27e0cbd3210cc82",
       "version_major": 2,
       "version_minor": 0
      },
      "text/plain": [
       "Videos:   0%|          | 0/267 [00:00<?, ?it/s]"
      ]
     },
     "metadata": {},
     "output_type": "display_data"
    },
    {
     "data": {
      "application/vnd.jupyter.widget-view+json": {
       "model_id": "19a4c2cb09e5429a98cc71847e2d247c",
       "version_major": 2,
       "version_minor": 0
      },
      "text/plain": [
       "Videos:   0%|          | 0/267 [00:00<?, ?it/s]"
      ]
     },
     "metadata": {},
     "output_type": "display_data"
    },
    {
     "data": {
      "application/vnd.jupyter.widget-view+json": {
       "model_id": "12344f84328243d2ae1d8b6efc8a851a",
       "version_major": 2,
       "version_minor": 0
      },
      "text/plain": [
       "Videos:   0%|          | 0/267 [00:00<?, ?it/s]"
      ]
     },
     "metadata": {},
     "output_type": "display_data"
    },
    {
     "data": {
      "application/vnd.jupyter.widget-view+json": {
       "model_id": "b4c03883cfbb4491aa055428e4982bfd",
       "version_major": 2,
       "version_minor": 0
      },
      "text/plain": [
       "Videos:   0%|          | 0/267 [00:00<?, ?it/s]"
      ]
     },
     "metadata": {},
     "output_type": "display_data"
    },
    {
     "data": {
      "application/vnd.jupyter.widget-view+json": {
       "model_id": "abef0c8bb1b94f19a88221f6ce6a1627",
       "version_major": 2,
       "version_minor": 0
      },
      "text/plain": [
       "Videos:   0%|          | 0/267 [00:00<?, ?it/s]"
      ]
     },
     "metadata": {},
     "output_type": "display_data"
    }
   ],
   "source": [
    "loss_path= 'focal_swin_base_train_loss.npy'\n",
    "model_path = 'focal_swin_base.pth'\n",
    "\n",
    "\n",
    "if os.path.exists(model_path):\n",
    "    print(\"Loading existing model weights...\")\n",
    "    model.load_state_dict(torch.load(model_path))\n",
    "    model = model.to(device)\n",
    "    print(\"Resuming training with loaded model weights.\")\n",
    "\n",
    "else:\n",
    "    print(\"Model weights not found, starting training...\")\n",
    "\n",
    "\n",
    "\n",
    "\n",
    "\n",
    "batch_size = 16\n",
    "labels = []\n",
    "video_paths = x_train\n",
    "video_labels = y_train\n",
    "total_batches = 0\n",
    "\n",
    "\n",
    "\n",
    "\n",
    "\n",
    "# x = ...  # your input tensor, shape (batch, 3, 224, 224)\n",
    "# outputs = vit(x)\n",
    "# cls_token = outputs.last_hidden_state[:, 0]  # [CLS] token\n",
    "# logits = classifier(cls_token)  # shape (batch, 1)\n",
    "\n",
    "num_epochs = 11  # Adjust as needed\n",
    "\n",
    "train_loss = np.zeros(num_epochs)\n",
    "\n",
    "start_time = time.time()\n",
    "\n",
    "epoch_bar = tqdm(range(num_epochs), desc='Epochs')\n",
    "for epoch in epoch_bar:\n",
    "    model.train()\n",
    "    # classifier.train()\n",
    "\n",
    "    # running_loss = 0.0\n",
    "    # total_batches = 0\n",
    "    epoch_loss = []\n",
    "    total_images = 0\n",
    "    correct = 0\n",
    "    probabs = []\n",
    "\n",
    "    video_bar = tqdm(zip(video_paths, video_labels),desc='Videos', total=len(video_paths))\n",
    "    for path, label in video_bar:\n",
    "        image_files = sorted([ os.path.join(path, f)\n",
    "        for f in os.listdir(path)\n",
    "        if f.lower().endswith('.png')\n",
    "        ])\n",
    "\n",
    "        labels.extend([label] * len(image_files))  # Repeat label for each image\n",
    "\n",
    "        video_run_loss=0.0\n",
    "        batches = 0\n",
    "\n",
    "        for i in range(0, len(image_files), batch_size):\n",
    "            batch_paths = image_files[i:i+batch_size]\n",
    "            images = [Image.open(p).convert(\"RGB\") for p in batch_paths]\n",
    "            inputs = processor(images=images, return_tensors=\"pt\")\n",
    "            inputs = {k: v.to(device) for k, v in inputs.items()}\n",
    "\n",
    "            batch_labels = torch.tensor([label] * len(images), dtype=torch.float).unsqueeze(1).to(device)\n",
    "\n",
    "            optimizer.zero_grad()\n",
    "\n",
    "            outputs = model(**inputs)\n",
    "            batch_logits = outputs.logits\n",
    "            loss = criterion(batch_logits, batch_labels)\n",
    "            mean_loss = loss.mean()\n",
    "            mean_loss.backward()\n",
    "            optimizer.step()\n",
    "\n",
    "            det_loss = loss.detach().cpu().flatten().tolist() \n",
    "            epoch_loss.extend(det_loss)  # Add to the list (flat, no extra dimension)\n",
    "            # running_loss += loss_item\n",
    "            video_run_loss += sum(det_loss)/len(det_loss) if len(det_loss) > 0 else 0\n",
    "\n",
    "            # loss_item = loss.item()\n",
    "            # running_loss += loss_item\n",
    "\n",
    "            prob=torch.sigmoid(batch_logits).detach().cpu().view(-1).tolist()\n",
    "            probabs.extend(prob)\n",
    "\n",
    "            preds = (torch.sigmoid(batch_logits) > 0.5).int()\n",
    "            correct += (preds == batch_labels.int()).sum().item()\n",
    "\n",
    "            batches += 1\n",
    "            # total_batches += 1\n",
    "            total_images += batch_labels.size(0)\n",
    "\n",
    "\n",
    "        video_loss = video_run_loss / batches if batches > 0 else 0\n",
    "        video_bar.set_postfix(Last_Loss=f'{video_loss:.4f}')\n",
    "        \n",
    "    # avg_loss = running_loss / total_batches if total_batches > 0 else 0\n",
    "    avg_loss = sum(epoch_loss) / total_images if total_images > 0 else 0\n",
    "    train_loss[epoch] = avg_loss\n",
    "    epoch_bar.set_postfix(Curr_Loss=f'{avg_loss:.4f}')\n",
    "\n",
    "    accuracy = correct / total_images if total_images > 0 else 0\n",
    "\n",
    "end_time = time.time()\n",
    "training_time = end_time - start_time\n",
    "\n",
    "# Save model backbone\n",
    "torch.save(model.state_dict(), model_path)\n",
    "# Saving training loss\n",
    "\n",
    "if os.path.exists(loss_path):\n",
    "    # loading existing training loss\n",
    "    training_loss = np.load(loss_path)\n",
    "    training_loss = np.concatenate((training_loss, train_loss))\n",
    "    np.save(loss_path, training_loss)\n",
    "\n",
    "else:\n",
    "    training_loss = train_loss\n",
    "    np.save(loss_path, training_loss)\n",
    "\n",
    "\n",
    "\n",
    "\n"
   ]
  },
  {
   "cell_type": "code",
   "execution_count": 15,
   "id": "080c21f4",
   "metadata": {},
   "outputs": [
    {
     "name": "stdout",
     "output_type": "stream",
     "text": [
      "Loading existing model weights...\n",
      "Resuming training with loaded model weights.\n"
     ]
    },
    {
     "data": {
      "application/vnd.jupyter.widget-view+json": {
       "model_id": "3ea4eb040e1f4b6a9a554458dd35da33",
       "version_major": 2,
       "version_minor": 0
      },
      "text/plain": [
       "Epochs:   0%|          | 0/1 [00:00<?, ?it/s]"
      ]
     },
     "metadata": {},
     "output_type": "display_data"
    },
    {
     "data": {
      "application/vnd.jupyter.widget-view+json": {
       "model_id": "368b30e0a6e14c2dab3b8cc1a88841ee",
       "version_major": 2,
       "version_minor": 0
      },
      "text/plain": [
       "Videos:   0%|          | 0/267 [00:00<?, ?it/s]"
      ]
     },
     "metadata": {},
     "output_type": "display_data"
    },
    {
     "ename": "KeyboardInterrupt",
     "evalue": "",
     "output_type": "error",
     "traceback": [
      "\u001b[31m---------------------------------------------------------------------------\u001b[39m",
      "\u001b[31mKeyboardInterrupt\u001b[39m                         Traceback (most recent call last)",
      "\u001b[36mCell\u001b[39m\u001b[36m \u001b[39m\u001b[32mIn[15]\u001b[39m\u001b[32m, line 67\u001b[39m\n\u001b[32m     65\u001b[39m \u001b[38;5;28;01mfor\u001b[39;00m i \u001b[38;5;129;01min\u001b[39;00m \u001b[38;5;28mrange\u001b[39m(\u001b[32m0\u001b[39m, \u001b[38;5;28mlen\u001b[39m(image_files), batch_size):\n\u001b[32m     66\u001b[39m     batch_paths = image_files[i:i+batch_size]\n\u001b[32m---> \u001b[39m\u001b[32m67\u001b[39m     images = [\u001b[43mImage\u001b[49m\u001b[43m.\u001b[49m\u001b[43mopen\u001b[49m\u001b[43m(\u001b[49m\u001b[43mp\u001b[49m\u001b[43m)\u001b[49m.convert(\u001b[33m\"\u001b[39m\u001b[33mRGB\u001b[39m\u001b[33m\"\u001b[39m) \u001b[38;5;28;01mfor\u001b[39;00m p \u001b[38;5;129;01min\u001b[39;00m batch_paths]\n\u001b[32m     68\u001b[39m     inputs = processor(images=images, return_tensors=\u001b[33m\"\u001b[39m\u001b[33mpt\u001b[39m\u001b[33m\"\u001b[39m)\n\u001b[32m     69\u001b[39m     inputs = {k: v.to(device) \u001b[38;5;28;01mfor\u001b[39;00m k, v \u001b[38;5;129;01min\u001b[39;00m inputs.items()}\n",
      "\u001b[36mFile \u001b[39m\u001b[32md:\\W\\VS\\VS Folder\\DFD\\env1\\Lib\\site-packages\\PIL\\Image.py:3469\u001b[39m, in \u001b[36mopen\u001b[39m\u001b[34m(fp, mode, formats)\u001b[39m\n\u001b[32m   3466\u001b[39m     filename = os.path.realpath(os.fspath(fp))\n\u001b[32m   3468\u001b[39m \u001b[38;5;28;01mif\u001b[39;00m filename:\n\u001b[32m-> \u001b[39m\u001b[32m3469\u001b[39m     fp = \u001b[43mbuiltins\u001b[49m\u001b[43m.\u001b[49m\u001b[43mopen\u001b[49m\u001b[43m(\u001b[49m\u001b[43mfilename\u001b[49m\u001b[43m,\u001b[49m\u001b[43m \u001b[49m\u001b[33;43m\"\u001b[39;49m\u001b[33;43mrb\u001b[39;49m\u001b[33;43m\"\u001b[39;49m\u001b[43m)\u001b[49m\n\u001b[32m   3470\u001b[39m     exclusive_fp = \u001b[38;5;28;01mTrue\u001b[39;00m\n\u001b[32m   3471\u001b[39m \u001b[38;5;28;01melse\u001b[39;00m:\n",
      "\u001b[31mKeyboardInterrupt\u001b[39m: "
     ]
    }
   ],
   "source": [
    "###################################################################################\n",
    "\n",
    "loss_path= 'focal_swin_base_train_loss.npy'\n",
    "model_path = 'focal_swin_base.pth'\n",
    "\n",
    "\n",
    "if os.path.exists(model_path):\n",
    "    print(\"Loading existing model weights...\")\n",
    "    model.load_state_dict(torch.load(model_path))\n",
    "    model = model.to(device)\n",
    "    print(\"Resuming training with loaded model weights.\")\n",
    "\n",
    "else:\n",
    "    print(\"Model weights not found, starting training...\")\n",
    "\n",
    "\n",
    "\n",
    "\n",
    "\n",
    "batch_size = 16\n",
    "labels = []\n",
    "video_paths = x_train\n",
    "video_labels = y_train\n",
    "total_batches = 0\n",
    "\n",
    "\n",
    "\n",
    "\n",
    "\n",
    "# x = ...  # your input tensor, shape (batch, 3, 224, 224)\n",
    "# outputs = vit(x)\n",
    "# cls_token = outputs.last_hidden_state[:, 0]  # [CLS] token\n",
    "# logits = classifier(cls_token)  # shape (batch, 1)\n",
    "\n",
    "num_epochs = 1  # Adjust as needed\n",
    "\n",
    "train_loss = np.zeros(num_epochs)\n",
    "\n",
    "start_time = time.time()\n",
    "\n",
    "epoch_bar = tqdm(range(num_epochs), desc='Epochs')\n",
    "for epoch in epoch_bar:\n",
    "    model.train()\n",
    "    # classifier.train()\n",
    "\n",
    "    # running_loss = 0.0\n",
    "    # total_batches = 0\n",
    "    epoch_loss = []\n",
    "    total_images = 0\n",
    "    correct = 0\n",
    "    probabs = []\n",
    "\n",
    "    video_bar = tqdm(zip(video_paths, video_labels),desc='Videos', total=len(video_paths))\n",
    "    for path, label in video_bar:\n",
    "        image_files = sorted([ os.path.join(path, f)\n",
    "        for f in os.listdir(path)\n",
    "        if f.lower().endswith('.png')\n",
    "        ])\n",
    "\n",
    "        labels.extend([label] * len(image_files))  # Repeat label for each image\n",
    "\n",
    "        video_run_loss=0.0\n",
    "        batches = 0\n",
    "\n",
    "        for i in range(0, len(image_files), batch_size):\n",
    "            batch_paths = image_files[i:i+batch_size]\n",
    "            images = [Image.open(p).convert(\"RGB\") for p in batch_paths]\n",
    "            inputs = processor(images=images, return_tensors=\"pt\")\n",
    "            inputs = {k: v.to(device) for k, v in inputs.items()}\n",
    "\n",
    "            batch_labels = torch.tensor([label] * len(images), dtype=torch.float).unsqueeze(1).to(device)\n",
    "\n",
    "            optimizer.zero_grad()\n",
    "\n",
    "            outputs = model(**inputs)\n",
    "            batch_logits = outputs.logits\n",
    "            loss = criterion(batch_logits, batch_labels)\n",
    "            mean_loss = loss.mean()\n",
    "            mean_loss.backward()\n",
    "            optimizer.step()\n",
    "\n",
    "            det_loss = loss.detach().cpu().flatten().tolist() \n",
    "            epoch_loss.extend(det_loss)  # Add to the list (flat, no extra dimension)\n",
    "            # running_loss += loss_item\n",
    "            video_run_loss += sum(det_loss)/len(det_loss) if len(det_loss) > 0 else 0\n",
    "\n",
    "            # loss_item = loss.item()\n",
    "            # running_loss += loss_item\n",
    "\n",
    "            prob=torch.sigmoid(batch_logits).detach().cpu().view(-1).tolist()\n",
    "            probabs.extend(prob)\n",
    "\n",
    "            preds = (torch.sigmoid(batch_logits) > 0.5).int()\n",
    "            correct += (preds == batch_labels.int()).sum().item()\n",
    "\n",
    "            batches += 1\n",
    "            # total_batches += 1\n",
    "            total_images += batch_labels.size(0)\n",
    "\n",
    "\n",
    "        video_loss = video_run_loss / batches if batches > 0 else 0\n",
    "        video_bar.set_postfix(Last_Loss=f'{video_loss:.4f}')\n",
    "        \n",
    "    # avg_loss = running_loss / total_batches if total_batches > 0 else 0\n",
    "    avg_loss = sum(epoch_loss) / total_images if total_images > 0 else 0\n",
    "    train_loss[epoch] = avg_loss\n",
    "    epoch_bar.set_postfix(Curr_Loss=f'{avg_loss:.4f}')\n",
    "\n",
    "    accuracy = correct / total_images if total_images > 0 else 0\n",
    "\n",
    "end_time = time.time()\n",
    "training_time = end_time - start_time\n",
    "\n",
    "# Save model backbone\n",
    "torch.save(model.state_dict(), model_path)\n",
    "# Saving training loss\n",
    "\n",
    "if os.path.exists(loss_path):\n",
    "    # loading existing training loss\n",
    "    training_loss = np.load(loss_path)\n",
    "    training_loss = np.concatenate((training_loss, train_loss))\n",
    "    np.save(loss_path, training_loss)\n",
    "\n",
    "else:\n",
    "    training_loss = train_loss\n",
    "    np.save(loss_path, training_loss)\n",
    "\n",
    "\n",
    "\n",
    "\n"
   ]
  },
  {
   "cell_type": "code",
   "execution_count": 7,
   "id": "36a7579b",
   "metadata": {},
   "outputs": [
    {
     "name": "stdout",
     "output_type": "stream",
     "text": [
      "torch.Size([12, 3, 224, 224])\n",
      "Number of Ephochs: 40\n",
      "Training completed in 291.86 minutes\n"
     ]
    }
   ],
   "source": [
    "print(inputs[\"pixel_values\"].shape)\n",
    "print(f\"Number of Ephochs: {len(training_loss)}\")\n",
    "print(f\"Training completed in {training_time/60:.2f} minutes\")\n",
    "\n"
   ]
  },
  {
   "cell_type": "markdown",
   "id": "017bd15f",
   "metadata": {},
   "source": [
    "Log Loss Graph"
   ]
  },
  {
   "cell_type": "code",
   "execution_count": 8,
   "id": "82d51d0b",
   "metadata": {},
   "outputs": [],
   "source": [
    "loss_path= 'focal_swin_base_train_loss.npy'\n",
    "training_loss = np.load(loss_path)\n"
   ]
  },
  {
   "cell_type": "code",
   "execution_count": 9,
   "id": "6ea5f2f0",
   "metadata": {},
   "outputs": [
    {
     "data": {
      "image/png": "[encoded data removed]",
      "text/plain": [
       "<Figure size 1600x800 with 1 Axes>"
      ]
     },
     "metadata": {},
     "output_type": "display_data"
    },
    {
     "name": "stdout",
     "output_type": "stream",
     "text": [
      "Last Training Log Loss: 0.0045\n"
     ]
    }
   ],
   "source": [
    "epochs = list(range(1, len(training_loss) + 1))\n",
    "plt.figure(figsize=(16, 8))\n",
    "plt.plot(epochs, training_loss)\n",
    "plt.title('Training Log Loss')\n",
    "plt.xlabel('Epoch')\n",
    "plt.ylabel('Average Log Loss')\n",
    "plt.show()\n",
    "\n",
    "print(f\"Last Training Log Loss: {training_loss[-1]:.4f}\")\n"
   ]
  },
  {
   "cell_type": "code",
   "execution_count": 10,
   "id": "0bc4bc59",
   "metadata": {},
   "outputs": [
    {
     "name": "stdout",
     "output_type": "stream",
     "text": [
      "Last Epoch Accuracy: 98.20%\n",
      "Last Epoch Log Loss: 0.0045\n"
     ]
    }
   ],
   "source": [
    "print(f\"Last Epoch Accuracy: {accuracy*100:.2f}%\")\n",
    "print(f\"Last Epoch Log Loss: {avg_loss:.4f}\")"
   ]
  },
  {
   "cell_type": "code",
   "execution_count": 11,
   "id": "7a9eb5d4",
   "metadata": {},
   "outputs": [
    {
     "data": {
      "text/plain": [
       "Text(1.5, 1.2, 'TF')"
      ]
     },
     "execution_count": 11,
     "metadata": {},
     "output_type": "execute_result"
    },
    {
     "data": {
      "image/png": "[encoded data removed]",
      "text/plain": [
       "<Figure size 600x400 with 1 Axes>"
      ]
     },
     "metadata": {},
     "output_type": "display_data"
    }
   ],
   "source": [
    "lab_list=labels[-len(probabs):]\n",
    "\n",
    "cm = confusion_matrix([int(x) for x in lab_list], [1 if p > 0.5 else 0 for p in probabs])\n",
    "plt.figure(figsize=(6, 4))\n",
    "sns.heatmap(cm, annot=True, fmt=\"d\", cmap=\"Blues\", cbar=False,\n",
    "            xticklabels=[\"Predicted Real\", \"Predicted Fake\"],\n",
    "            yticklabels=[\"Actual Real\", \"Actual Fake\"])\n",
    "plt.xlabel(\"Predicted\")\n",
    "plt.ylabel(\"Actual\")\n",
    "plt.title(\"Confusion Matrix (TF, FF, TR, FR)\")\n",
    "\n",
    "# Labels for clarity (optional)\n",
    "plt.text(0.5, 0.2, \"TR\", ha=\"center\", va=\"center\", color=\"black\", fontsize=12)\n",
    "plt.text(1.5, 0.2, \"FF\", ha=\"center\", va=\"center\", color=\"black\", fontsize=12)\n",
    "plt.text(0.5, 1.2, \"FR\", ha=\"center\", va=\"center\", color=\"black\", fontsize=12)\n",
    "plt.text(1.5, 1.2, \"TF\", ha=\"center\", va=\"center\", color=\"black\", fontsize=12)"
   ]
  },
  {
   "cell_type": "code",
   "execution_count": null,
   "id": "7687d3e6",
   "metadata": {},
   "outputs": [
    {
     "ename": "NameError",
     "evalue": "name 'lab_list' is not defined",
     "output_type": "error",
     "traceback": [
      "\u001b[31m---------------------------------------------------------------------------\u001b[39m",
      "\u001b[31mNameError\u001b[39m                                 Traceback (most recent call last)",
      "\u001b[36mCell\u001b[39m\u001b[36m \u001b[39m\u001b[32mIn[1]\u001b[39m\u001b[32m, line 4\u001b[39m\n\u001b[32m      1\u001b[39m CFR=\u001b[32m0\u001b[39m\n\u001b[32m      2\u001b[39m CFF=\u001b[32m0\u001b[39m\n\u001b[32m----> \u001b[39m\u001b[32m4\u001b[39m \u001b[38;5;28;01mfor\u001b[39;00m i \u001b[38;5;129;01min\u001b[39;00m \u001b[38;5;28mrange\u001b[39m(\u001b[38;5;28mlen\u001b[39m(\u001b[43mlab_list\u001b[49m)):\n\u001b[32m      5\u001b[39m     \u001b[38;5;28;01mif\u001b[39;00m lab_list[i]==\u001b[32m1\u001b[39m :\n\u001b[32m      6\u001b[39m         \u001b[38;5;28;01mif\u001b[39;00m probabs[i] < \u001b[32m0.2\u001b[39m:\n",
      "\u001b[31mNameError\u001b[39m: name 'lab_list' is not defined"
     ]
    }
   ],
   "source": [
    "CFR=0\n",
    "CFF=0\n",
    "\n",
    "for i in range(len(lab_list)):\n",
    "    if lab_list[i]==1 :\n",
    "        if probabs[i] < 0.2:\n",
    "            CFR+=1\n",
    "    else:\n",
    "        if probabs[i] > 0.7:\n",
    "            CFF+=1\n",
    "\n",
    "print(f\"Confident False Real: {CFR}\")\n",
    "print(f\"Confident False Fake: {CFF}\")"
   ]
  },
  {
   "cell_type": "markdown",
   "id": "879e9e48",
   "metadata": {},
   "source": [
    "# Validation"
   ]
  },
  {
   "cell_type": "code",
   "execution_count": 18,
   "id": "6b8072c0",
   "metadata": {},
   "outputs": [],
   "source": [
    "model.load_state_dict(torch.load('focal_swin_base.pth'))\n",
    "# classifier.load_state_dict(torch.load('vit_classifier_head.pth'))\n",
    "model = model.to(device)\n",
    "# classifier = classifier.to(device)\n",
    "\n"
   ]
  },
  {
   "cell_type": "markdown",
   "id": "9303bcfe",
   "metadata": {},
   "source": [
    "### Model and Data"
   ]
  },
  {
   "cell_type": "code",
   "execution_count": 19,
   "id": "572d85a5",
   "metadata": {},
   "outputs": [],
   "source": [
    "data = np.load('train_test_split.npz', allow_pickle=True)\n",
    "x_val = data['x_val']\n",
    "y_val = data['y_val']\n"
   ]
  },
  {
   "cell_type": "code",
   "execution_count": 20,
   "id": "328afd12",
   "metadata": {},
   "outputs": [
    {
     "data": {
      "application/vnd.jupyter.widget-view+json": {
       "model_id": "ea9c709933bf4b95b3b5f62bad4ec04f",
       "version_major": 2,
       "version_minor": 0
      },
      "text/plain": [
       "Videos:   0%|          | 0/115 [00:00<?, ?it/s]"
      ]
     },
     "metadata": {},
     "output_type": "display_data"
    },
    {
     "data": {
      "application/vnd.jupyter.widget-view+json": {
       "model_id": "f4f3ca832ff449cfb8183b15c56803a5",
       "version_major": 2,
       "version_minor": 0
      },
      "text/plain": [
       "Image Batches:   0%|          | 0/13 [00:00<?, ?it/s]"
      ]
     },
     "metadata": {},
     "output_type": "display_data"
    },
    {
     "data": {
      "application/vnd.jupyter.widget-view+json": {
       "model_id": "1392305b22274363a2e3759a947dbf50",
       "version_major": 2,
       "version_minor": 0
      },
      "text/plain": [
       "Image Batches:   0%|          | 0/25 [00:00<?, ?it/s]"
      ]
     },
     "metadata": {},
     "output_type": "display_data"
    },
    {
     "data": {
      "application/vnd.jupyter.widget-view+json": {
       "model_id": "34c73c84bdbe4bf58bff17a1acdde029",
       "version_major": 2,
       "version_minor": 0
      },
      "text/plain": [
       "Image Batches:   0%|          | 0/13 [00:00<?, ?it/s]"
      ]
     },
     "metadata": {},
     "output_type": "display_data"
    },
    {
     "data": {
      "application/vnd.jupyter.widget-view+json": {
       "model_id": "661d2bdc8d1042e09f7bb671b4632e84",
       "version_major": 2,
       "version_minor": 0
      },
      "text/plain": [
       "Image Batches:   0%|          | 0/13 [00:00<?, ?it/s]"
      ]
     },
     "metadata": {},
     "output_type": "display_data"
    },
    {
     "data": {
      "application/vnd.jupyter.widget-view+json": {
       "model_id": "ad71801237f14eebb947850a4c31765a",
       "version_major": 2,
       "version_minor": 0
      },
      "text/plain": [
       "Image Batches:   0%|          | 0/13 [00:00<?, ?it/s]"
      ]
     },
     "metadata": {},
     "output_type": "display_data"
    },
    {
     "data": {
      "application/vnd.jupyter.widget-view+json": {
       "model_id": "8bc31c41d5864fe2a76f4753de37ede0",
       "version_major": 2,
       "version_minor": 0
      },
      "text/plain": [
       "Image Batches:   0%|          | 0/13 [00:00<?, ?it/s]"
      ]
     },
     "metadata": {},
     "output_type": "display_data"
    },
    {
     "data": {
      "application/vnd.jupyter.widget-view+json": {
       "model_id": "535684dcfb4045a2a160134938634287",
       "version_major": 2,
       "version_minor": 0
      },
      "text/plain": [
       "Image Batches:   0%|          | 0/13 [00:00<?, ?it/s]"
      ]
     },
     "metadata": {},
     "output_type": "display_data"
    },
    {
     "data": {
      "application/vnd.jupyter.widget-view+json": {
       "model_id": "d7ea2608c269499db14120ef3320586a",
       "version_major": 2,
       "version_minor": 0
      },
      "text/plain": [
       "Image Batches:   0%|          | 0/13 [00:00<?, ?it/s]"
      ]
     },
     "metadata": {},
     "output_type": "display_data"
    },
    {
     "data": {
      "application/vnd.jupyter.widget-view+json": {
       "model_id": "cb70b78879164452bc7b3dfef7a39cf6",
       "version_major": 2,
       "version_minor": 0
      },
      "text/plain": [
       "Image Batches:   0%|          | 0/13 [00:00<?, ?it/s]"
      ]
     },
     "metadata": {},
     "output_type": "display_data"
    },
    {
     "data": {
      "application/vnd.jupyter.widget-view+json": {
       "model_id": "034ed7eac8294b9490f5e9fa327356db",
       "version_major": 2,
       "version_minor": 0
      },
      "text/plain": [
       "Image Batches:   0%|          | 0/13 [00:00<?, ?it/s]"
      ]
     },
     "metadata": {},
     "output_type": "display_data"
    },
    {
     "data": {
      "application/vnd.jupyter.widget-view+json": {
       "model_id": "34638fc011ac44a99f52064ea27f9b1c",
       "version_major": 2,
       "version_minor": 0
      },
      "text/plain": [
       "Image Batches:   0%|          | 0/14 [00:00<?, ?it/s]"
      ]
     },
     "metadata": {},
     "output_type": "display_data"
    },
    {
     "data": {
      "application/vnd.jupyter.widget-view+json": {
       "model_id": "3159d7405d904d47beb07e20cf66ae4e",
       "version_major": 2,
       "version_minor": 0
      },
      "text/plain": [
       "Image Batches:   0%|          | 0/13 [00:00<?, ?it/s]"
      ]
     },
     "metadata": {},
     "output_type": "display_data"
    },
    {
     "data": {
      "application/vnd.jupyter.widget-view+json": {
       "model_id": "1e7763dcfacf46778a25c70d1f3122c5",
       "version_major": 2,
       "version_minor": 0
      },
      "text/plain": [
       "Image Batches:   0%|          | 0/13 [00:00<?, ?it/s]"
      ]
     },
     "metadata": {},
     "output_type": "display_data"
    },
    {
     "data": {
      "application/vnd.jupyter.widget-view+json": {
       "model_id": "d93dfef4ac4d4eefa29a8a4cd08285c6",
       "version_major": 2,
       "version_minor": 0
      },
      "text/plain": [
       "Image Batches:   0%|          | 0/13 [00:00<?, ?it/s]"
      ]
     },
     "metadata": {},
     "output_type": "display_data"
    },
    {
     "data": {
      "application/vnd.jupyter.widget-view+json": {
       "model_id": "030c2aa68abf4b828c08a36d9afd50f4",
       "version_major": 2,
       "version_minor": 0
      },
      "text/plain": [
       "Image Batches:   0%|          | 0/13 [00:00<?, ?it/s]"
      ]
     },
     "metadata": {},
     "output_type": "display_data"
    },
    {
     "data": {
      "application/vnd.jupyter.widget-view+json": {
       "model_id": "7c6c655e5a3345daba30b77b3ff90ffc",
       "version_major": 2,
       "version_minor": 0
      },
      "text/plain": [
       "Image Batches:   0%|          | 0/13 [00:00<?, ?it/s]"
      ]
     },
     "metadata": {},
     "output_type": "display_data"
    },
    {
     "data": {
      "application/vnd.jupyter.widget-view+json": {
       "model_id": "9d0ebcab2c4d4d79926e3b9f4dd7fde3",
       "version_major": 2,
       "version_minor": 0
      },
      "text/plain": [
       "Image Batches:   0%|          | 0/14 [00:00<?, ?it/s]"
      ]
     },
     "metadata": {},
     "output_type": "display_data"
    },
    {
     "data": {
      "application/vnd.jupyter.widget-view+json": {
       "model_id": "996f46b0efd54b639ccec1c84d442a14",
       "version_major": 2,
       "version_minor": 0
      },
      "text/plain": [
       "Image Batches:   0%|          | 0/13 [00:00<?, ?it/s]"
      ]
     },
     "metadata": {},
     "output_type": "display_data"
    },
    {
     "data": {
      "application/vnd.jupyter.widget-view+json": {
       "model_id": "b57016c4c5054b54ac24dfd7f3657461",
       "version_major": 2,
       "version_minor": 0
      },
      "text/plain": [
       "Image Batches:   0%|          | 0/13 [00:00<?, ?it/s]"
      ]
     },
     "metadata": {},
     "output_type": "display_data"
    },
    {
     "data": {
      "application/vnd.jupyter.widget-view+json": {
       "model_id": "c7e06fcc5aa04b2f8d931f6eaa36be57",
       "version_major": 2,
       "version_minor": 0
      },
      "text/plain": [
       "Image Batches:   0%|          | 0/13 [00:00<?, ?it/s]"
      ]
     },
     "metadata": {},
     "output_type": "display_data"
    },
    {
     "data": {
      "application/vnd.jupyter.widget-view+json": {
       "model_id": "d7c4c87ab0234c9c8f9b047c0dd462e6",
       "version_major": 2,
       "version_minor": 0
      },
      "text/plain": [
       "Image Batches:   0%|          | 0/13 [00:00<?, ?it/s]"
      ]
     },
     "metadata": {},
     "output_type": "display_data"
    },
    {
     "data": {
      "application/vnd.jupyter.widget-view+json": {
       "model_id": "8c86494561a448dd8c01a1152246b409",
       "version_major": 2,
       "version_minor": 0
      },
      "text/plain": [
       "Image Batches:   0%|          | 0/13 [00:00<?, ?it/s]"
      ]
     },
     "metadata": {},
     "output_type": "display_data"
    },
    {
     "data": {
      "application/vnd.jupyter.widget-view+json": {
       "model_id": "fce2e5eb92be48f9b63594bfd4be8ac0",
       "version_major": 2,
       "version_minor": 0
      },
      "text/plain": [
       "Image Batches:   0%|          | 0/13 [00:00<?, ?it/s]"
      ]
     },
     "metadata": {},
     "output_type": "display_data"
    },
    {
     "data": {
      "application/vnd.jupyter.widget-view+json": {
       "model_id": "a15f5268816b42ce8c8bef5e06ace658",
       "version_major": 2,
       "version_minor": 0
      },
      "text/plain": [
       "Image Batches:   0%|          | 0/13 [00:00<?, ?it/s]"
      ]
     },
     "metadata": {},
     "output_type": "display_data"
    },
    {
     "data": {
      "application/vnd.jupyter.widget-view+json": {
       "model_id": "f049a3e3015e4d15a2408c6587ef6458",
       "version_major": 2,
       "version_minor": 0
      },
      "text/plain": [
       "Image Batches:   0%|          | 0/13 [00:00<?, ?it/s]"
      ]
     },
     "metadata": {},
     "output_type": "display_data"
    },
    {
     "data": {
      "application/vnd.jupyter.widget-view+json": {
       "model_id": "9f07bc2605394af49d77f98e79e2ac79",
       "version_major": 2,
       "version_minor": 0
      },
      "text/plain": [
       "Image Batches:   0%|          | 0/13 [00:00<?, ?it/s]"
      ]
     },
     "metadata": {},
     "output_type": "display_data"
    },
    {
     "data": {
      "application/vnd.jupyter.widget-view+json": {
       "model_id": "b1da11601543401f96530501c4e71dab",
       "version_major": 2,
       "version_minor": 0
      },
      "text/plain": [
       "Image Batches:   0%|          | 0/28 [00:00<?, ?it/s]"
      ]
     },
     "metadata": {},
     "output_type": "display_data"
    },
    {
     "data": {
      "application/vnd.jupyter.widget-view+json": {
       "model_id": "62fcccff8a9a446a8ed7d05cc2ce6b7a",
       "version_major": 2,
       "version_minor": 0
      },
      "text/plain": [
       "Image Batches:   0%|          | 0/13 [00:00<?, ?it/s]"
      ]
     },
     "metadata": {},
     "output_type": "display_data"
    },
    {
     "data": {
      "application/vnd.jupyter.widget-view+json": {
       "model_id": "5e113be7ae394519abc72b0c2242ee54",
       "version_major": 2,
       "version_minor": 0
      },
      "text/plain": [
       "Image Batches:   0%|          | 0/13 [00:00<?, ?it/s]"
      ]
     },
     "metadata": {},
     "output_type": "display_data"
    },
    {
     "data": {
      "application/vnd.jupyter.widget-view+json": {
       "model_id": "3343dff03acb49a8a078861899dbacaf",
       "version_major": 2,
       "version_minor": 0
      },
      "text/plain": [
       "Image Batches:   0%|          | 0/13 [00:00<?, ?it/s]"
      ]
     },
     "metadata": {},
     "output_type": "display_data"
    },
    {
     "data": {
      "application/vnd.jupyter.widget-view+json": {
       "model_id": "cd2385cdac98418aae4095d2d3181588",
       "version_major": 2,
       "version_minor": 0
      },
      "text/plain": [
       "Image Batches:   0%|          | 0/13 [00:00<?, ?it/s]"
      ]
     },
     "metadata": {},
     "output_type": "display_data"
    },
    {
     "data": {
      "application/vnd.jupyter.widget-view+json": {
       "model_id": "3cd1a6a461144c2abdf14b21f2d0381d",
       "version_major": 2,
       "version_minor": 0
      },
      "text/plain": [
       "Image Batches:   0%|          | 0/13 [00:00<?, ?it/s]"
      ]
     },
     "metadata": {},
     "output_type": "display_data"
    },
    {
     "data": {
      "application/vnd.jupyter.widget-view+json": {
       "model_id": "45fec826f9e649a7be90dc479e8d84d4",
       "version_major": 2,
       "version_minor": 0
      },
      "text/plain": [
       "Image Batches:   0%|          | 0/13 [00:00<?, ?it/s]"
      ]
     },
     "metadata": {},
     "output_type": "display_data"
    },
    {
     "data": {
      "application/vnd.jupyter.widget-view+json": {
       "model_id": "d6fbf40bcb0a4d5e8ad524552b757ec5",
       "version_major": 2,
       "version_minor": 0
      },
      "text/plain": [
       "Image Batches:   0%|          | 0/13 [00:00<?, ?it/s]"
      ]
     },
     "metadata": {},
     "output_type": "display_data"
    },
    {
     "data": {
      "application/vnd.jupyter.widget-view+json": {
       "model_id": "a57f7dd9dea447c99c20f3d2e309c3db",
       "version_major": 2,
       "version_minor": 0
      },
      "text/plain": [
       "Image Batches:   0%|          | 0/13 [00:00<?, ?it/s]"
      ]
     },
     "metadata": {},
     "output_type": "display_data"
    },
    {
     "data": {
      "application/vnd.jupyter.widget-view+json": {
       "model_id": "726bcb99445a4836bf20ebf63a6f1785",
       "version_major": 2,
       "version_minor": 0
      },
      "text/plain": [
       "Image Batches:   0%|          | 0/13 [00:00<?, ?it/s]"
      ]
     },
     "metadata": {},
     "output_type": "display_data"
    },
    {
     "data": {
      "application/vnd.jupyter.widget-view+json": {
       "model_id": "01446ec4cd9e40c9ba110749335ffcbc",
       "version_major": 2,
       "version_minor": 0
      },
      "text/plain": [
       "Image Batches:   0%|          | 0/13 [00:00<?, ?it/s]"
      ]
     },
     "metadata": {},
     "output_type": "display_data"
    },
    {
     "data": {
      "application/vnd.jupyter.widget-view+json": {
       "model_id": "134dcc37449847958a2e31e129b9e461",
       "version_major": 2,
       "version_minor": 0
      },
      "text/plain": [
       "Image Batches:   0%|          | 0/13 [00:00<?, ?it/s]"
      ]
     },
     "metadata": {},
     "output_type": "display_data"
    },
    {
     "data": {
      "application/vnd.jupyter.widget-view+json": {
       "model_id": "40c29c8f53bb477c9077241237821e9f",
       "version_major": 2,
       "version_minor": 0
      },
      "text/plain": [
       "Image Batches:   0%|          | 0/13 [00:00<?, ?it/s]"
      ]
     },
     "metadata": {},
     "output_type": "display_data"
    },
    {
     "data": {
      "application/vnd.jupyter.widget-view+json": {
       "model_id": "fc340df96e594f0c9a78e73e5a02fcd3",
       "version_major": 2,
       "version_minor": 0
      },
      "text/plain": [
       "Image Batches:   0%|          | 0/13 [00:00<?, ?it/s]"
      ]
     },
     "metadata": {},
     "output_type": "display_data"
    },
    {
     "data": {
      "application/vnd.jupyter.widget-view+json": {
       "model_id": "48ac544c11a6473f88247aa5529b8b36",
       "version_major": 2,
       "version_minor": 0
      },
      "text/plain": [
       "Image Batches:   0%|          | 0/26 [00:00<?, ?it/s]"
      ]
     },
     "metadata": {},
     "output_type": "display_data"
    },
    {
     "data": {
      "application/vnd.jupyter.widget-view+json": {
       "model_id": "2c04481a7d8444648661cfe064bff9ef",
       "version_major": 2,
       "version_minor": 0
      },
      "text/plain": [
       "Image Batches:   0%|          | 0/14 [00:00<?, ?it/s]"
      ]
     },
     "metadata": {},
     "output_type": "display_data"
    },
    {
     "data": {
      "application/vnd.jupyter.widget-view+json": {
       "model_id": "27dd0fe8978741aba752ac82429e0439",
       "version_major": 2,
       "version_minor": 0
      },
      "text/plain": [
       "Image Batches:   0%|          | 0/13 [00:00<?, ?it/s]"
      ]
     },
     "metadata": {},
     "output_type": "display_data"
    },
    {
     "data": {
      "application/vnd.jupyter.widget-view+json": {
       "model_id": "6addfebc03d7444d8b055e3b1770d54f",
       "version_major": 2,
       "version_minor": 0
      },
      "text/plain": [
       "Image Batches:   0%|          | 0/13 [00:00<?, ?it/s]"
      ]
     },
     "metadata": {},
     "output_type": "display_data"
    },
    {
     "data": {
      "application/vnd.jupyter.widget-view+json": {
       "model_id": "d0c5985d5e2c4848abfccb02939d8a0a",
       "version_major": 2,
       "version_minor": 0
      },
      "text/plain": [
       "Image Batches:   0%|          | 0/13 [00:00<?, ?it/s]"
      ]
     },
     "metadata": {},
     "output_type": "display_data"
    },
    {
     "data": {
      "application/vnd.jupyter.widget-view+json": {
       "model_id": "00f14d03c52d41788860e3f04d90630e",
       "version_major": 2,
       "version_minor": 0
      },
      "text/plain": [
       "Image Batches:   0%|          | 0/13 [00:00<?, ?it/s]"
      ]
     },
     "metadata": {},
     "output_type": "display_data"
    },
    {
     "data": {
      "application/vnd.jupyter.widget-view+json": {
       "model_id": "51f9f1299f914227b83394138dd2adb1",
       "version_major": 2,
       "version_minor": 0
      },
      "text/plain": [
       "Image Batches:   0%|          | 0/13 [00:00<?, ?it/s]"
      ]
     },
     "metadata": {},
     "output_type": "display_data"
    },
    {
     "data": {
      "application/vnd.jupyter.widget-view+json": {
       "model_id": "1e3f0cf226a740b0935a66c3ffe23ccf",
       "version_major": 2,
       "version_minor": 0
      },
      "text/plain": [
       "Image Batches:   0%|          | 0/13 [00:00<?, ?it/s]"
      ]
     },
     "metadata": {},
     "output_type": "display_data"
    },
    {
     "data": {
      "application/vnd.jupyter.widget-view+json": {
       "model_id": "ffe9f9111c774cdfb4c96f421262470f",
       "version_major": 2,
       "version_minor": 0
      },
      "text/plain": [
       "Image Batches:   0%|          | 0/13 [00:00<?, ?it/s]"
      ]
     },
     "metadata": {},
     "output_type": "display_data"
    },
    {
     "data": {
      "application/vnd.jupyter.widget-view+json": {
       "model_id": "6e5630b2af3949719008a8949ec97571",
       "version_major": 2,
       "version_minor": 0
      },
      "text/plain": [
       "Image Batches:   0%|          | 0/13 [00:00<?, ?it/s]"
      ]
     },
     "metadata": {},
     "output_type": "display_data"
    },
    {
     "data": {
      "application/vnd.jupyter.widget-view+json": {
       "model_id": "9a618fd26aea48cf8189e2eedc659e37",
       "version_major": 2,
       "version_minor": 0
      },
      "text/plain": [
       "Image Batches:   0%|          | 0/26 [00:00<?, ?it/s]"
      ]
     },
     "metadata": {},
     "output_type": "display_data"
    },
    {
     "data": {
      "application/vnd.jupyter.widget-view+json": {
       "model_id": "1e5461e3a1a1414caf22722241cddc73",
       "version_major": 2,
       "version_minor": 0
      },
      "text/plain": [
       "Image Batches:   0%|          | 0/14 [00:00<?, ?it/s]"
      ]
     },
     "metadata": {},
     "output_type": "display_data"
    },
    {
     "data": {
      "application/vnd.jupyter.widget-view+json": {
       "model_id": "ce79aea79b85416e9cc54ca4a476bbc2",
       "version_major": 2,
       "version_minor": 0
      },
      "text/plain": [
       "Image Batches:   0%|          | 0/13 [00:00<?, ?it/s]"
      ]
     },
     "metadata": {},
     "output_type": "display_data"
    },
    {
     "data": {
      "application/vnd.jupyter.widget-view+json": {
       "model_id": "157ed231649b41c787389640dff12988",
       "version_major": 2,
       "version_minor": 0
      },
      "text/plain": [
       "Image Batches:   0%|          | 0/13 [00:00<?, ?it/s]"
      ]
     },
     "metadata": {},
     "output_type": "display_data"
    },
    {
     "data": {
      "application/vnd.jupyter.widget-view+json": {
       "model_id": "da2ceab20b024d4ca90e7c7f9ede98a2",
       "version_major": 2,
       "version_minor": 0
      },
      "text/plain": [
       "Image Batches:   0%|          | 0/13 [00:00<?, ?it/s]"
      ]
     },
     "metadata": {},
     "output_type": "display_data"
    },
    {
     "data": {
      "application/vnd.jupyter.widget-view+json": {
       "model_id": "b91deddc5f85430ba34ad42d83de9ab4",
       "version_major": 2,
       "version_minor": 0
      },
      "text/plain": [
       "Image Batches:   0%|          | 0/13 [00:00<?, ?it/s]"
      ]
     },
     "metadata": {},
     "output_type": "display_data"
    },
    {
     "data": {
      "application/vnd.jupyter.widget-view+json": {
       "model_id": "51be883ded164d1e8af2f74948e3bb4c",
       "version_major": 2,
       "version_minor": 0
      },
      "text/plain": [
       "Image Batches:   0%|          | 0/13 [00:00<?, ?it/s]"
      ]
     },
     "metadata": {},
     "output_type": "display_data"
    },
    {
     "data": {
      "application/vnd.jupyter.widget-view+json": {
       "model_id": "a56400e73b6641cabcd00f85ace0febe",
       "version_major": 2,
       "version_minor": 0
      },
      "text/plain": [
       "Image Batches:   0%|          | 0/13 [00:00<?, ?it/s]"
      ]
     },
     "metadata": {},
     "output_type": "display_data"
    },
    {
     "data": {
      "application/vnd.jupyter.widget-view+json": {
       "model_id": "436582b55af24cb09cdcd8cefcec6e2f",
       "version_major": 2,
       "version_minor": 0
      },
      "text/plain": [
       "Image Batches:   0%|          | 0/13 [00:00<?, ?it/s]"
      ]
     },
     "metadata": {},
     "output_type": "display_data"
    },
    {
     "data": {
      "application/vnd.jupyter.widget-view+json": {
       "model_id": "8e78cc7efb774576b530f4655faf74d4",
       "version_major": 2,
       "version_minor": 0
      },
      "text/plain": [
       "Image Batches:   0%|          | 0/13 [00:00<?, ?it/s]"
      ]
     },
     "metadata": {},
     "output_type": "display_data"
    },
    {
     "data": {
      "application/vnd.jupyter.widget-view+json": {
       "model_id": "cfd04b1d2d1b4743a378b2ef214226ad",
       "version_major": 2,
       "version_minor": 0
      },
      "text/plain": [
       "Image Batches:   0%|          | 0/29 [00:00<?, ?it/s]"
      ]
     },
     "metadata": {},
     "output_type": "display_data"
    },
    {
     "data": {
      "application/vnd.jupyter.widget-view+json": {
       "model_id": "2d94de47f4d54ea58be802f1ff89845f",
       "version_major": 2,
       "version_minor": 0
      },
      "text/plain": [
       "Image Batches:   0%|          | 0/13 [00:00<?, ?it/s]"
      ]
     },
     "metadata": {},
     "output_type": "display_data"
    },
    {
     "data": {
      "application/vnd.jupyter.widget-view+json": {
       "model_id": "7ac4c4da561644cf9b23f89ea0260df4",
       "version_major": 2,
       "version_minor": 0
      },
      "text/plain": [
       "Image Batches:   0%|          | 0/13 [00:00<?, ?it/s]"
      ]
     },
     "metadata": {},
     "output_type": "display_data"
    },
    {
     "data": {
      "application/vnd.jupyter.widget-view+json": {
       "model_id": "1fe25fc89cc241a3b95a4d83a2540e0c",
       "version_major": 2,
       "version_minor": 0
      },
      "text/plain": [
       "Image Batches:   0%|          | 0/13 [00:00<?, ?it/s]"
      ]
     },
     "metadata": {},
     "output_type": "display_data"
    },
    {
     "data": {
      "application/vnd.jupyter.widget-view+json": {
       "model_id": "397a32ac77b34ed991e95563b6c06968",
       "version_major": 2,
       "version_minor": 0
      },
      "text/plain": [
       "Image Batches:   0%|          | 0/14 [00:00<?, ?it/s]"
      ]
     },
     "metadata": {},
     "output_type": "display_data"
    },
    {
     "data": {
      "application/vnd.jupyter.widget-view+json": {
       "model_id": "143c8ec7f33a46be8a5dde3ca691a79a",
       "version_major": 2,
       "version_minor": 0
      },
      "text/plain": [
       "Image Batches:   0%|          | 0/13 [00:00<?, ?it/s]"
      ]
     },
     "metadata": {},
     "output_type": "display_data"
    },
    {
     "data": {
      "application/vnd.jupyter.widget-view+json": {
       "model_id": "15dbab4410da4391a562ffc000d62767",
       "version_major": 2,
       "version_minor": 0
      },
      "text/plain": [
       "Image Batches:   0%|          | 0/13 [00:00<?, ?it/s]"
      ]
     },
     "metadata": {},
     "output_type": "display_data"
    },
    {
     "data": {
      "application/vnd.jupyter.widget-view+json": {
       "model_id": "f7782c0f26dc43a3bcfe87cad0fbd57d",
       "version_major": 2,
       "version_minor": 0
      },
      "text/plain": [
       "Image Batches:   0%|          | 0/13 [00:00<?, ?it/s]"
      ]
     },
     "metadata": {},
     "output_type": "display_data"
    },
    {
     "data": {
      "application/vnd.jupyter.widget-view+json": {
       "model_id": "fb7a8c9c95fb4ec291c1a302bc73442e",
       "version_major": 2,
       "version_minor": 0
      },
      "text/plain": [
       "Image Batches:   0%|          | 0/13 [00:00<?, ?it/s]"
      ]
     },
     "metadata": {},
     "output_type": "display_data"
    },
    {
     "data": {
      "application/vnd.jupyter.widget-view+json": {
       "model_id": "ff1eb40e17bc4f9080e101ff9525b555",
       "version_major": 2,
       "version_minor": 0
      },
      "text/plain": [
       "Image Batches:   0%|          | 0/13 [00:00<?, ?it/s]"
      ]
     },
     "metadata": {},
     "output_type": "display_data"
    },
    {
     "data": {
      "application/vnd.jupyter.widget-view+json": {
       "model_id": "a661e6dde6974952983ea7e965cae00a",
       "version_major": 2,
       "version_minor": 0
      },
      "text/plain": [
       "Image Batches:   0%|          | 0/13 [00:00<?, ?it/s]"
      ]
     },
     "metadata": {},
     "output_type": "display_data"
    },
    {
     "data": {
      "application/vnd.jupyter.widget-view+json": {
       "model_id": "76d44726c631463c933ccdd89e96068c",
       "version_major": 2,
       "version_minor": 0
      },
      "text/plain": [
       "Image Batches:   0%|          | 0/15 [00:00<?, ?it/s]"
      ]
     },
     "metadata": {},
     "output_type": "display_data"
    },
    {
     "data": {
      "application/vnd.jupyter.widget-view+json": {
       "model_id": "6d11137a0c30431095b6c1f19612ced5",
       "version_major": 2,
       "version_minor": 0
      },
      "text/plain": [
       "Image Batches:   0%|          | 0/13 [00:00<?, ?it/s]"
      ]
     },
     "metadata": {},
     "output_type": "display_data"
    },
    {
     "data": {
      "application/vnd.jupyter.widget-view+json": {
       "model_id": "23fa95be122a40ffb21742465f2b018f",
       "version_major": 2,
       "version_minor": 0
      },
      "text/plain": [
       "Image Batches:   0%|          | 0/11 [00:00<?, ?it/s]"
      ]
     },
     "metadata": {},
     "output_type": "display_data"
    },
    {
     "data": {
      "application/vnd.jupyter.widget-view+json": {
       "model_id": "d68d60cabb774a868fce80914666f533",
       "version_major": 2,
       "version_minor": 0
      },
      "text/plain": [
       "Image Batches:   0%|          | 0/13 [00:00<?, ?it/s]"
      ]
     },
     "metadata": {},
     "output_type": "display_data"
    },
    {
     "data": {
      "application/vnd.jupyter.widget-view+json": {
       "model_id": "adfe6432195141ecb66efcb6cb261fa2",
       "version_major": 2,
       "version_minor": 0
      },
      "text/plain": [
       "Image Batches:   0%|          | 0/15 [00:00<?, ?it/s]"
      ]
     },
     "metadata": {},
     "output_type": "display_data"
    },
    {
     "data": {
      "application/vnd.jupyter.widget-view+json": {
       "model_id": "3f57d9b2ba8847bea2c71ff694cbf036",
       "version_major": 2,
       "version_minor": 0
      },
      "text/plain": [
       "Image Batches:   0%|          | 0/13 [00:00<?, ?it/s]"
      ]
     },
     "metadata": {},
     "output_type": "display_data"
    },
    {
     "data": {
      "application/vnd.jupyter.widget-view+json": {
       "model_id": "575fa424eaf747c5960b706bcb91033c",
       "version_major": 2,
       "version_minor": 0
      },
      "text/plain": [
       "Image Batches:   0%|          | 0/13 [00:00<?, ?it/s]"
      ]
     },
     "metadata": {},
     "output_type": "display_data"
    },
    {
     "data": {
      "application/vnd.jupyter.widget-view+json": {
       "model_id": "f50fabd0fa394ee9ac1580c218e1f6f9",
       "version_major": 2,
       "version_minor": 0
      },
      "text/plain": [
       "Image Batches:   0%|          | 0/13 [00:00<?, ?it/s]"
      ]
     },
     "metadata": {},
     "output_type": "display_data"
    },
    {
     "data": {
      "application/vnd.jupyter.widget-view+json": {
       "model_id": "c1bcf7aad7a54c0eb54d3d22197cfb95",
       "version_major": 2,
       "version_minor": 0
      },
      "text/plain": [
       "Image Batches:   0%|          | 0/13 [00:00<?, ?it/s]"
      ]
     },
     "metadata": {},
     "output_type": "display_data"
    },
    {
     "data": {
      "application/vnd.jupyter.widget-view+json": {
       "model_id": "98dd3ebb2bef46f997179372b85dd34a",
       "version_major": 2,
       "version_minor": 0
      },
      "text/plain": [
       "Image Batches:   0%|          | 0/13 [00:00<?, ?it/s]"
      ]
     },
     "metadata": {},
     "output_type": "display_data"
    },
    {
     "data": {
      "application/vnd.jupyter.widget-view+json": {
       "model_id": "4989cc37330047aba4a7ffad2ed6f60c",
       "version_major": 2,
       "version_minor": 0
      },
      "text/plain": [
       "Image Batches:   0%|          | 0/14 [00:00<?, ?it/s]"
      ]
     },
     "metadata": {},
     "output_type": "display_data"
    },
    {
     "data": {
      "application/vnd.jupyter.widget-view+json": {
       "model_id": "21a310a49a194205b29da20647de4b99",
       "version_major": 2,
       "version_minor": 0
      },
      "text/plain": [
       "Image Batches:   0%|          | 0/13 [00:00<?, ?it/s]"
      ]
     },
     "metadata": {},
     "output_type": "display_data"
    },
    {
     "data": {
      "application/vnd.jupyter.widget-view+json": {
       "model_id": "e20536197c20428c8e9e6c5185890bae",
       "version_major": 2,
       "version_minor": 0
      },
      "text/plain": [
       "Image Batches:   0%|          | 0/13 [00:00<?, ?it/s]"
      ]
     },
     "metadata": {},
     "output_type": "display_data"
    },
    {
     "data": {
      "application/vnd.jupyter.widget-view+json": {
       "model_id": "8e6826d0fc9041e4a496aed476c472c5",
       "version_major": 2,
       "version_minor": 0
      },
      "text/plain": [
       "Image Batches:   0%|          | 0/13 [00:00<?, ?it/s]"
      ]
     },
     "metadata": {},
     "output_type": "display_data"
    },
    {
     "data": {
      "application/vnd.jupyter.widget-view+json": {
       "model_id": "b983ab8c415d4cd3819e7844d31aff45",
       "version_major": 2,
       "version_minor": 0
      },
      "text/plain": [
       "Image Batches:   0%|          | 0/14 [00:00<?, ?it/s]"
      ]
     },
     "metadata": {},
     "output_type": "display_data"
    },
    {
     "data": {
      "application/vnd.jupyter.widget-view+json": {
       "model_id": "066d80abab134b1b8e998bdbfc7e10e7",
       "version_major": 2,
       "version_minor": 0
      },
      "text/plain": [
       "Image Batches:   0%|          | 0/13 [00:00<?, ?it/s]"
      ]
     },
     "metadata": {},
     "output_type": "display_data"
    },
    {
     "data": {
      "application/vnd.jupyter.widget-view+json": {
       "model_id": "ea5344f71c81469d81a63c3310d3ea5b",
       "version_major": 2,
       "version_minor": 0
      },
      "text/plain": [
       "Image Batches:   0%|          | 0/13 [00:00<?, ?it/s]"
      ]
     },
     "metadata": {},
     "output_type": "display_data"
    },
    {
     "data": {
      "application/vnd.jupyter.widget-view+json": {
       "model_id": "d3dac7f6856343a28e2aa40f9835f733",
       "version_major": 2,
       "version_minor": 0
      },
      "text/plain": [
       "Image Batches:   0%|          | 0/13 [00:00<?, ?it/s]"
      ]
     },
     "metadata": {},
     "output_type": "display_data"
    },
    {
     "data": {
      "application/vnd.jupyter.widget-view+json": {
       "model_id": "d205cb4ecded451283e47f8479319a89",
       "version_major": 2,
       "version_minor": 0
      },
      "text/plain": [
       "Image Batches:   0%|          | 0/13 [00:00<?, ?it/s]"
      ]
     },
     "metadata": {},
     "output_type": "display_data"
    },
    {
     "data": {
      "application/vnd.jupyter.widget-view+json": {
       "model_id": "38c99afcc36341ce89e25c97824977b2",
       "version_major": 2,
       "version_minor": 0
      },
      "text/plain": [
       "Image Batches:   0%|          | 0/13 [00:00<?, ?it/s]"
      ]
     },
     "metadata": {},
     "output_type": "display_data"
    },
    {
     "data": {
      "application/vnd.jupyter.widget-view+json": {
       "model_id": "6894e92c20ff423d8d26b99e41c179e3",
       "version_major": 2,
       "version_minor": 0
      },
      "text/plain": [
       "Image Batches:   0%|          | 0/13 [00:00<?, ?it/s]"
      ]
     },
     "metadata": {},
     "output_type": "display_data"
    },
    {
     "data": {
      "application/vnd.jupyter.widget-view+json": {
       "model_id": "01ea75899ce540d4be804f7b7793811a",
       "version_major": 2,
       "version_minor": 0
      },
      "text/plain": [
       "Image Batches:   0%|          | 0/13 [00:00<?, ?it/s]"
      ]
     },
     "metadata": {},
     "output_type": "display_data"
    },
    {
     "data": {
      "application/vnd.jupyter.widget-view+json": {
       "model_id": "433e773507844c50804ed8203c0cf532",
       "version_major": 2,
       "version_minor": 0
      },
      "text/plain": [
       "Image Batches:   0%|          | 0/25 [00:00<?, ?it/s]"
      ]
     },
     "metadata": {},
     "output_type": "display_data"
    },
    {
     "data": {
      "application/vnd.jupyter.widget-view+json": {
       "model_id": "565702074d334f00b11d993d4e830ef0",
       "version_major": 2,
       "version_minor": 0
      },
      "text/plain": [
       "Image Batches:   0%|          | 0/13 [00:00<?, ?it/s]"
      ]
     },
     "metadata": {},
     "output_type": "display_data"
    },
    {
     "data": {
      "application/vnd.jupyter.widget-view+json": {
       "model_id": "248efff6ee964ecd91bafe918588937e",
       "version_major": 2,
       "version_minor": 0
      },
      "text/plain": [
       "Image Batches:   0%|          | 0/13 [00:00<?, ?it/s]"
      ]
     },
     "metadata": {},
     "output_type": "display_data"
    },
    {
     "data": {
      "application/vnd.jupyter.widget-view+json": {
       "model_id": "f7c12d6992e740dcaed86364dbee1987",
       "version_major": 2,
       "version_minor": 0
      },
      "text/plain": [
       "Image Batches:   0%|          | 0/13 [00:00<?, ?it/s]"
      ]
     },
     "metadata": {},
     "output_type": "display_data"
    },
    {
     "data": {
      "application/vnd.jupyter.widget-view+json": {
       "model_id": "5284d0ca807c4317894ee35a2e885949",
       "version_major": 2,
       "version_minor": 0
      },
      "text/plain": [
       "Image Batches:   0%|          | 0/13 [00:00<?, ?it/s]"
      ]
     },
     "metadata": {},
     "output_type": "display_data"
    },
    {
     "data": {
      "application/vnd.jupyter.widget-view+json": {
       "model_id": "964abaf8a8644d2b987411a0fd810157",
       "version_major": 2,
       "version_minor": 0
      },
      "text/plain": [
       "Image Batches:   0%|          | 0/26 [00:00<?, ?it/s]"
      ]
     },
     "metadata": {},
     "output_type": "display_data"
    },
    {
     "data": {
      "application/vnd.jupyter.widget-view+json": {
       "model_id": "5e92ef8ac6e94ddf892a94d76135d779",
       "version_major": 2,
       "version_minor": 0
      },
      "text/plain": [
       "Image Batches:   0%|          | 0/13 [00:00<?, ?it/s]"
      ]
     },
     "metadata": {},
     "output_type": "display_data"
    },
    {
     "data": {
      "application/vnd.jupyter.widget-view+json": {
       "model_id": "e7d1941f004a4b47a441e6d35df98ef7",
       "version_major": 2,
       "version_minor": 0
      },
      "text/plain": [
       "Image Batches:   0%|          | 0/13 [00:00<?, ?it/s]"
      ]
     },
     "metadata": {},
     "output_type": "display_data"
    },
    {
     "data": {
      "application/vnd.jupyter.widget-view+json": {
       "model_id": "b05ca9a6cffb42a3ba23dbf2d10176dc",
       "version_major": 2,
       "version_minor": 0
      },
      "text/plain": [
       "Image Batches:   0%|          | 0/13 [00:00<?, ?it/s]"
      ]
     },
     "metadata": {},
     "output_type": "display_data"
    },
    {
     "data": {
      "application/vnd.jupyter.widget-view+json": {
       "model_id": "d33f87ce87e04d919b88aee2b9dfba00",
       "version_major": 2,
       "version_minor": 0
      },
      "text/plain": [
       "Image Batches:   0%|          | 0/14 [00:00<?, ?it/s]"
      ]
     },
     "metadata": {},
     "output_type": "display_data"
    },
    {
     "data": {
      "application/vnd.jupyter.widget-view+json": {
       "model_id": "f5732c8910be49928828485839ddf86c",
       "version_major": 2,
       "version_minor": 0
      },
      "text/plain": [
       "Image Batches:   0%|          | 0/30 [00:00<?, ?it/s]"
      ]
     },
     "metadata": {},
     "output_type": "display_data"
    },
    {
     "data": {
      "application/vnd.jupyter.widget-view+json": {
       "model_id": "dd0d8f86a3d244aea9d9ecafef94431c",
       "version_major": 2,
       "version_minor": 0
      },
      "text/plain": [
       "Image Batches:   0%|          | 0/13 [00:00<?, ?it/s]"
      ]
     },
     "metadata": {},
     "output_type": "display_data"
    },
    {
     "data": {
      "application/vnd.jupyter.widget-view+json": {
       "model_id": "293c0b1394c44616a9dcad6c7815c9c3",
       "version_major": 2,
       "version_minor": 0
      },
      "text/plain": [
       "Image Batches:   0%|          | 0/13 [00:00<?, ?it/s]"
      ]
     },
     "metadata": {},
     "output_type": "display_data"
    },
    {
     "data": {
      "application/vnd.jupyter.widget-view+json": {
       "model_id": "adacfc0993f14eee9885075be09ea3e9",
       "version_major": 2,
       "version_minor": 0
      },
      "text/plain": [
       "Image Batches:   0%|          | 0/25 [00:00<?, ?it/s]"
      ]
     },
     "metadata": {},
     "output_type": "display_data"
    },
    {
     "data": {
      "application/vnd.jupyter.widget-view+json": {
       "model_id": "787becd5067446369a292aed7cf017be",
       "version_major": 2,
       "version_minor": 0
      },
      "text/plain": [
       "Image Batches:   0%|          | 0/26 [00:00<?, ?it/s]"
      ]
     },
     "metadata": {},
     "output_type": "display_data"
    },
    {
     "data": {
      "application/vnd.jupyter.widget-view+json": {
       "model_id": "ced2996091414d13a79c199ac3639b29",
       "version_major": 2,
       "version_minor": 0
      },
      "text/plain": [
       "Image Batches:   0%|          | 0/13 [00:00<?, ?it/s]"
      ]
     },
     "metadata": {},
     "output_type": "display_data"
    },
    {
     "data": {
      "application/vnd.jupyter.widget-view+json": {
       "model_id": "d67fd323241b4c508f9e17d8785cf40d",
       "version_major": 2,
       "version_minor": 0
      },
      "text/plain": [
       "Image Batches:   0%|          | 0/14 [00:00<?, ?it/s]"
      ]
     },
     "metadata": {},
     "output_type": "display_data"
    },
    {
     "data": {
      "application/vnd.jupyter.widget-view+json": {
       "model_id": "c2a6e293ed4344eb991339b318b897f8",
       "version_major": 2,
       "version_minor": 0
      },
      "text/plain": [
       "Image Batches:   0%|          | 0/26 [00:00<?, ?it/s]"
      ]
     },
     "metadata": {},
     "output_type": "display_data"
    },
    {
     "data": {
      "application/vnd.jupyter.widget-view+json": {
       "model_id": "fdefc19e21f340339fde99c9affd61b8",
       "version_major": 2,
       "version_minor": 0
      },
      "text/plain": [
       "Image Batches:   0%|          | 0/13 [00:00<?, ?it/s]"
      ]
     },
     "metadata": {},
     "output_type": "display_data"
    },
    {
     "data": {
      "application/vnd.jupyter.widget-view+json": {
       "model_id": "4d1c89d2ca6940f0ac869eb25841b607",
       "version_major": 2,
       "version_minor": 0
      },
      "text/plain": [
       "Image Batches:   0%|          | 0/13 [00:00<?, ?it/s]"
      ]
     },
     "metadata": {},
     "output_type": "display_data"
    },
    {
     "data": {
      "application/vnd.jupyter.widget-view+json": {
       "model_id": "6b75465309664a57ac19c14d2121f9e5",
       "version_major": 2,
       "version_minor": 0
      },
      "text/plain": [
       "Image Batches:   0%|          | 0/13 [00:00<?, ?it/s]"
      ]
     },
     "metadata": {},
     "output_type": "display_data"
    },
    {
     "data": {
      "application/vnd.jupyter.widget-view+json": {
       "model_id": "195ed377e090429182d40920f73f293d",
       "version_major": 2,
       "version_minor": 0
      },
      "text/plain": [
       "Image Batches:   0%|          | 0/24 [00:00<?, ?it/s]"
      ]
     },
     "metadata": {},
     "output_type": "display_data"
    }
   ],
   "source": [
    "batch_size = 24\n",
    "video_paths = x_val\n",
    "video_labels = y_val\n",
    "labels = []\n",
    "probabs = []\n",
    "losses = []\n",
    "\n",
    "model.eval()\n",
    "# classifier.eval()\n",
    "\n",
    "running_loss = 0.0\n",
    "total_batches = 0\n",
    "total_images = 0\n",
    "correct = 0\n",
    "total = 0\n",
    "\n",
    "start_time = time.time()\n",
    "\n",
    "video_bar = tqdm(zip(video_paths, video_labels),desc='Videos', total=len(video_paths))\n",
    "for path, label in video_bar:\n",
    "    image_files = sorted([ os.path.join(path, f)\n",
    "    for f in os.listdir(path)\n",
    "    if f.lower().endswith('.png')\n",
    "    ])\n",
    "\n",
    "    labels.extend([label] * len(image_files))  # Repeat label for each image\n",
    "    total_images += len(image_files)\n",
    "\n",
    "    for i in tqdm(range(0, len(image_files), batch_size), desc='Image Batches', leave=False):\n",
    "        total_batches += 1\n",
    "        batch_paths = image_files[i:i+batch_size]\n",
    "        images = [Image.open(p).convert(\"RGB\") for p in batch_paths]\n",
    "        inputs = processor(images=images, return_tensors=\"pt\")\n",
    "        inputs = {k: v.to(device) for k, v in inputs.items()}\n",
    "\n",
    "        batch_labels = torch.tensor([label] * len(images), dtype=torch.float).unsqueeze(1).to(device)\n",
    "\n",
    "        with torch.no_grad():\n",
    "            outputs = model(**inputs)\n",
    "            batch_logits = outputs.logits\n",
    "\n",
    "            # running_loss += criterion(batch_logits, batch_labels).item()* batch_labels.size(0)\n",
    "            loss = criterion(batch_logits, batch_labels).detach().cpu().view(-1).tolist()\n",
    "            losses.extend(loss)\n",
    "\n",
    "            prob=torch.sigmoid(batch_logits).detach().cpu().view(-1).tolist()\n",
    "            probabs.extend(prob)\n",
    "\n",
    "            preds = (torch.sigmoid(batch_logits) > 0.5).int()\n",
    "            correct += (preds == batch_labels.int()).sum().item()\n",
    "            total += batch_labels.size(0)\n",
    "\n",
    "accuracy = correct / total if total > 0 else 0\n",
    "\n",
    "# val_loss = running_loss / total_batches if total_batches > 0 else 0\n",
    "val_loss = sum(losses) / total if total > 0 else 0\n",
    "\n",
    "end_time = time.time()\n",
    "vali_time = end_time - start_time\n",
    "vali_inf_time = vali_time / total_images\n",
    "vali_fps = total_images / vali_time\n",
    "\n",
    "\n",
    "\n",
    "\n",
    "\n"
   ]
  },
  {
   "cell_type": "code",
   "execution_count": 21,
   "id": "929aac97",
   "metadata": {},
   "outputs": [
    {
     "name": "stdout",
     "output_type": "stream",
     "text": [
      "Validation Accuracy: 84.89%\n",
      "Validation Log Loss: 0.1199\n",
      "Validation Time: 9.75 minutes\n",
      "Validation Single Inference Time: 0.02 seconds\n",
      "Validation FPS: 66.13 images/second\n"
     ]
    }
   ],
   "source": [
    "print(f\"Validation Accuracy: {accuracy*100:.2f}%\")\n",
    "print(f\"Validation Log Loss: {val_loss:.4f}\")\n",
    "\n",
    "print(f\"Validation Time: {vali_time/60:.2f} minutes\")\n",
    "print(f\"Validation Single Inference Time: {vali_inf_time:.2f} seconds\")\n",
    "print(f\"Validation FPS: {vali_fps:.2f} images/second\")"
   ]
  },
  {
   "cell_type": "code",
   "execution_count": 22,
   "id": "4edbaaeb",
   "metadata": {},
   "outputs": [
    {
     "data": {
      "text/plain": [
       "Text(1.5, 1.2, 'TF')"
      ]
     },
     "execution_count": 22,
     "metadata": {},
     "output_type": "execute_result"
    },
    {
     "data": {
      "image/png": "[encoded data removed]",
      "text/plain": [
       "<Figure size 600x400 with 1 Axes>"
      ]
     },
     "metadata": {},
     "output_type": "display_data"
    }
   ],
   "source": [
    "cm = confusion_matrix([int(x) for x in labels], [1 if p > 0.5 else 0 for p in probabs])\n",
    "plt.figure(figsize=(6, 4))\n",
    "sns.heatmap(cm, annot=True, fmt=\"d\", cmap=\"Blues\", cbar=False,\n",
    "            xticklabels=[\"Predicted Real\", \"Predicted Fake\"],\n",
    "            yticklabels=[\"Actual Real\", \"Actual Fake\"])\n",
    "plt.xlabel(\"Predicted\")\n",
    "plt.ylabel(\"Actual\")\n",
    "plt.title(\"Confusion Matrix (TF, FF, TR, FR)\")\n",
    "\n",
    "# Labels for clarity (optional)\n",
    "plt.text(0.5, 0.2, \"TR\", ha=\"center\", va=\"center\", color=\"black\", fontsize=12)\n",
    "plt.text(1.5, 0.2, \"FF\", ha=\"center\", va=\"center\", color=\"black\", fontsize=12)\n",
    "plt.text(0.5, 1.2, \"FR\", ha=\"center\", va=\"center\", color=\"black\", fontsize=12)\n",
    "plt.text(1.5, 1.2, \"TF\", ha=\"center\", va=\"center\", color=\"black\", fontsize=12)"
   ]
  },
  {
   "cell_type": "code",
   "execution_count": 23,
   "id": "4594500c",
   "metadata": {},
   "outputs": [
    {
     "name": "stdout",
     "output_type": "stream",
     "text": [
      "Confident False Real: 2564\n",
      "Confident False Fake: 1797\n"
     ]
    }
   ],
   "source": [
    "CFR=0\n",
    "CFF=0\n",
    "\n",
    "for i in range(len(labels)):\n",
    "    if labels[i]==1 :\n",
    "        if probabs[i] < 0.3:\n",
    "            CFR+=1\n",
    "    else:\n",
    "        if probabs[i] > 0.7:\n",
    "            CFF+=1\n",
    "\n",
    "print(f\"Confident False Real: {CFR}\")\n",
    "print(f\"Confident False Fake: {CFF}\")"
   ]
  },
  {
   "cell_type": "markdown",
   "id": "c1962210",
   "metadata": {},
   "source": [
    "Measuring Gflops"
   ]
  },
  {
   "cell_type": "code",
   "execution_count": 19,
   "id": "4f0f5b58",
   "metadata": {},
   "outputs": [
    {
     "name": "stdout",
     "output_type": "stream",
     "text": [
      "Total:15.46 GMac\n",
      "Module:  Global\n",
      "aten.convolution: 19.67 MMac\n",
      "aten.addmm: 14.83 GMac\n",
      "aten.bmm: 304.87 MMac\n",
      "aten.mm: 308.28 MMac\n",
      "\n",
      "Module:  swin\n",
      "aten.convolution: 19.67 MMac\n",
      "aten.addmm: 14.83 GMac\n",
      "aten.bmm: 304.87 MMac\n",
      "aten.mm: 308.28 MMac\n",
      "\n",
      "Module:  classifier\n",
      "aten.addmm: 1.02 KMac\n",
      "\n",
      "FLOP: 30.92 GFLOP\n",
      "Params: 25.20 M\n"
     ]
    }
   ],
   "source": [
    "\n",
    "\n",
    "# Replace this with your actual model instance\n",
    "input_shape = (3, 224, 224)  # Typical for ViT, adjust as needed\n",
    "\n",
    "macs, params = get_model_complexity_info(\n",
    "    model, input_shape, as_strings=False, print_per_layer_stat=True, backend='aten'\n",
    ")\n",
    "\n",
    "print(f\"FLOP: {2*macs/1000000000:.2f} GFLOP\")\n",
    "print(f\"Params: {params/1000000:.2f} M\")"
   ]
  },
  {
   "cell_type": "code",
   "execution_count": 20,
   "id": "d1f8c59e",
   "metadata": {},
   "outputs": [
    {
     "name": "stdout",
     "output_type": "stream",
     "text": [
      "Total parameters: 86.74M\n"
     ]
    }
   ],
   "source": [
    "total_params = sum(p.numel() for p in model.parameters())\n",
    "print(f\"Total parameters: {total_params / 1e6:.2f}M\")"
   ]
  },
  {
   "cell_type": "code",
   "execution_count": 21,
   "id": "1d378a03",
   "metadata": {},
   "outputs": [
    {
     "name": "stdout",
     "output_type": "stream",
     "text": [
      "[INFO] Register count_convNd() for <class 'torch.nn.modules.conv.Conv2d'>.\n",
      "[INFO] Register count_normalization() for <class 'torch.nn.modules.normalization.LayerNorm'>.\n",
      "[INFO] Register zero_ops() for <class 'torch.nn.modules.dropout.Dropout'>.\n",
      "[INFO] Register count_linear() for <class 'torch.nn.modules.linear.Linear'>.\n",
      "[INFO] Register count_adap_avgpool() for <class 'torch.nn.modules.pooling.AdaptiveAvgPool1d'>.\n",
      "Params: 86.68M, GFLOPs: 30.31\n"
     ]
    }
   ],
   "source": [
    "from thop import profile\n",
    "input_tensor = torch.randn(1, 3, 224, 224).to(device)\n",
    "tmacs, tparams = profile(model, inputs=(input_tensor,))\n",
    "print(f\"Params: {tparams / 1e6:.2f}M, GFLOPs: {2*tmacs / 1e9:.2f}\")"
   ]
  }
 ],
 "metadata": {
  "kernelspec": {
   "display_name": "env1",
   "language": "python",
   "name": "python3"
  },
  "language_info": {
   "codemirror_mode": {
    "name": "ipython",
    "version": 3
   },
   "file_extension": ".py",
   "mimetype": "text/x-python",
   "name": "python",
   "nbconvert_exporter": "python",
   "pygments_lexer": "ipython3",
   "version": "3.13.2"
  }
 },
 "nbformat": 4,
 "nbformat_minor": 5
}

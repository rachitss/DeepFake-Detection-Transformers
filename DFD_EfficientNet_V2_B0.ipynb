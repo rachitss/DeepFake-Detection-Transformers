{
 "cells": [
  {
   "cell_type": "code",
   "execution_count": 1,
   "id": "69efea60",
   "metadata": {},
   "outputs": [
    {
     "name": "stdout",
     "output_type": "stream",
     "text": [
      "Running on device: cuda:0\n"
     ]
    }
   ],
   "source": [
    "from PIL import Image\n",
    "import requests\n",
    "import pandas as pd\n",
    "import os\n",
    "from tqdm.auto import tqdm\n",
    "import glob\n",
    "import multiprocessing as mp\n",
    "import numpy as np\n",
    "from sklearn.model_selection import train_test_split\n",
    "import torch\n",
    "from torch.utils.data import TensorDataset, DataLoader\n",
    "import torch.nn as nn\n",
    "import matplotlib.pyplot as plt\n",
    "from torchviz import make_dot\n",
    "from ptflops import get_model_complexity_info\n",
    "import time\n",
    "import sys\n",
    "import timm\n",
    "\n",
    "\n",
    "device = 'cuda:0' if torch.cuda.is_available() else 'cpu'\n",
    "print(f'Running on device: {device}')\n"
   ]
  },
  {
   "cell_type": "markdown",
   "id": "08a4cda5",
   "metadata": {},
   "source": [
    "# Training Data"
   ]
  },
  {
   "cell_type": "code",
   "execution_count": 2,
   "id": "204f32de",
   "metadata": {},
   "outputs": [
    {
     "data": {
      "text/html": [
       "<div>\n",
       "<style scoped>\n",
       "    .dataframe tbody tr th:only-of-type {\n",
       "        vertical-align: middle;\n",
       "    }\n",
       "\n",
       "    .dataframe tbody tr th {\n",
       "        vertical-align: top;\n",
       "    }\n",
       "\n",
       "    .dataframe thead th {\n",
       "        text-align: right;\n",
       "    }\n",
       "</style>\n",
       "<table border=\"1\" class=\"dataframe\">\n",
       "  <thead>\n",
       "    <tr style=\"text-align: right;\">\n",
       "      <th></th>\n",
       "      <th>filename</th>\n",
       "      <th>label</th>\n",
       "      <th>split</th>\n",
       "      <th>original</th>\n",
       "      <th>path</th>\n",
       "    </tr>\n",
       "  </thead>\n",
       "  <tbody>\n",
       "    <tr>\n",
       "      <th>0</th>\n",
       "      <td>aagfhgtpmv.mp4</td>\n",
       "      <td>FAKE</td>\n",
       "      <td>train</td>\n",
       "      <td>vudstovrck.mp4</td>\n",
       "      <td>D:\\W\\VS\\VS Folder\\DFD\\DFDC MTCNN Extracted\\aag...</td>\n",
       "    </tr>\n",
       "    <tr>\n",
       "      <th>1</th>\n",
       "      <td>aapnvogymq.mp4</td>\n",
       "      <td>FAKE</td>\n",
       "      <td>train</td>\n",
       "      <td>jdubbvfswz.mp4</td>\n",
       "      <td>D:\\W\\VS\\VS Folder\\DFD\\DFDC MTCNN Extracted\\aap...</td>\n",
       "    </tr>\n",
       "    <tr>\n",
       "      <th>2</th>\n",
       "      <td>abarnvbtwb.mp4</td>\n",
       "      <td>REAL</td>\n",
       "      <td>train</td>\n",
       "      <td>NaN</td>\n",
       "      <td>D:\\W\\VS\\VS Folder\\DFD\\DFDC MTCNN Extracted\\aba...</td>\n",
       "    </tr>\n",
       "    <tr>\n",
       "      <th>3</th>\n",
       "      <td>abofeumbvv.mp4</td>\n",
       "      <td>FAKE</td>\n",
       "      <td>train</td>\n",
       "      <td>atvmxvwyns.mp4</td>\n",
       "      <td>D:\\W\\VS\\VS Folder\\DFD\\DFDC MTCNN Extracted\\abo...</td>\n",
       "    </tr>\n",
       "    <tr>\n",
       "      <th>4</th>\n",
       "      <td>abqwwspghj.mp4</td>\n",
       "      <td>FAKE</td>\n",
       "      <td>train</td>\n",
       "      <td>qzimuostzz.mp4</td>\n",
       "      <td>D:\\W\\VS\\VS Folder\\DFD\\DFDC MTCNN Extracted\\abq...</td>\n",
       "    </tr>\n",
       "    <tr>\n",
       "      <th>...</th>\n",
       "      <td>...</td>\n",
       "      <td>...</td>\n",
       "      <td>...</td>\n",
       "      <td>...</td>\n",
       "      <td>...</td>\n",
       "    </tr>\n",
       "    <tr>\n",
       "      <th>395</th>\n",
       "      <td>etejaapnxh.mp4</td>\n",
       "      <td>FAKE</td>\n",
       "      <td>train</td>\n",
       "      <td>wtreibcmgm.mp4</td>\n",
       "      <td>D:\\W\\VS\\VS Folder\\DFD\\DFDC MTCNN Extracted\\ete...</td>\n",
       "    </tr>\n",
       "    <tr>\n",
       "      <th>396</th>\n",
       "      <td>etmcruaihe.mp4</td>\n",
       "      <td>FAKE</td>\n",
       "      <td>train</td>\n",
       "      <td>afoovlsmtx.mp4</td>\n",
       "      <td>D:\\W\\VS\\VS Folder\\DFD\\DFDC MTCNN Extracted\\etm...</td>\n",
       "    </tr>\n",
       "    <tr>\n",
       "      <th>397</th>\n",
       "      <td>etohcvnzbj.mp4</td>\n",
       "      <td>FAKE</td>\n",
       "      <td>train</td>\n",
       "      <td>bdnaqemxmr.mp4</td>\n",
       "      <td>D:\\W\\VS\\VS Folder\\DFD\\DFDC MTCNN Extracted\\eto...</td>\n",
       "    </tr>\n",
       "    <tr>\n",
       "      <th>398</th>\n",
       "      <td>eudeqjhdfd.mp4</td>\n",
       "      <td>REAL</td>\n",
       "      <td>train</td>\n",
       "      <td>NaN</td>\n",
       "      <td>D:\\W\\VS\\VS Folder\\DFD\\DFDC MTCNN Extracted\\eud...</td>\n",
       "    </tr>\n",
       "    <tr>\n",
       "      <th>399</th>\n",
       "      <td>eukvucdetx.mp4</td>\n",
       "      <td>FAKE</td>\n",
       "      <td>train</td>\n",
       "      <td>gjypopglvi.mp4</td>\n",
       "      <td>D:\\W\\VS\\VS Folder\\DFD\\DFDC MTCNN Extracted\\euk...</td>\n",
       "    </tr>\n",
       "  </tbody>\n",
       "</table>\n",
       "<p>400 rows × 5 columns</p>\n",
       "</div>"
      ],
      "text/plain": [
       "           filename label  split        original  \\\n",
       "0    aagfhgtpmv.mp4  FAKE  train  vudstovrck.mp4   \n",
       "1    aapnvogymq.mp4  FAKE  train  jdubbvfswz.mp4   \n",
       "2    abarnvbtwb.mp4  REAL  train             NaN   \n",
       "3    abofeumbvv.mp4  FAKE  train  atvmxvwyns.mp4   \n",
       "4    abqwwspghj.mp4  FAKE  train  qzimuostzz.mp4   \n",
       "..              ...   ...    ...             ...   \n",
       "395  etejaapnxh.mp4  FAKE  train  wtreibcmgm.mp4   \n",
       "396  etmcruaihe.mp4  FAKE  train  afoovlsmtx.mp4   \n",
       "397  etohcvnzbj.mp4  FAKE  train  bdnaqemxmr.mp4   \n",
       "398  eudeqjhdfd.mp4  REAL  train             NaN   \n",
       "399  eukvucdetx.mp4  FAKE  train  gjypopglvi.mp4   \n",
       "\n",
       "                                                  path  \n",
       "0    D:\\W\\VS\\VS Folder\\DFD\\DFDC MTCNN Extracted\\aag...  \n",
       "1    D:\\W\\VS\\VS Folder\\DFD\\DFDC MTCNN Extracted\\aap...  \n",
       "2    D:\\W\\VS\\VS Folder\\DFD\\DFDC MTCNN Extracted\\aba...  \n",
       "3    D:\\W\\VS\\VS Folder\\DFD\\DFDC MTCNN Extracted\\abo...  \n",
       "4    D:\\W\\VS\\VS Folder\\DFD\\DFDC MTCNN Extracted\\abq...  \n",
       "..                                                 ...  \n",
       "395  D:\\W\\VS\\VS Folder\\DFD\\DFDC MTCNN Extracted\\ete...  \n",
       "396  D:\\W\\VS\\VS Folder\\DFD\\DFDC MTCNN Extracted\\etm...  \n",
       "397  D:\\W\\VS\\VS Folder\\DFD\\DFDC MTCNN Extracted\\eto...  \n",
       "398  D:\\W\\VS\\VS Folder\\DFD\\DFDC MTCNN Extracted\\eud...  \n",
       "399  D:\\W\\VS\\VS Folder\\DFD\\DFDC MTCNN Extracted\\euk...  \n",
       "\n",
       "[400 rows x 5 columns]"
      ]
     },
     "execution_count": 2,
     "metadata": {},
     "output_type": "execute_result"
    }
   ],
   "source": [
    "train_dir = 'D:\\\\W\\\\VS\\\\VS Folder\\\\DFD\\\\DFDC MTCNN Extracted\\\\'\n",
    "train_df = pd.read_csv(os.path.join(train_dir, 'metadata.csv'))\n",
    "train_df['path'] = train_df['filename'].apply(lambda x: os.path.join(train_dir, x.split('.')[0]))\n",
    "\n",
    "# Remove empty folders\n",
    "train_df = train_df[train_df['path'].map(lambda x: os.path.exists(x))]\n",
    "train_df"
   ]
  },
  {
   "cell_type": "code",
   "execution_count": 3,
   "id": "23dbafc7",
   "metadata": {},
   "outputs": [
    {
     "data": {
      "application/vnd.jupyter.widget-view+json": {
       "model_id": "8bd44ed227f646da9869e1a4e179ef88",
       "version_major": 2,
       "version_minor": 0
      },
      "text/plain": [
       "  0%|          | 0/400 [00:00<?, ?it/s]"
      ]
     },
     "metadata": {},
     "output_type": "display_data"
    }
   ],
   "source": [
    "valid_train_df = pd.DataFrame(columns=['filename', 'label', 'split', 'original', 'path'])\n",
    "\n",
    "# for row_idx, row in tqdm(train_df.iterrows()):\n",
    "for row_idx in tqdm(train_df.index):\n",
    "    row = train_df.loc[row_idx]\n",
    "    img_dir = row['path']\n",
    "    face_paths = glob.glob(f'{img_dir}/*.png')\n",
    "\n",
    "    if len(face_paths) >= 5: # Satisfy the minimum requirement for the number of faces\n",
    "        face_indices = [\n",
    "            path.split('\\\\')[-1].split('.')[0].split('_')[0]\n",
    "            for path in face_paths\n",
    "        ]\n",
    "        max_idx = np.max(np.array(face_indices, dtype=np.uint32))\n",
    "\n",
    "        selected_paths = []\n",
    "\n",
    "        for i in range(5):\n",
    "            stride = int((max_idx + 1)/(5**2))\n",
    "            sample = np.linspace(i*stride, max_idx + i*stride, 5).astype(int)\n",
    "\n",
    "            # Get faces\n",
    "            for idx in sample:\n",
    "                paths = glob.glob(f'{img_dir}/{idx}*.png')\n",
    "\n",
    "                selected_paths.extend(paths)\n",
    "                if len(selected_paths) >= 5: # Get enough faces\n",
    "                    break\n",
    "\n",
    "            if len(selected_paths) >= 5:  # Get enough faces\n",
    "                valid_train_df = pd.concat([valid_train_df, pd.DataFrame([row])], ignore_index=True)\n",
    "                break"
   ]
  },
  {
   "cell_type": "code",
   "execution_count": 16,
   "id": "e89472c9",
   "metadata": {},
   "outputs": [
    {
     "name": "stderr",
     "output_type": "stream",
     "text": [
      "C:\\Users\\rachi\\AppData\\Local\\Temp\\ipykernel_21020\\3380636837.py:1: FutureWarning: Downcasting behavior in `replace` is deprecated and will be removed in a future version. To retain the old behavior, explicitly call `result.infer_objects(copy=False)`. To opt-in to the future behavior, set `pd.set_option('future.no_silent_downcasting', True)`\n",
      "  valid_train_df['label']=valid_train_df['label'].replace({'FAKE': 1, 'REAL': 0})\n"
     ]
    },
    {
     "data": {
      "text/html": [
       "<div>\n",
       "<style scoped>\n",
       "    .dataframe tbody tr th:only-of-type {\n",
       "        vertical-align: middle;\n",
       "    }\n",
       "\n",
       "    .dataframe tbody tr th {\n",
       "        vertical-align: top;\n",
       "    }\n",
       "\n",
       "    .dataframe thead th {\n",
       "        text-align: right;\n",
       "    }\n",
       "</style>\n",
       "<table border=\"1\" class=\"dataframe\">\n",
       "  <thead>\n",
       "    <tr style=\"text-align: right;\">\n",
       "      <th></th>\n",
       "      <th>filename</th>\n",
       "      <th>label</th>\n",
       "      <th>split</th>\n",
       "      <th>original</th>\n",
       "      <th>path</th>\n",
       "    </tr>\n",
       "  </thead>\n",
       "  <tbody>\n",
       "    <tr>\n",
       "      <th>0</th>\n",
       "      <td>aagfhgtpmv.mp4</td>\n",
       "      <td>1</td>\n",
       "      <td>train</td>\n",
       "      <td>vudstovrck.mp4</td>\n",
       "      <td>D:\\W\\VS\\VS Folder\\DFD\\DFDC MTCNN Extracted\\aag...</td>\n",
       "    </tr>\n",
       "    <tr>\n",
       "      <th>1</th>\n",
       "      <td>aapnvogymq.mp4</td>\n",
       "      <td>1</td>\n",
       "      <td>train</td>\n",
       "      <td>jdubbvfswz.mp4</td>\n",
       "      <td>D:\\W\\VS\\VS Folder\\DFD\\DFDC MTCNN Extracted\\aap...</td>\n",
       "    </tr>\n",
       "    <tr>\n",
       "      <th>2</th>\n",
       "      <td>abarnvbtwb.mp4</td>\n",
       "      <td>0</td>\n",
       "      <td>train</td>\n",
       "      <td>NaN</td>\n",
       "      <td>D:\\W\\VS\\VS Folder\\DFD\\DFDC MTCNN Extracted\\aba...</td>\n",
       "    </tr>\n",
       "    <tr>\n",
       "      <th>3</th>\n",
       "      <td>abqwwspghj.mp4</td>\n",
       "      <td>1</td>\n",
       "      <td>train</td>\n",
       "      <td>qzimuostzz.mp4</td>\n",
       "      <td>D:\\W\\VS\\VS Folder\\DFD\\DFDC MTCNN Extracted\\abq...</td>\n",
       "    </tr>\n",
       "    <tr>\n",
       "      <th>4</th>\n",
       "      <td>acifjvzvpm.mp4</td>\n",
       "      <td>1</td>\n",
       "      <td>train</td>\n",
       "      <td>kbvibjhfzo.mp4</td>\n",
       "      <td>D:\\W\\VS\\VS Folder\\DFD\\DFDC MTCNN Extracted\\aci...</td>\n",
       "    </tr>\n",
       "  </tbody>\n",
       "</table>\n",
       "</div>"
      ],
      "text/plain": [
       "         filename  label  split        original  \\\n",
       "0  aagfhgtpmv.mp4      1  train  vudstovrck.mp4   \n",
       "1  aapnvogymq.mp4      1  train  jdubbvfswz.mp4   \n",
       "2  abarnvbtwb.mp4      0  train             NaN   \n",
       "3  abqwwspghj.mp4      1  train  qzimuostzz.mp4   \n",
       "4  acifjvzvpm.mp4      1  train  kbvibjhfzo.mp4   \n",
       "\n",
       "                                                path  \n",
       "0  D:\\W\\VS\\VS Folder\\DFD\\DFDC MTCNN Extracted\\aag...  \n",
       "1  D:\\W\\VS\\VS Folder\\DFD\\DFDC MTCNN Extracted\\aap...  \n",
       "2  D:\\W\\VS\\VS Folder\\DFD\\DFDC MTCNN Extracted\\aba...  \n",
       "3  D:\\W\\VS\\VS Folder\\DFD\\DFDC MTCNN Extracted\\abq...  \n",
       "4  D:\\W\\VS\\VS Folder\\DFD\\DFDC MTCNN Extracted\\aci...  "
      ]
     },
     "metadata": {},
     "output_type": "display_data"
    },
    {
     "name": "stdout",
     "output_type": "stream",
     "text": [
      "label\n",
      "0     76\n",
      "1    306\n",
      "Name: filename, dtype: int64\n"
     ]
    }
   ],
   "source": [
    "valid_train_df['label']=valid_train_df['label'].replace({'FAKE': 1, 'REAL': 0})\n",
    "display(valid_train_df.head())\n",
    "\n",
    "label_count = valid_train_df.groupby('label').count()['filename']\n",
    "print(label_count)\n",
    "\n",
    "x = valid_train_df['path'].to_numpy()\n",
    "y = valid_train_df['label'].to_numpy()\n",
    "\n",
    "x_train, x_val, y_train, y_val = train_test_split(x, y, test_size=0.3, random_state=224, stratify=y)\n",
    "\n",
    "np.savez('train_test_split.npz',\n",
    "         x_train=x_train,\n",
    "         x_val=x_val,\n",
    "         y_train=y_train,\n",
    "         y_val=y_val)"
   ]
  },
  {
   "cell_type": "markdown",
   "id": "8cbd86ca",
   "metadata": {},
   "source": [
    "# Training - Feature extraction and classifier"
   ]
  },
  {
   "cell_type": "code",
   "execution_count": 2,
   "id": "89cafb83",
   "metadata": {},
   "outputs": [],
   "source": [
    "data = np.load('train_test_split.npz', allow_pickle=True)\n",
    "x_train = data['x_train']\n",
    "y_train = data['y_train']"
   ]
  },
  {
   "cell_type": "markdown",
   "id": "c67fd378",
   "metadata": {},
   "source": [
    "### Model"
   ]
  },
  {
   "cell_type": "code",
   "execution_count": 2,
   "id": "1967d768",
   "metadata": {},
   "outputs": [],
   "source": [
    "# processor = EfficientNetImageProcessor.from_pretrained(\"google/efficientnet-b0\")\n",
    "model = model = timm.create_model('tf_efficientnetv2_b0.in1k', pretrained=True)\n",
    "model.classifier = nn.Linear(model.classifier.in_features, 1)\n",
    "# classifier = nn.Linear(768, 1)\n",
    "criterion = nn.BCEWithLogitsLoss()  # For binary classification\n",
    "\n",
    "data_config = timm.data.resolve_model_data_config(model)\n",
    "transforms = timm.data.create_transform(**data_config, is_training=False)\n"
   ]
  },
  {
   "cell_type": "code",
   "execution_count": 4,
   "id": "6e117591",
   "metadata": {},
   "outputs": [
    {
     "name": "stdout",
     "output_type": "stream",
     "text": [
      "EfficientNet(\n",
      "  (conv_stem): Conv2dSame(3, 32, kernel_size=(3, 3), stride=(2, 2), bias=False)\n",
      "  (bn1): BatchNormAct2d(\n",
      "    32, eps=0.001, momentum=0.1, affine=True, track_running_stats=True\n",
      "    (drop): Identity()\n",
      "    (act): SiLU(inplace=True)\n",
      "  )\n",
      "  (blocks): Sequential(\n",
      "    (0): Sequential(\n",
      "      (0): ConvBnAct(\n",
      "        (conv): Conv2d(32, 16, kernel_size=(3, 3), stride=(1, 1), padding=(1, 1), bias=False)\n",
      "        (bn1): BatchNormAct2d(\n",
      "          16, eps=0.001, momentum=0.1, affine=True, track_running_stats=True\n",
      "          (drop): Identity()\n",
      "          (act): SiLU(inplace=True)\n",
      "        )\n",
      "        (aa): Identity()\n",
      "        (drop_path): Identity()\n",
      "      )\n",
      "    )\n",
      "    (1): Sequential(\n",
      "      (0): EdgeResidual(\n",
      "        (conv_exp): Conv2dSame(16, 64, kernel_size=(3, 3), stride=(2, 2), bias=False)\n",
      "        (bn1): BatchNormAct2d(\n",
      "          64, eps=0.001, momentum=0.1, affine=True, track_running_stats=True\n",
      "          (drop): Identity()\n",
      "          (act): SiLU(inplace=True)\n",
      "        )\n",
      "        (aa): Identity()\n",
      "        (se): Identity()\n",
      "        (conv_pwl): Conv2d(64, 32, kernel_size=(1, 1), stride=(1, 1), bias=False)\n",
      "        (bn2): BatchNormAct2d(\n",
      "          32, eps=0.001, momentum=0.1, affine=True, track_running_stats=True\n",
      "          (drop): Identity()\n",
      "          (act): Identity()\n",
      "        )\n",
      "        (drop_path): Identity()\n",
      "      )\n",
      "      (1): EdgeResidual(\n",
      "        (conv_exp): Conv2d(32, 128, kernel_size=(3, 3), stride=(1, 1), padding=(1, 1), bias=False)\n",
      "        (bn1): BatchNormAct2d(\n",
      "          128, eps=0.001, momentum=0.1, affine=True, track_running_stats=True\n",
      "          (drop): Identity()\n",
      "          (act): SiLU(inplace=True)\n",
      "        )\n",
      "        (aa): Identity()\n",
      "        (se): Identity()\n",
      "        (conv_pwl): Conv2d(128, 32, kernel_size=(1, 1), stride=(1, 1), bias=False)\n",
      "        (bn2): BatchNormAct2d(\n",
      "          32, eps=0.001, momentum=0.1, affine=True, track_running_stats=True\n",
      "          (drop): Identity()\n",
      "          (act): Identity()\n",
      "        )\n",
      "        (drop_path): Identity()\n",
      "      )\n",
      "    )\n",
      "    (2): Sequential(\n",
      "      (0): EdgeResidual(\n",
      "        (conv_exp): Conv2dSame(32, 128, kernel_size=(3, 3), stride=(2, 2), bias=False)\n",
      "        (bn1): BatchNormAct2d(\n",
      "          128, eps=0.001, momentum=0.1, affine=True, track_running_stats=True\n",
      "          (drop): Identity()\n",
      "          (act): SiLU(inplace=True)\n",
      "        )\n",
      "        (aa): Identity()\n",
      "        (se): Identity()\n",
      "        (conv_pwl): Conv2d(128, 48, kernel_size=(1, 1), stride=(1, 1), bias=False)\n",
      "        (bn2): BatchNormAct2d(\n",
      "          48, eps=0.001, momentum=0.1, affine=True, track_running_stats=True\n",
      "          (drop): Identity()\n",
      "          (act): Identity()\n",
      "        )\n",
      "        (drop_path): Identity()\n",
      "      )\n",
      "      (1): EdgeResidual(\n",
      "        (conv_exp): Conv2d(48, 192, kernel_size=(3, 3), stride=(1, 1), padding=(1, 1), bias=False)\n",
      "        (bn1): BatchNormAct2d(\n",
      "          192, eps=0.001, momentum=0.1, affine=True, track_running_stats=True\n",
      "          (drop): Identity()\n",
      "          (act): SiLU(inplace=True)\n",
      "        )\n",
      "        (aa): Identity()\n",
      "        (se): Identity()\n",
      "        (conv_pwl): Conv2d(192, 48, kernel_size=(1, 1), stride=(1, 1), bias=False)\n",
      "        (bn2): BatchNormAct2d(\n",
      "          48, eps=0.001, momentum=0.1, affine=True, track_running_stats=True\n",
      "          (drop): Identity()\n",
      "          (act): Identity()\n",
      "        )\n",
      "        (drop_path): Identity()\n",
      "      )\n",
      "    )\n",
      "    (3): Sequential(\n",
      "      (0): InvertedResidual(\n",
      "        (conv_pw): Conv2d(48, 192, kernel_size=(1, 1), stride=(1, 1), bias=False)\n",
      "        (bn1): BatchNormAct2d(\n",
      "          192, eps=0.001, momentum=0.1, affine=True, track_running_stats=True\n",
      "          (drop): Identity()\n",
      "          (act): SiLU(inplace=True)\n",
      "        )\n",
      "        (conv_dw): Conv2dSame(192, 192, kernel_size=(3, 3), stride=(2, 2), groups=192, bias=False)\n",
      "        (bn2): BatchNormAct2d(\n",
      "          192, eps=0.001, momentum=0.1, affine=True, track_running_stats=True\n",
      "          (drop): Identity()\n",
      "          (act): SiLU(inplace=True)\n",
      "        )\n",
      "        (aa): Identity()\n",
      "        (se): SqueezeExcite(\n",
      "          (conv_reduce): Conv2d(192, 12, kernel_size=(1, 1), stride=(1, 1))\n",
      "          (act1): SiLU(inplace=True)\n",
      "          (conv_expand): Conv2d(12, 192, kernel_size=(1, 1), stride=(1, 1))\n",
      "          (gate): Sigmoid()\n",
      "        )\n",
      "        (conv_pwl): Conv2d(192, 96, kernel_size=(1, 1), stride=(1, 1), bias=False)\n",
      "        (bn3): BatchNormAct2d(\n",
      "          96, eps=0.001, momentum=0.1, affine=True, track_running_stats=True\n",
      "          (drop): Identity()\n",
      "          (act): Identity()\n",
      "        )\n",
      "        (drop_path): Identity()\n",
      "      )\n",
      "      (1): InvertedResidual(\n",
      "        (conv_pw): Conv2d(96, 384, kernel_size=(1, 1), stride=(1, 1), bias=False)\n",
      "        (bn1): BatchNormAct2d(\n",
      "          384, eps=0.001, momentum=0.1, affine=True, track_running_stats=True\n",
      "          (drop): Identity()\n",
      "          (act): SiLU(inplace=True)\n",
      "        )\n",
      "        (conv_dw): Conv2d(384, 384, kernel_size=(3, 3), stride=(1, 1), padding=(1, 1), groups=384, bias=False)\n",
      "        (bn2): BatchNormAct2d(\n",
      "          384, eps=0.001, momentum=0.1, affine=True, track_running_stats=True\n",
      "          (drop): Identity()\n",
      "          (act): SiLU(inplace=True)\n",
      "        )\n",
      "        (aa): Identity()\n",
      "        (se): SqueezeExcite(\n",
      "          (conv_reduce): Conv2d(384, 24, kernel_size=(1, 1), stride=(1, 1))\n",
      "          (act1): SiLU(inplace=True)\n",
      "          (conv_expand): Conv2d(24, 384, kernel_size=(1, 1), stride=(1, 1))\n",
      "          (gate): Sigmoid()\n",
      "        )\n",
      "        (conv_pwl): Conv2d(384, 96, kernel_size=(1, 1), stride=(1, 1), bias=False)\n",
      "        (bn3): BatchNormAct2d(\n",
      "          96, eps=0.001, momentum=0.1, affine=True, track_running_stats=True\n",
      "          (drop): Identity()\n",
      "          (act): Identity()\n",
      "        )\n",
      "        (drop_path): Identity()\n",
      "      )\n",
      "      (2): InvertedResidual(\n",
      "        (conv_pw): Conv2d(96, 384, kernel_size=(1, 1), stride=(1, 1), bias=False)\n",
      "        (bn1): BatchNormAct2d(\n",
      "          384, eps=0.001, momentum=0.1, affine=True, track_running_stats=True\n",
      "          (drop): Identity()\n",
      "          (act): SiLU(inplace=True)\n",
      "        )\n",
      "        (conv_dw): Conv2d(384, 384, kernel_size=(3, 3), stride=(1, 1), padding=(1, 1), groups=384, bias=False)\n",
      "        (bn2): BatchNormAct2d(\n",
      "          384, eps=0.001, momentum=0.1, affine=True, track_running_stats=True\n",
      "          (drop): Identity()\n",
      "          (act): SiLU(inplace=True)\n",
      "        )\n",
      "        (aa): Identity()\n",
      "        (se): SqueezeExcite(\n",
      "          (conv_reduce): Conv2d(384, 24, kernel_size=(1, 1), stride=(1, 1))\n",
      "          (act1): SiLU(inplace=True)\n",
      "          (conv_expand): Conv2d(24, 384, kernel_size=(1, 1), stride=(1, 1))\n",
      "          (gate): Sigmoid()\n",
      "        )\n",
      "        (conv_pwl): Conv2d(384, 96, kernel_size=(1, 1), stride=(1, 1), bias=False)\n",
      "        (bn3): BatchNormAct2d(\n",
      "          96, eps=0.001, momentum=0.1, affine=True, track_running_stats=True\n",
      "          (drop): Identity()\n",
      "          (act): Identity()\n",
      "        )\n",
      "        (drop_path): Identity()\n",
      "      )\n",
      "    )\n",
      "    (4): Sequential(\n",
      "      (0): InvertedResidual(\n",
      "        (conv_pw): Conv2d(96, 576, kernel_size=(1, 1), stride=(1, 1), bias=False)\n",
      "        (bn1): BatchNormAct2d(\n",
      "          576, eps=0.001, momentum=0.1, affine=True, track_running_stats=True\n",
      "          (drop): Identity()\n",
      "          (act): SiLU(inplace=True)\n",
      "        )\n",
      "        (conv_dw): Conv2d(576, 576, kernel_size=(3, 3), stride=(1, 1), padding=(1, 1), groups=576, bias=False)\n",
      "        (bn2): BatchNormAct2d(\n",
      "          576, eps=0.001, momentum=0.1, affine=True, track_running_stats=True\n",
      "          (drop): Identity()\n",
      "          (act): SiLU(inplace=True)\n",
      "        )\n",
      "        (aa): Identity()\n",
      "        (se): SqueezeExcite(\n",
      "          (conv_reduce): Conv2d(576, 24, kernel_size=(1, 1), stride=(1, 1))\n",
      "          (act1): SiLU(inplace=True)\n",
      "          (conv_expand): Conv2d(24, 576, kernel_size=(1, 1), stride=(1, 1))\n",
      "          (gate): Sigmoid()\n",
      "        )\n",
      "        (conv_pwl): Conv2d(576, 112, kernel_size=(1, 1), stride=(1, 1), bias=False)\n",
      "        (bn3): BatchNormAct2d(\n",
      "          112, eps=0.001, momentum=0.1, affine=True, track_running_stats=True\n",
      "          (drop): Identity()\n",
      "          (act): Identity()\n",
      "        )\n",
      "        (drop_path): Identity()\n",
      "      )\n",
      "      (1): InvertedResidual(\n",
      "        (conv_pw): Conv2d(112, 672, kernel_size=(1, 1), stride=(1, 1), bias=False)\n",
      "        (bn1): BatchNormAct2d(\n",
      "          672, eps=0.001, momentum=0.1, affine=True, track_running_stats=True\n",
      "          (drop): Identity()\n",
      "          (act): SiLU(inplace=True)\n",
      "        )\n",
      "        (conv_dw): Conv2d(672, 672, kernel_size=(3, 3), stride=(1, 1), padding=(1, 1), groups=672, bias=False)\n",
      "        (bn2): BatchNormAct2d(\n",
      "          672, eps=0.001, momentum=0.1, affine=True, track_running_stats=True\n",
      "          (drop): Identity()\n",
      "          (act): SiLU(inplace=True)\n",
      "        )\n",
      "        (aa): Identity()\n",
      "        (se): SqueezeExcite(\n",
      "          (conv_reduce): Conv2d(672, 28, kernel_size=(1, 1), stride=(1, 1))\n",
      "          (act1): SiLU(inplace=True)\n",
      "          (conv_expand): Conv2d(28, 672, kernel_size=(1, 1), stride=(1, 1))\n",
      "          (gate): Sigmoid()\n",
      "        )\n",
      "        (conv_pwl): Conv2d(672, 112, kernel_size=(1, 1), stride=(1, 1), bias=False)\n",
      "        (bn3): BatchNormAct2d(\n",
      "          112, eps=0.001, momentum=0.1, affine=True, track_running_stats=True\n",
      "          (drop): Identity()\n",
      "          (act): Identity()\n",
      "        )\n",
      "        (drop_path): Identity()\n",
      "      )\n",
      "      (2): InvertedResidual(\n",
      "        (conv_pw): Conv2d(112, 672, kernel_size=(1, 1), stride=(1, 1), bias=False)\n",
      "        (bn1): BatchNormAct2d(\n",
      "          672, eps=0.001, momentum=0.1, affine=True, track_running_stats=True\n",
      "          (drop): Identity()\n",
      "          (act): SiLU(inplace=True)\n",
      "        )\n",
      "        (conv_dw): Conv2d(672, 672, kernel_size=(3, 3), stride=(1, 1), padding=(1, 1), groups=672, bias=False)\n",
      "        (bn2): BatchNormAct2d(\n",
      "          672, eps=0.001, momentum=0.1, affine=True, track_running_stats=True\n",
      "          (drop): Identity()\n",
      "          (act): SiLU(inplace=True)\n",
      "        )\n",
      "        (aa): Identity()\n",
      "        (se): SqueezeExcite(\n",
      "          (conv_reduce): Conv2d(672, 28, kernel_size=(1, 1), stride=(1, 1))\n",
      "          (act1): SiLU(inplace=True)\n",
      "          (conv_expand): Conv2d(28, 672, kernel_size=(1, 1), stride=(1, 1))\n",
      "          (gate): Sigmoid()\n",
      "        )\n",
      "        (conv_pwl): Conv2d(672, 112, kernel_size=(1, 1), stride=(1, 1), bias=False)\n",
      "        (bn3): BatchNormAct2d(\n",
      "          112, eps=0.001, momentum=0.1, affine=True, track_running_stats=True\n",
      "          (drop): Identity()\n",
      "          (act): Identity()\n",
      "        )\n",
      "        (drop_path): Identity()\n",
      "      )\n",
      "      (3): InvertedResidual(\n",
      "        (conv_pw): Conv2d(112, 672, kernel_size=(1, 1), stride=(1, 1), bias=False)\n",
      "        (bn1): BatchNormAct2d(\n",
      "          672, eps=0.001, momentum=0.1, affine=True, track_running_stats=True\n",
      "          (drop): Identity()\n",
      "          (act): SiLU(inplace=True)\n",
      "        )\n",
      "        (conv_dw): Conv2d(672, 672, kernel_size=(3, 3), stride=(1, 1), padding=(1, 1), groups=672, bias=False)\n",
      "        (bn2): BatchNormAct2d(\n",
      "          672, eps=0.001, momentum=0.1, affine=True, track_running_stats=True\n",
      "          (drop): Identity()\n",
      "          (act): SiLU(inplace=True)\n",
      "        )\n",
      "        (aa): Identity()\n",
      "        (se): SqueezeExcite(\n",
      "          (conv_reduce): Conv2d(672, 28, kernel_size=(1, 1), stride=(1, 1))\n",
      "          (act1): SiLU(inplace=True)\n",
      "          (conv_expand): Conv2d(28, 672, kernel_size=(1, 1), stride=(1, 1))\n",
      "          (gate): Sigmoid()\n",
      "        )\n",
      "        (conv_pwl): Conv2d(672, 112, kernel_size=(1, 1), stride=(1, 1), bias=False)\n",
      "        (bn3): BatchNormAct2d(\n",
      "          112, eps=0.001, momentum=0.1, affine=True, track_running_stats=True\n",
      "          (drop): Identity()\n",
      "          (act): Identity()\n",
      "        )\n",
      "        (drop_path): Identity()\n",
      "      )\n",
      "      (4): InvertedResidual(\n",
      "        (conv_pw): Conv2d(112, 672, kernel_size=(1, 1), stride=(1, 1), bias=False)\n",
      "        (bn1): BatchNormAct2d(\n",
      "          672, eps=0.001, momentum=0.1, affine=True, track_running_stats=True\n",
      "          (drop): Identity()\n",
      "          (act): SiLU(inplace=True)\n",
      "        )\n",
      "        (conv_dw): Conv2d(672, 672, kernel_size=(3, 3), stride=(1, 1), padding=(1, 1), groups=672, bias=False)\n",
      "        (bn2): BatchNormAct2d(\n",
      "          672, eps=0.001, momentum=0.1, affine=True, track_running_stats=True\n",
      "          (drop): Identity()\n",
      "          (act): SiLU(inplace=True)\n",
      "        )\n",
      "        (aa): Identity()\n",
      "        (se): SqueezeExcite(\n",
      "          (conv_reduce): Conv2d(672, 28, kernel_size=(1, 1), stride=(1, 1))\n",
      "          (act1): SiLU(inplace=True)\n",
      "          (conv_expand): Conv2d(28, 672, kernel_size=(1, 1), stride=(1, 1))\n",
      "          (gate): Sigmoid()\n",
      "        )\n",
      "        (conv_pwl): Conv2d(672, 112, kernel_size=(1, 1), stride=(1, 1), bias=False)\n",
      "        (bn3): BatchNormAct2d(\n",
      "          112, eps=0.001, momentum=0.1, affine=True, track_running_stats=True\n",
      "          (drop): Identity()\n",
      "          (act): Identity()\n",
      "        )\n",
      "        (drop_path): Identity()\n",
      "      )\n",
      "    )\n",
      "    (5): Sequential(\n",
      "      (0): InvertedResidual(\n",
      "        (conv_pw): Conv2d(112, 672, kernel_size=(1, 1), stride=(1, 1), bias=False)\n",
      "        (bn1): BatchNormAct2d(\n",
      "          672, eps=0.001, momentum=0.1, affine=True, track_running_stats=True\n",
      "          (drop): Identity()\n",
      "          (act): SiLU(inplace=True)\n",
      "        )\n",
      "        (conv_dw): Conv2dSame(672, 672, kernel_size=(3, 3), stride=(2, 2), groups=672, bias=False)\n",
      "        (bn2): BatchNormAct2d(\n",
      "          672, eps=0.001, momentum=0.1, affine=True, track_running_stats=True\n",
      "          (drop): Identity()\n",
      "          (act): SiLU(inplace=True)\n",
      "        )\n",
      "        (aa): Identity()\n",
      "        (se): SqueezeExcite(\n",
      "          (conv_reduce): Conv2d(672, 28, kernel_size=(1, 1), stride=(1, 1))\n",
      "          (act1): SiLU(inplace=True)\n",
      "          (conv_expand): Conv2d(28, 672, kernel_size=(1, 1), stride=(1, 1))\n",
      "          (gate): Sigmoid()\n",
      "        )\n",
      "        (conv_pwl): Conv2d(672, 192, kernel_size=(1, 1), stride=(1, 1), bias=False)\n",
      "        (bn3): BatchNormAct2d(\n",
      "          192, eps=0.001, momentum=0.1, affine=True, track_running_stats=True\n",
      "          (drop): Identity()\n",
      "          (act): Identity()\n",
      "        )\n",
      "        (drop_path): Identity()\n",
      "      )\n",
      "      (1): InvertedResidual(\n",
      "        (conv_pw): Conv2d(192, 1152, kernel_size=(1, 1), stride=(1, 1), bias=False)\n",
      "        (bn1): BatchNormAct2d(\n",
      "          1152, eps=0.001, momentum=0.1, affine=True, track_running_stats=True\n",
      "          (drop): Identity()\n",
      "          (act): SiLU(inplace=True)\n",
      "        )\n",
      "        (conv_dw): Conv2d(1152, 1152, kernel_size=(3, 3), stride=(1, 1), padding=(1, 1), groups=1152, bias=False)\n",
      "        (bn2): BatchNormAct2d(\n",
      "          1152, eps=0.001, momentum=0.1, affine=True, track_running_stats=True\n",
      "          (drop): Identity()\n",
      "          (act): SiLU(inplace=True)\n",
      "        )\n",
      "        (aa): Identity()\n",
      "        (se): SqueezeExcite(\n",
      "          (conv_reduce): Conv2d(1152, 48, kernel_size=(1, 1), stride=(1, 1))\n",
      "          (act1): SiLU(inplace=True)\n",
      "          (conv_expand): Conv2d(48, 1152, kernel_size=(1, 1), stride=(1, 1))\n",
      "          (gate): Sigmoid()\n",
      "        )\n",
      "        (conv_pwl): Conv2d(1152, 192, kernel_size=(1, 1), stride=(1, 1), bias=False)\n",
      "        (bn3): BatchNormAct2d(\n",
      "          192, eps=0.001, momentum=0.1, affine=True, track_running_stats=True\n",
      "          (drop): Identity()\n",
      "          (act): Identity()\n",
      "        )\n",
      "        (drop_path): Identity()\n",
      "      )\n",
      "      (2): InvertedResidual(\n",
      "        (conv_pw): Conv2d(192, 1152, kernel_size=(1, 1), stride=(1, 1), bias=False)\n",
      "        (bn1): BatchNormAct2d(\n",
      "          1152, eps=0.001, momentum=0.1, affine=True, track_running_stats=True\n",
      "          (drop): Identity()\n",
      "          (act): SiLU(inplace=True)\n",
      "        )\n",
      "        (conv_dw): Conv2d(1152, 1152, kernel_size=(3, 3), stride=(1, 1), padding=(1, 1), groups=1152, bias=False)\n",
      "        (bn2): BatchNormAct2d(\n",
      "          1152, eps=0.001, momentum=0.1, affine=True, track_running_stats=True\n",
      "          (drop): Identity()\n",
      "          (act): SiLU(inplace=True)\n",
      "        )\n",
      "        (aa): Identity()\n",
      "        (se): SqueezeExcite(\n",
      "          (conv_reduce): Conv2d(1152, 48, kernel_size=(1, 1), stride=(1, 1))\n",
      "          (act1): SiLU(inplace=True)\n",
      "          (conv_expand): Conv2d(48, 1152, kernel_size=(1, 1), stride=(1, 1))\n",
      "          (gate): Sigmoid()\n",
      "        )\n",
      "        (conv_pwl): Conv2d(1152, 192, kernel_size=(1, 1), stride=(1, 1), bias=False)\n",
      "        (bn3): BatchNormAct2d(\n",
      "          192, eps=0.001, momentum=0.1, affine=True, track_running_stats=True\n",
      "          (drop): Identity()\n",
      "          (act): Identity()\n",
      "        )\n",
      "        (drop_path): Identity()\n",
      "      )\n",
      "      (3): InvertedResidual(\n",
      "        (conv_pw): Conv2d(192, 1152, kernel_size=(1, 1), stride=(1, 1), bias=False)\n",
      "        (bn1): BatchNormAct2d(\n",
      "          1152, eps=0.001, momentum=0.1, affine=True, track_running_stats=True\n",
      "          (drop): Identity()\n",
      "          (act): SiLU(inplace=True)\n",
      "        )\n",
      "        (conv_dw): Conv2d(1152, 1152, kernel_size=(3, 3), stride=(1, 1), padding=(1, 1), groups=1152, bias=False)\n",
      "        (bn2): BatchNormAct2d(\n",
      "          1152, eps=0.001, momentum=0.1, affine=True, track_running_stats=True\n",
      "          (drop): Identity()\n",
      "          (act): SiLU(inplace=True)\n",
      "        )\n",
      "        (aa): Identity()\n",
      "        (se): SqueezeExcite(\n",
      "          (conv_reduce): Conv2d(1152, 48, kernel_size=(1, 1), stride=(1, 1))\n",
      "          (act1): SiLU(inplace=True)\n",
      "          (conv_expand): Conv2d(48, 1152, kernel_size=(1, 1), stride=(1, 1))\n",
      "          (gate): Sigmoid()\n",
      "        )\n",
      "        (conv_pwl): Conv2d(1152, 192, kernel_size=(1, 1), stride=(1, 1), bias=False)\n",
      "        (bn3): BatchNormAct2d(\n",
      "          192, eps=0.001, momentum=0.1, affine=True, track_running_stats=True\n",
      "          (drop): Identity()\n",
      "          (act): Identity()\n",
      "        )\n",
      "        (drop_path): Identity()\n",
      "      )\n",
      "      (4): InvertedResidual(\n",
      "        (conv_pw): Conv2d(192, 1152, kernel_size=(1, 1), stride=(1, 1), bias=False)\n",
      "        (bn1): BatchNormAct2d(\n",
      "          1152, eps=0.001, momentum=0.1, affine=True, track_running_stats=True\n",
      "          (drop): Identity()\n",
      "          (act): SiLU(inplace=True)\n",
      "        )\n",
      "        (conv_dw): Conv2d(1152, 1152, kernel_size=(3, 3), stride=(1, 1), padding=(1, 1), groups=1152, bias=False)\n",
      "        (bn2): BatchNormAct2d(\n",
      "          1152, eps=0.001, momentum=0.1, affine=True, track_running_stats=True\n",
      "          (drop): Identity()\n",
      "          (act): SiLU(inplace=True)\n",
      "        )\n",
      "        (aa): Identity()\n",
      "        (se): SqueezeExcite(\n",
      "          (conv_reduce): Conv2d(1152, 48, kernel_size=(1, 1), stride=(1, 1))\n",
      "          (act1): SiLU(inplace=True)\n",
      "          (conv_expand): Conv2d(48, 1152, kernel_size=(1, 1), stride=(1, 1))\n",
      "          (gate): Sigmoid()\n",
      "        )\n",
      "        (conv_pwl): Conv2d(1152, 192, kernel_size=(1, 1), stride=(1, 1), bias=False)\n",
      "        (bn3): BatchNormAct2d(\n",
      "          192, eps=0.001, momentum=0.1, affine=True, track_running_stats=True\n",
      "          (drop): Identity()\n",
      "          (act): Identity()\n",
      "        )\n",
      "        (drop_path): Identity()\n",
      "      )\n",
      "      (5): InvertedResidual(\n",
      "        (conv_pw): Conv2d(192, 1152, kernel_size=(1, 1), stride=(1, 1), bias=False)\n",
      "        (bn1): BatchNormAct2d(\n",
      "          1152, eps=0.001, momentum=0.1, affine=True, track_running_stats=True\n",
      "          (drop): Identity()\n",
      "          (act): SiLU(inplace=True)\n",
      "        )\n",
      "        (conv_dw): Conv2d(1152, 1152, kernel_size=(3, 3), stride=(1, 1), padding=(1, 1), groups=1152, bias=False)\n",
      "        (bn2): BatchNormAct2d(\n",
      "          1152, eps=0.001, momentum=0.1, affine=True, track_running_stats=True\n",
      "          (drop): Identity()\n",
      "          (act): SiLU(inplace=True)\n",
      "        )\n",
      "        (aa): Identity()\n",
      "        (se): SqueezeExcite(\n",
      "          (conv_reduce): Conv2d(1152, 48, kernel_size=(1, 1), stride=(1, 1))\n",
      "          (act1): SiLU(inplace=True)\n",
      "          (conv_expand): Conv2d(48, 1152, kernel_size=(1, 1), stride=(1, 1))\n",
      "          (gate): Sigmoid()\n",
      "        )\n",
      "        (conv_pwl): Conv2d(1152, 192, kernel_size=(1, 1), stride=(1, 1), bias=False)\n",
      "        (bn3): BatchNormAct2d(\n",
      "          192, eps=0.001, momentum=0.1, affine=True, track_running_stats=True\n",
      "          (drop): Identity()\n",
      "          (act): Identity()\n",
      "        )\n",
      "        (drop_path): Identity()\n",
      "      )\n",
      "      (6): InvertedResidual(\n",
      "        (conv_pw): Conv2d(192, 1152, kernel_size=(1, 1), stride=(1, 1), bias=False)\n",
      "        (bn1): BatchNormAct2d(\n",
      "          1152, eps=0.001, momentum=0.1, affine=True, track_running_stats=True\n",
      "          (drop): Identity()\n",
      "          (act): SiLU(inplace=True)\n",
      "        )\n",
      "        (conv_dw): Conv2d(1152, 1152, kernel_size=(3, 3), stride=(1, 1), padding=(1, 1), groups=1152, bias=False)\n",
      "        (bn2): BatchNormAct2d(\n",
      "          1152, eps=0.001, momentum=0.1, affine=True, track_running_stats=True\n",
      "          (drop): Identity()\n",
      "          (act): SiLU(inplace=True)\n",
      "        )\n",
      "        (aa): Identity()\n",
      "        (se): SqueezeExcite(\n",
      "          (conv_reduce): Conv2d(1152, 48, kernel_size=(1, 1), stride=(1, 1))\n",
      "          (act1): SiLU(inplace=True)\n",
      "          (conv_expand): Conv2d(48, 1152, kernel_size=(1, 1), stride=(1, 1))\n",
      "          (gate): Sigmoid()\n",
      "        )\n",
      "        (conv_pwl): Conv2d(1152, 192, kernel_size=(1, 1), stride=(1, 1), bias=False)\n",
      "        (bn3): BatchNormAct2d(\n",
      "          192, eps=0.001, momentum=0.1, affine=True, track_running_stats=True\n",
      "          (drop): Identity()\n",
      "          (act): Identity()\n",
      "        )\n",
      "        (drop_path): Identity()\n",
      "      )\n",
      "      (7): InvertedResidual(\n",
      "        (conv_pw): Conv2d(192, 1152, kernel_size=(1, 1), stride=(1, 1), bias=False)\n",
      "        (bn1): BatchNormAct2d(\n",
      "          1152, eps=0.001, momentum=0.1, affine=True, track_running_stats=True\n",
      "          (drop): Identity()\n",
      "          (act): SiLU(inplace=True)\n",
      "        )\n",
      "        (conv_dw): Conv2d(1152, 1152, kernel_size=(3, 3), stride=(1, 1), padding=(1, 1), groups=1152, bias=False)\n",
      "        (bn2): BatchNormAct2d(\n",
      "          1152, eps=0.001, momentum=0.1, affine=True, track_running_stats=True\n",
      "          (drop): Identity()\n",
      "          (act): SiLU(inplace=True)\n",
      "        )\n",
      "        (aa): Identity()\n",
      "        (se): SqueezeExcite(\n",
      "          (conv_reduce): Conv2d(1152, 48, kernel_size=(1, 1), stride=(1, 1))\n",
      "          (act1): SiLU(inplace=True)\n",
      "          (conv_expand): Conv2d(48, 1152, kernel_size=(1, 1), stride=(1, 1))\n",
      "          (gate): Sigmoid()\n",
      "        )\n",
      "        (conv_pwl): Conv2d(1152, 192, kernel_size=(1, 1), stride=(1, 1), bias=False)\n",
      "        (bn3): BatchNormAct2d(\n",
      "          192, eps=0.001, momentum=0.1, affine=True, track_running_stats=True\n",
      "          (drop): Identity()\n",
      "          (act): Identity()\n",
      "        )\n",
      "        (drop_path): Identity()\n",
      "      )\n",
      "    )\n",
      "  )\n",
      "  (conv_head): Conv2d(192, 1280, kernel_size=(1, 1), stride=(1, 1), bias=False)\n",
      "  (bn2): BatchNormAct2d(\n",
      "    1280, eps=0.001, momentum=0.1, affine=True, track_running_stats=True\n",
      "    (drop): Identity()\n",
      "    (act): SiLU(inplace=True)\n",
      "  )\n",
      "  (global_pool): SelectAdaptivePool2d(pool_type=avg, flatten=Flatten(start_dim=1, end_dim=-1))\n",
      "  (classifier): Linear(in_features=1280, out_features=1, bias=True)\n",
      ")\n"
     ]
    }
   ],
   "source": [
    "print(model)\n"
   ]
  },
  {
   "cell_type": "code",
   "execution_count": 5,
   "id": "dc2a9ecb",
   "metadata": {},
   "outputs": [
    {
     "name": "stdout",
     "output_type": "stream",
     "text": [
      "6 total layers\n"
     ]
    },
    {
     "data": {
      "text/plain": [
       "'Unfreezing layer: Sequential(\\n  (0): InvertedResidual(\\n    (conv_pw): Conv2d(96, 576, kernel_size=(1, 1), stride=(1, 1), bias=False)\\n    (bn1): BatchNormAct2d(\\n      576, eps=0.001, momentum=0.1, affine=True, track_running_stats=True\\n      (drop): Identity()\\n      (act): SiLU(inplace=True)\\n    )\\n    (conv_dw): Conv2d(576, 576, kernel_size=(3, 3), stride=(1, 1), padding=(1, 1), groups=576, bias=False)\\n    (bn2): BatchNormAct2d(\\n      576, eps=0.001, momentum=0.1, affine=True, track_running_stats=True\\n      (drop): Identity()\\n      (act): SiLU(inplace=True)\\n    )\\n    (aa): Identity()\\n    (se): SqueezeExcite(\\n      (conv_reduce): Conv2d(576, 24, kernel_size=(1, 1), stride=(1, 1))\\n      (act1): SiLU(inplace=True)\\n      (conv_expand): Conv2d(24, 576, kernel_size=(1, 1), stride=(1, 1))\\n      (gate): Sigmoid()\\n    )\\n    (conv_pwl): Conv2d(576, 112, kernel_size=(1, 1), stride=(1, 1), bias=False)\\n    (bn3): BatchNormAct2d(\\n      112, eps=0.001, momentum=0.1, affine=True, track_running_stats=True\\n      (drop): Identity()\\n      (act): Identity()\\n    )\\n    (drop_path): Identity()\\n  )\\n  (1): InvertedResidual(\\n    (conv_pw): Conv2d(112, 672, kernel_size=(1, 1), stride=(1, 1), bias=False)\\n    (bn1): BatchNormAct2d(\\n      672, eps=0.001, momentum=0.1, affine=True, track_running_stats=True\\n      (drop): Identity()\\n      (act): SiLU(inplace=True)\\n    )\\n    (conv_dw): Conv2d(672, 672, kernel_size=(3, 3), stride=(1, 1), padding=(1, 1), groups=672, bias=False)\\n    (bn2): BatchNormAct2d(\\n      672, eps=0.001, momentum=0.1, affine=True, track_running_stats=True\\n      (drop): Identity()\\n      (act): SiLU(inplace=True)\\n    )\\n    (aa): Identity()\\n    (se): SqueezeExcite(\\n      (conv_reduce): Conv2d(672, 28, kernel_size=(1, 1), stride=(1, 1))\\n      (act1): SiLU(inplace=True)\\n      (conv_expand): Conv2d(28, 672, kernel_size=(1, 1), stride=(1, 1))\\n      (gate): Sigmoid()\\n    )\\n    (conv_pwl): Conv2d(672, 112, kernel_size=(1, 1), stride=(1, 1), bias=False)\\n    (bn3): BatchNormAct2d(\\n      112, eps=0.001, momentum=0.1, affine=True, track_running_stats=True\\n      (drop): Identity()\\n      (act): Identity()\\n    )\\n    (drop_path): Identity()\\n  )\\n  (2): InvertedResidual(\\n    (conv_pw): Conv2d(112, 672, kernel_size=(1, 1), stride=(1, 1), bias=False)\\n    (bn1): BatchNormAct2d(\\n      672, eps=0.001, momentum=0.1, affine=True, track_running_stats=True\\n      (drop): Identity()\\n      (act): SiLU(inplace=True)\\n    )\\n    (conv_dw): Conv2d(672, 672, kernel_size=(3, 3), stride=(1, 1), padding=(1, 1), groups=672, bias=False)\\n    (bn2): BatchNormAct2d(\\n      672, eps=0.001, momentum=0.1, affine=True, track_running_stats=True\\n      (drop): Identity()\\n      (act): SiLU(inplace=True)\\n    )\\n    (aa): Identity()\\n    (se): SqueezeExcite(\\n      (conv_reduce): Conv2d(672, 28, kernel_size=(1, 1), stride=(1, 1))\\n      (act1): SiLU(inplace=True)\\n      (conv_expand): Conv2d(28, 672, kernel_size=(1, 1), stride=(1, 1))\\n      (gate): Sigmoid()\\n    )\\n    (conv_pwl): Conv2d(672, 112, kernel_size=(1, 1), stride=(1, 1), bias=False)\\n    (bn3): BatchNormAct2d(\\n      112, eps=0.001, momentum=0.1, affine=True, track_running_stats=True\\n      (drop): Identity()\\n      (act): Identity()\\n    )\\n    (drop_path): Identity()\\n  )\\n  (3): InvertedResidual(\\n    (conv_pw): Conv2d(112, 672, kernel_size=(1, 1), stride=(1, 1), bias=False)\\n    (bn1): BatchNormAct2d(\\n      672, eps=0.001, momentum=0.1, affine=True, track_running_stats=True\\n      (drop): Identity()\\n      (act): SiLU(inplace=True)\\n    )\\n    (conv_dw): Conv2d(672, 672, kernel_size=(3, 3), stride=(1, 1), padding=(1, 1), groups=672, bias=False)\\n    (bn2): BatchNormAct2d(\\n      672, eps=0.001, momentum=0.1, affine=True, track_running_stats=True\\n      (drop): Identity()\\n      (act): SiLU(inplace=True)\\n    )\\n    (aa): Identity()\\n    (se): SqueezeExcite(\\n      (conv_reduce): Conv2d(672, 28, kernel_size=(1, 1), stride=(1, 1))\\n      (act1): SiLU(inplace=True)\\n      (conv_expand): Conv2d(28, 672, kernel_size=(1, 1), stride=(1, 1))\\n      (gate): Sigmoid()\\n    )\\n    (conv_pwl): Conv2d(672, 112, kernel_size=(1, 1), stride=(1, 1), bias=False)\\n    (bn3): BatchNormAct2d(\\n      112, eps=0.001, momentum=0.1, affine=True, track_running_stats=True\\n      (drop): Identity()\\n      (act): Identity()\\n    )\\n    (drop_path): Identity()\\n  )\\n  (4): InvertedResidual(\\n    (conv_pw): Conv2d(112, 672, kernel_size=(1, 1), stride=(1, 1), bias=False)\\n    (bn1): BatchNormAct2d(\\n      672, eps=0.001, momentum=0.1, affine=True, track_running_stats=True\\n      (drop): Identity()\\n      (act): SiLU(inplace=True)\\n    )\\n    (conv_dw): Conv2d(672, 672, kernel_size=(3, 3), stride=(1, 1), padding=(1, 1), groups=672, bias=False)\\n    (bn2): BatchNormAct2d(\\n      672, eps=0.001, momentum=0.1, affine=True, track_running_stats=True\\n      (drop): Identity()\\n      (act): SiLU(inplace=True)\\n    )\\n    (aa): Identity()\\n    (se): SqueezeExcite(\\n      (conv_reduce): Conv2d(672, 28, kernel_size=(1, 1), stride=(1, 1))\\n      (act1): SiLU(inplace=True)\\n      (conv_expand): Conv2d(28, 672, kernel_size=(1, 1), stride=(1, 1))\\n      (gate): Sigmoid()\\n    )\\n    (conv_pwl): Conv2d(672, 112, kernel_size=(1, 1), stride=(1, 1), bias=False)\\n    (bn3): BatchNormAct2d(\\n      112, eps=0.001, momentum=0.1, affine=True, track_running_stats=True\\n      (drop): Identity()\\n      (act): Identity()\\n    )\\n    (drop_path): Identity()\\n  )\\n)'"
      ]
     },
     "metadata": {},
     "output_type": "display_data"
    },
    {
     "data": {
      "text/plain": [
       "'Unfreezing layer: Sequential(\\n  (0): InvertedResidual(\\n    (conv_pw): Conv2d(112, 672, kernel_size=(1, 1), stride=(1, 1), bias=False)\\n    (bn1): BatchNormAct2d(\\n      672, eps=0.001, momentum=0.1, affine=True, track_running_stats=True\\n      (drop): Identity()\\n      (act): SiLU(inplace=True)\\n    )\\n    (conv_dw): Conv2dSame(672, 672, kernel_size=(3, 3), stride=(2, 2), groups=672, bias=False)\\n    (bn2): BatchNormAct2d(\\n      672, eps=0.001, momentum=0.1, affine=True, track_running_stats=True\\n      (drop): Identity()\\n      (act): SiLU(inplace=True)\\n    )\\n    (aa): Identity()\\n    (se): SqueezeExcite(\\n      (conv_reduce): Conv2d(672, 28, kernel_size=(1, 1), stride=(1, 1))\\n      (act1): SiLU(inplace=True)\\n      (conv_expand): Conv2d(28, 672, kernel_size=(1, 1), stride=(1, 1))\\n      (gate): Sigmoid()\\n    )\\n    (conv_pwl): Conv2d(672, 192, kernel_size=(1, 1), stride=(1, 1), bias=False)\\n    (bn3): BatchNormAct2d(\\n      192, eps=0.001, momentum=0.1, affine=True, track_running_stats=True\\n      (drop): Identity()\\n      (act): Identity()\\n    )\\n    (drop_path): Identity()\\n  )\\n  (1): InvertedResidual(\\n    (conv_pw): Conv2d(192, 1152, kernel_size=(1, 1), stride=(1, 1), bias=False)\\n    (bn1): BatchNormAct2d(\\n      1152, eps=0.001, momentum=0.1, affine=True, track_running_stats=True\\n      (drop): Identity()\\n      (act): SiLU(inplace=True)\\n    )\\n    (conv_dw): Conv2d(1152, 1152, kernel_size=(3, 3), stride=(1, 1), padding=(1, 1), groups=1152, bias=False)\\n    (bn2): BatchNormAct2d(\\n      1152, eps=0.001, momentum=0.1, affine=True, track_running_stats=True\\n      (drop): Identity()\\n      (act): SiLU(inplace=True)\\n    )\\n    (aa): Identity()\\n    (se): SqueezeExcite(\\n      (conv_reduce): Conv2d(1152, 48, kernel_size=(1, 1), stride=(1, 1))\\n      (act1): SiLU(inplace=True)\\n      (conv_expand): Conv2d(48, 1152, kernel_size=(1, 1), stride=(1, 1))\\n      (gate): Sigmoid()\\n    )\\n    (conv_pwl): Conv2d(1152, 192, kernel_size=(1, 1), stride=(1, 1), bias=False)\\n    (bn3): BatchNormAct2d(\\n      192, eps=0.001, momentum=0.1, affine=True, track_running_stats=True\\n      (drop): Identity()\\n      (act): Identity()\\n    )\\n    (drop_path): Identity()\\n  )\\n  (2): InvertedResidual(\\n    (conv_pw): Conv2d(192, 1152, kernel_size=(1, 1), stride=(1, 1), bias=False)\\n    (bn1): BatchNormAct2d(\\n      1152, eps=0.001, momentum=0.1, affine=True, track_running_stats=True\\n      (drop): Identity()\\n      (act): SiLU(inplace=True)\\n    )\\n    (conv_dw): Conv2d(1152, 1152, kernel_size=(3, 3), stride=(1, 1), padding=(1, 1), groups=1152, bias=False)\\n    (bn2): BatchNormAct2d(\\n      1152, eps=0.001, momentum=0.1, affine=True, track_running_stats=True\\n      (drop): Identity()\\n      (act): SiLU(inplace=True)\\n    )\\n    (aa): Identity()\\n    (se): SqueezeExcite(\\n      (conv_reduce): Conv2d(1152, 48, kernel_size=(1, 1), stride=(1, 1))\\n      (act1): SiLU(inplace=True)\\n      (conv_expand): Conv2d(48, 1152, kernel_size=(1, 1), stride=(1, 1))\\n      (gate): Sigmoid()\\n    )\\n    (conv_pwl): Conv2d(1152, 192, kernel_size=(1, 1), stride=(1, 1), bias=False)\\n    (bn3): BatchNormAct2d(\\n      192, eps=0.001, momentum=0.1, affine=True, track_running_stats=True\\n      (drop): Identity()\\n      (act): Identity()\\n    )\\n    (drop_path): Identity()\\n  )\\n  (3): InvertedResidual(\\n    (conv_pw): Conv2d(192, 1152, kernel_size=(1, 1), stride=(1, 1), bias=False)\\n    (bn1): BatchNormAct2d(\\n      1152, eps=0.001, momentum=0.1, affine=True, track_running_stats=True\\n      (drop): Identity()\\n      (act): SiLU(inplace=True)\\n    )\\n    (conv_dw): Conv2d(1152, 1152, kernel_size=(3, 3), stride=(1, 1), padding=(1, 1), groups=1152, bias=False)\\n    (bn2): BatchNormAct2d(\\n      1152, eps=0.001, momentum=0.1, affine=True, track_running_stats=True\\n      (drop): Identity()\\n      (act): SiLU(inplace=True)\\n    )\\n    (aa): Identity()\\n    (se): SqueezeExcite(\\n      (conv_reduce): Conv2d(1152, 48, kernel_size=(1, 1), stride=(1, 1))\\n      (act1): SiLU(inplace=True)\\n      (conv_expand): Conv2d(48, 1152, kernel_size=(1, 1), stride=(1, 1))\\n      (gate): Sigmoid()\\n    )\\n    (conv_pwl): Conv2d(1152, 192, kernel_size=(1, 1), stride=(1, 1), bias=False)\\n    (bn3): BatchNormAct2d(\\n      192, eps=0.001, momentum=0.1, affine=True, track_running_stats=True\\n      (drop): Identity()\\n      (act): Identity()\\n    )\\n    (drop_path): Identity()\\n  )\\n  (4): InvertedResidual(\\n    (conv_pw): Conv2d(192, 1152, kernel_size=(1, 1), stride=(1, 1), bias=False)\\n    (bn1): BatchNormAct2d(\\n      1152, eps=0.001, momentum=0.1, affine=True, track_running_stats=True\\n      (drop): Identity()\\n      (act): SiLU(inplace=True)\\n    )\\n    (conv_dw): Conv2d(1152, 1152, kernel_size=(3, 3), stride=(1, 1), padding=(1, 1), groups=1152, bias=False)\\n    (bn2): BatchNormAct2d(\\n      1152, eps=0.001, momentum=0.1, affine=True, track_running_stats=True\\n      (drop): Identity()\\n      (act): SiLU(inplace=True)\\n    )\\n    (aa): Identity()\\n    (se): SqueezeExcite(\\n      (conv_reduce): Conv2d(1152, 48, kernel_size=(1, 1), stride=(1, 1))\\n      (act1): SiLU(inplace=True)\\n      (conv_expand): Conv2d(48, 1152, kernel_size=(1, 1), stride=(1, 1))\\n      (gate): Sigmoid()\\n    )\\n    (conv_pwl): Conv2d(1152, 192, kernel_size=(1, 1), stride=(1, 1), bias=False)\\n    (bn3): BatchNormAct2d(\\n      192, eps=0.001, momentum=0.1, affine=True, track_running_stats=True\\n      (drop): Identity()\\n      (act): Identity()\\n    )\\n    (drop_path): Identity()\\n  )\\n  (5): InvertedResidual(\\n    (conv_pw): Conv2d(192, 1152, kernel_size=(1, 1), stride=(1, 1), bias=False)\\n    (bn1): BatchNormAct2d(\\n      1152, eps=0.001, momentum=0.1, affine=True, track_running_stats=True\\n      (drop): Identity()\\n      (act): SiLU(inplace=True)\\n    )\\n    (conv_dw): Conv2d(1152, 1152, kernel_size=(3, 3), stride=(1, 1), padding=(1, 1), groups=1152, bias=False)\\n    (bn2): BatchNormAct2d(\\n      1152, eps=0.001, momentum=0.1, affine=True, track_running_stats=True\\n      (drop): Identity()\\n      (act): SiLU(inplace=True)\\n    )\\n    (aa): Identity()\\n    (se): SqueezeExcite(\\n      (conv_reduce): Conv2d(1152, 48, kernel_size=(1, 1), stride=(1, 1))\\n      (act1): SiLU(inplace=True)\\n      (conv_expand): Conv2d(48, 1152, kernel_size=(1, 1), stride=(1, 1))\\n      (gate): Sigmoid()\\n    )\\n    (conv_pwl): Conv2d(1152, 192, kernel_size=(1, 1), stride=(1, 1), bias=False)\\n    (bn3): BatchNormAct2d(\\n      192, eps=0.001, momentum=0.1, affine=True, track_running_stats=True\\n      (drop): Identity()\\n      (act): Identity()\\n    )\\n    (drop_path): Identity()\\n  )\\n  (6): InvertedResidual(\\n    (conv_pw): Conv2d(192, 1152, kernel_size=(1, 1), stride=(1, 1), bias=False)\\n    (bn1): BatchNormAct2d(\\n      1152, eps=0.001, momentum=0.1, affine=True, track_running_stats=True\\n      (drop): Identity()\\n      (act): SiLU(inplace=True)\\n    )\\n    (conv_dw): Conv2d(1152, 1152, kernel_size=(3, 3), stride=(1, 1), padding=(1, 1), groups=1152, bias=False)\\n    (bn2): BatchNormAct2d(\\n      1152, eps=0.001, momentum=0.1, affine=True, track_running_stats=True\\n      (drop): Identity()\\n      (act): SiLU(inplace=True)\\n    )\\n    (aa): Identity()\\n    (se): SqueezeExcite(\\n      (conv_reduce): Conv2d(1152, 48, kernel_size=(1, 1), stride=(1, 1))\\n      (act1): SiLU(inplace=True)\\n      (conv_expand): Conv2d(48, 1152, kernel_size=(1, 1), stride=(1, 1))\\n      (gate): Sigmoid()\\n    )\\n    (conv_pwl): Conv2d(1152, 192, kernel_size=(1, 1), stride=(1, 1), bias=False)\\n    (bn3): BatchNormAct2d(\\n      192, eps=0.001, momentum=0.1, affine=True, track_running_stats=True\\n      (drop): Identity()\\n      (act): Identity()\\n    )\\n    (drop_path): Identity()\\n  )\\n  (7): InvertedResidual(\\n    (conv_pw): Conv2d(192, 1152, kernel_size=(1, 1), stride=(1, 1), bias=False)\\n    (bn1): BatchNormAct2d(\\n      1152, eps=0.001, momentum=0.1, affine=True, track_running_stats=True\\n      (drop): Identity()\\n      (act): SiLU(inplace=True)\\n    )\\n    (conv_dw): Conv2d(1152, 1152, kernel_size=(3, 3), stride=(1, 1), padding=(1, 1), groups=1152, bias=False)\\n    (bn2): BatchNormAct2d(\\n      1152, eps=0.001, momentum=0.1, affine=True, track_running_stats=True\\n      (drop): Identity()\\n      (act): SiLU(inplace=True)\\n    )\\n    (aa): Identity()\\n    (se): SqueezeExcite(\\n      (conv_reduce): Conv2d(1152, 48, kernel_size=(1, 1), stride=(1, 1))\\n      (act1): SiLU(inplace=True)\\n      (conv_expand): Conv2d(48, 1152, kernel_size=(1, 1), stride=(1, 1))\\n      (gate): Sigmoid()\\n    )\\n    (conv_pwl): Conv2d(1152, 192, kernel_size=(1, 1), stride=(1, 1), bias=False)\\n    (bn3): BatchNormAct2d(\\n      192, eps=0.001, momentum=0.1, affine=True, track_running_stats=True\\n      (drop): Identity()\\n      (act): Identity()\\n    )\\n    (drop_path): Identity()\\n  )\\n)'"
      ]
     },
     "metadata": {},
     "output_type": "display_data"
    }
   ],
   "source": [
    "model = model.to(device)\n",
    "model.train()\n",
    "\n",
    "# freeze model parameters\n",
    "for param in model.parameters():\n",
    "    param.requires_grad = False\n",
    "\n",
    "print(len(model.blocks),\"total layers\")\n",
    "\n",
    "# unfreeze n layer parameters\n",
    "n = 2\n",
    "for layer in model.blocks[-n:]:\n",
    "    for param in layer.parameters():\n",
    "        param.requires_grad = True\n",
    "    display(f'Unfreezing layer: {layer}')\n",
    "\n",
    "for param in model.classifier.parameters():\n",
    "    param.requires_grad = True\n",
    "\n",
    "optimizer = torch.optim.Adam(\n",
    "    list(model.classifier.parameters()) +\n",
    "    [p for p in model.blocks.parameters() if p.requires_grad == True],\n",
    "    lr=1e-4\n",
    ")\n",
    "\n",
    "\n",
    "\n"
   ]
  },
  {
   "cell_type": "markdown",
   "id": "ef9e2c97",
   "metadata": {},
   "source": [
    "### Train"
   ]
  },
  {
   "cell_type": "code",
   "execution_count": null,
   "id": "53b69100",
   "metadata": {},
   "outputs": [
    {
     "name": "stdout",
     "output_type": "stream",
     "text": [
      "Loading existing model weights...\n",
      "Resuming training with loaded model weights.\n"
     ]
    },
    {
     "data": {
      "application/vnd.jupyter.widget-view+json": {
       "model_id": "4722674449ab4e5fa96e1eae87005176",
       "version_major": 2,
       "version_minor": 0
      },
      "text/plain": [
       "Epochs:   0%|          | 0/10 [00:00<?, ?it/s]"
      ]
     },
     "metadata": {},
     "output_type": "display_data"
    },
    {
     "data": {
      "application/vnd.jupyter.widget-view+json": {
       "model_id": "6829c60a2c8548c8a409041efd3c53a7",
       "version_major": 2,
       "version_minor": 0
      },
      "text/plain": [
       "Videos:   0%|          | 0/267 [00:00<?, ?it/s]"
      ]
     },
     "metadata": {},
     "output_type": "display_data"
    },
    {
     "data": {
      "application/vnd.jupyter.widget-view+json": {
       "model_id": "11c314eb0197406eb3323defd7bf22ba",
       "version_major": 2,
       "version_minor": 0
      },
      "text/plain": [
       "Videos:   0%|          | 0/267 [00:00<?, ?it/s]"
      ]
     },
     "metadata": {},
     "output_type": "display_data"
    },
    {
     "data": {
      "application/vnd.jupyter.widget-view+json": {
       "model_id": "597c679ad0084bc181d9c978aeccbc2a",
       "version_major": 2,
       "version_minor": 0
      },
      "text/plain": [
       "Videos:   0%|          | 0/267 [00:00<?, ?it/s]"
      ]
     },
     "metadata": {},
     "output_type": "display_data"
    },
    {
     "data": {
      "application/vnd.jupyter.widget-view+json": {
       "model_id": "672424a6e8b142339a1aba1b3cf69bf7",
       "version_major": 2,
       "version_minor": 0
      },
      "text/plain": [
       "Videos:   0%|          | 0/267 [00:00<?, ?it/s]"
      ]
     },
     "metadata": {},
     "output_type": "display_data"
    },
    {
     "data": {
      "application/vnd.jupyter.widget-view+json": {
       "model_id": "bf4a7584092847eab8167337391814f1",
       "version_major": 2,
       "version_minor": 0
      },
      "text/plain": [
       "Videos:   0%|          | 0/267 [00:00<?, ?it/s]"
      ]
     },
     "metadata": {},
     "output_type": "display_data"
    },
    {
     "data": {
      "application/vnd.jupyter.widget-view+json": {
       "model_id": "741f4a24c7544b66a919bdb30b297989",
       "version_major": 2,
       "version_minor": 0
      },
      "text/plain": [
       "Videos:   0%|          | 0/267 [00:00<?, ?it/s]"
      ]
     },
     "metadata": {},
     "output_type": "display_data"
    },
    {
     "data": {
      "application/vnd.jupyter.widget-view+json": {
       "model_id": "749977685dbd4bfea67305ff5ed78506",
       "version_major": 2,
       "version_minor": 0
      },
      "text/plain": [
       "Videos:   0%|          | 0/267 [00:00<?, ?it/s]"
      ]
     },
     "metadata": {},
     "output_type": "display_data"
    },
    {
     "data": {
      "application/vnd.jupyter.widget-view+json": {
       "model_id": "9ae0dca103194d0e94a2fa79943293dc",
       "version_major": 2,
       "version_minor": 0
      },
      "text/plain": [
       "Videos:   0%|          | 0/267 [00:00<?, ?it/s]"
      ]
     },
     "metadata": {},
     "output_type": "display_data"
    },
    {
     "data": {
      "application/vnd.jupyter.widget-view+json": {
       "model_id": "f444b859beed44709e18e261d0d9dd6a",
       "version_major": 2,
       "version_minor": 0
      },
      "text/plain": [
       "Videos:   0%|          | 0/267 [00:00<?, ?it/s]"
      ]
     },
     "metadata": {},
     "output_type": "display_data"
    },
    {
     "data": {
      "application/vnd.jupyter.widget-view+json": {
       "model_id": "c649b9258f754c4fbd9fdf04848fb0fb",
       "version_major": 2,
       "version_minor": 0
      },
      "text/plain": [
       "Videos:   0%|          | 0/267 [00:00<?, ?it/s]"
      ]
     },
     "metadata": {},
     "output_type": "display_data"
    }
   ],
   "source": [
    "\n",
    "\n",
    "batch_size = 24\n",
    "labels = []\n",
    "video_paths = x_train\n",
    "video_labels = y_train\n",
    "total_batches = 0\n",
    "\n",
    "\n",
    "# from urllib.request import urlopen\n",
    "# from PIL import Image\n",
    "# import timm\n",
    "\n",
    "# img = Image.open(urlopen(\n",
    "#     'https://huggingface.co/datasets/huggingface/documentation-images/resolve/main/beignets-task-guide.png'\n",
    "# ))\n",
    "\n",
    "# model = timm.create_model('tf_efficientnetv2_b0.in1k', pretrained=True)\n",
    "# model = model.eval()\n",
    "\n",
    "# # get model specific transforms (normalization, resize)\n",
    "# data_config = timm.data.resolve_model_data_config(model)\n",
    "# transforms = timm.data.create_transform(**data_config, is_training=False)\n",
    "\n",
    "# output = model(transforms(img).unsqueeze(0))  # unsqueeze single image into batch of 1\n",
    "\n",
    "# top5_probabilities, top5_class_indices = torch.topk(output.softmax(dim=1) * 100, k=5)\n",
    "\n",
    "\n",
    "loss_path= 'efficientnetV2_B0_train_loss.npy'\n",
    "model_path = 'efficientnetV2_B0.pth'\n",
    "\n",
    "\n",
    "if os.path.exists(model_path):\n",
    "    print(\"Loading existing model weights...\")\n",
    "    model.load_state_dict(torch.load(model_path))\n",
    "    model = model.to(device)\n",
    "    print(\"Resuming training with loaded model weights.\")\n",
    "\n",
    "else:\n",
    "    print(\"Model weights not found, starting training...\")\n",
    "\n",
    "\n",
    "\n",
    "\n",
    "\n",
    "num_epochs = 10  # Adjust as needed\n",
    "train_loss=np.zeros(num_epochs)\n",
    "\n",
    "start_time = time.time()\n",
    "\n",
    "epoch_bar = tqdm(range(num_epochs), desc='Epochs')\n",
    "for epoch in epoch_bar:\n",
    "    model.train()\n",
    "    # classifier.train()\n",
    "\n",
    "    running_loss = 0.0\n",
    "    total_batches = 0\n",
    "\n",
    "    video_bar = tqdm(zip(video_paths, video_labels),desc='Videos', total=len(video_paths))\n",
    "    for path, label in video_bar:\n",
    "        image_files = sorted([ os.path.join(path, f)\n",
    "        for f in os.listdir(path)\n",
    "        if f.lower().endswith('.png')\n",
    "        ])\n",
    "\n",
    "        labels.extend([label] * len(image_files))  # Repeat label for each image\n",
    "\n",
    "        video_run_loss=0.0\n",
    "        batches = 0\n",
    "\n",
    "        for i in range(0, len(image_files), batch_size):\n",
    "            batch_paths = image_files[i:i+batch_size]\n",
    "            images = [Image.open(p).convert(\"RGB\") for p in batch_paths]\n",
    "\n",
    "            batch_tensor = torch.stack([transforms(img) for img in images]).to(device)\n",
    "\n",
    "            # inputs = processor(images=images, return_tensors=\"pt\")\n",
    "            # inputs = {k: v.to(device) for k, v in inputs.items()}\n",
    "\n",
    "            batch_labels = torch.tensor([label] * len(images), dtype=torch.float).unsqueeze(1).to(device)\n",
    "\n",
    "            optimizer.zero_grad()\n",
    "\n",
    "            outputs = model(batch_tensor)  # shape: [batch_size, 1]\n",
    "            batch_logits = outputs\n",
    "            loss = criterion(batch_logits, batch_labels)\n",
    "            loss.backward()\n",
    "            optimizer.step()\n",
    "\n",
    "            loss_item = loss.item()\n",
    "            running_loss += loss_item\n",
    "            video_run_loss += loss_item\n",
    "\n",
    "            batches += 1\n",
    "            total_batches += 1\n",
    "\n",
    "            \n",
    "\n",
    "        video_loss = video_run_loss / batches if batches > 0 else 0\n",
    "        video_bar.set_postfix(Last_Loss=f'{video_loss:.4f}')\n",
    "        \n",
    "    avg_loss = running_loss / total_batches if total_batches > 0 else 0\n",
    "    train_loss[epoch] = avg_loss\n",
    "    epoch_bar.set_postfix(Curr_Loss=f'{avg_loss:.4f}')\n",
    "\n",
    "end_time = time.time()\n",
    "training_time = end_time - start_time\n",
    "\n",
    "# Save model backbone\n",
    "torch.save(model.state_dict(), model_path)\n",
    "# Saving training loss\n",
    "\n",
    "if os.path.exists(loss_path):\n",
    "    # loading existing training loss\n",
    "    training_loss = np.load(loss_path)\n",
    "    training_loss = np.concatenate((training_loss, train_loss))\n",
    "    np.save(loss_path, training_loss)\n",
    "\n",
    "else:\n",
    "    training_loss = train_loss\n",
    "    np.save(loss_path, training_loss)\n",
    "\n",
    "\n"
   ]
  },
  {
   "cell_type": "code",
   "execution_count": 7,
   "id": "36a7579b",
   "metadata": {},
   "outputs": [
    {
     "name": "stdout",
     "output_type": "stream",
     "text": [
      "Training completed in 74.02 minutes\n"
     ]
    }
   ],
   "source": [
    "\n",
    "print(f\"Training completed in {training_time/60:.2f} minutes\")\n"
   ]
  },
  {
   "cell_type": "markdown",
   "id": "017bd15f",
   "metadata": {},
   "source": [
    "Log Loss Graph"
   ]
  },
  {
   "cell_type": "code",
   "execution_count": 7,
   "id": "a4f7d917",
   "metadata": {},
   "outputs": [],
   "source": [
    "loss_path= 'efficientnetV2_B0_train_loss.npy'\n",
    "training_loss = np.load(loss_path)"
   ]
  },
  {
   "cell_type": "code",
   "execution_count": 8,
   "id": "6ea5f2f0",
   "metadata": {},
   "outputs": [
    {
     "data": {
      "image/png": "[encoded data removed]",
      "text/plain": [
       "<Figure size 1600x800 with 1 Axes>"
      ]
     },
     "metadata": {},
     "output_type": "display_data"
    },
    {
     "name": "stdout",
     "output_type": "stream",
     "text": [
      "Last Training Log Loss: 0.0003\n"
     ]
    }
   ],
   "source": [
    "epochs = list(range(1, len(training_loss) + 1))\n",
    "plt.figure(figsize=(16, 8))\n",
    "plt.plot(epochs, training_loss)\n",
    "plt.title('Training Log Loss')\n",
    "plt.xlabel('Epoch')\n",
    "plt.ylabel('Average Log Loss')\n",
    "plt.show()\n",
    "\n",
    "print(f\"Last Training Log Loss: {training_loss[-1]:.4f}\")"
   ]
  },
  {
   "cell_type": "markdown",
   "id": "879e9e48",
   "metadata": {},
   "source": [
    "# Validation"
   ]
  },
  {
   "cell_type": "code",
   "execution_count": 3,
   "id": "6b8072c0",
   "metadata": {},
   "outputs": [],
   "source": [
    "model.load_state_dict(torch.load('efficientnetV2_B0.pth'))\n",
    "# classifier.load_state_dict(torch.load('vit_classifier_head.pth'))\n",
    "model = model.to(device)\n",
    "# classifier = classifier.to(device)\n",
    "\n"
   ]
  },
  {
   "cell_type": "markdown",
   "id": "9303bcfe",
   "metadata": {},
   "source": [
    "### Model and Data"
   ]
  },
  {
   "cell_type": "code",
   "execution_count": 4,
   "id": "572d85a5",
   "metadata": {},
   "outputs": [],
   "source": [
    "data = np.load('train_test_split.npz', allow_pickle=True)\n",
    "x_val = data['x_val']\n",
    "y_val = data['y_val']\n"
   ]
  },
  {
   "cell_type": "code",
   "execution_count": 6,
   "id": "328afd12",
   "metadata": {},
   "outputs": [
    {
     "data": {
      "application/vnd.jupyter.widget-view+json": {
       "model_id": "99667acd2a0d43118ef1db2b24f36d5e",
       "version_major": 2,
       "version_minor": 0
      },
      "text/plain": [
       "Videos:   0%|          | 0/115 [00:00<?, ?it/s]"
      ]
     },
     "metadata": {},
     "output_type": "display_data"
    },
    {
     "data": {
      "application/vnd.jupyter.widget-view+json": {
       "model_id": "117e617d21724c6ab8c3da78a3e500ea",
       "version_major": 2,
       "version_minor": 0
      },
      "text/plain": [
       "Image Batches:   0%|          | 0/13 [00:00<?, ?it/s]"
      ]
     },
     "metadata": {},
     "output_type": "display_data"
    },
    {
     "data": {
      "application/vnd.jupyter.widget-view+json": {
       "model_id": "a036147db9944ac09c44fd83c773f655",
       "version_major": 2,
       "version_minor": 0
      },
      "text/plain": [
       "Image Batches:   0%|          | 0/25 [00:00<?, ?it/s]"
      ]
     },
     "metadata": {},
     "output_type": "display_data"
    },
    {
     "data": {
      "application/vnd.jupyter.widget-view+json": {
       "model_id": "cb44942b7a264303bc74aabd46567299",
       "version_major": 2,
       "version_minor": 0
      },
      "text/plain": [
       "Image Batches:   0%|          | 0/13 [00:00<?, ?it/s]"
      ]
     },
     "metadata": {},
     "output_type": "display_data"
    },
    {
     "data": {
      "application/vnd.jupyter.widget-view+json": {
       "model_id": "1994ee9ed60a48b0b30c2235347cbe67",
       "version_major": 2,
       "version_minor": 0
      },
      "text/plain": [
       "Image Batches:   0%|          | 0/13 [00:00<?, ?it/s]"
      ]
     },
     "metadata": {},
     "output_type": "display_data"
    },
    {
     "data": {
      "application/vnd.jupyter.widget-view+json": {
       "model_id": "016b82c9bf644ecdbf149c0392f08083",
       "version_major": 2,
       "version_minor": 0
      },
      "text/plain": [
       "Image Batches:   0%|          | 0/13 [00:00<?, ?it/s]"
      ]
     },
     "metadata": {},
     "output_type": "display_data"
    },
    {
     "data": {
      "application/vnd.jupyter.widget-view+json": {
       "model_id": "4a85de26a6c24b9595a71c078e3c3e77",
       "version_major": 2,
       "version_minor": 0
      },
      "text/plain": [
       "Image Batches:   0%|          | 0/13 [00:00<?, ?it/s]"
      ]
     },
     "metadata": {},
     "output_type": "display_data"
    },
    {
     "data": {
      "application/vnd.jupyter.widget-view+json": {
       "model_id": "5ab16a81baf34c4a86319018e5fe4855",
       "version_major": 2,
       "version_minor": 0
      },
      "text/plain": [
       "Image Batches:   0%|          | 0/13 [00:00<?, ?it/s]"
      ]
     },
     "metadata": {},
     "output_type": "display_data"
    },
    {
     "data": {
      "application/vnd.jupyter.widget-view+json": {
       "model_id": "d2d126a3ec29466981f505bdc3266625",
       "version_major": 2,
       "version_minor": 0
      },
      "text/plain": [
       "Image Batches:   0%|          | 0/13 [00:00<?, ?it/s]"
      ]
     },
     "metadata": {},
     "output_type": "display_data"
    },
    {
     "data": {
      "application/vnd.jupyter.widget-view+json": {
       "model_id": "32786835863e43138126d203bd9408e7",
       "version_major": 2,
       "version_minor": 0
      },
      "text/plain": [
       "Image Batches:   0%|          | 0/13 [00:00<?, ?it/s]"
      ]
     },
     "metadata": {},
     "output_type": "display_data"
    },
    {
     "data": {
      "application/vnd.jupyter.widget-view+json": {
       "model_id": "b16f5058acf24dd2aa73a7e217348529",
       "version_major": 2,
       "version_minor": 0
      },
      "text/plain": [
       "Image Batches:   0%|          | 0/13 [00:00<?, ?it/s]"
      ]
     },
     "metadata": {},
     "output_type": "display_data"
    },
    {
     "data": {
      "application/vnd.jupyter.widget-view+json": {
       "model_id": "adc60b79edee4809a5f7b80fe0bb93b8",
       "version_major": 2,
       "version_minor": 0
      },
      "text/plain": [
       "Image Batches:   0%|          | 0/14 [00:00<?, ?it/s]"
      ]
     },
     "metadata": {},
     "output_type": "display_data"
    },
    {
     "data": {
      "application/vnd.jupyter.widget-view+json": {
       "model_id": "faed17b814f349718a4efae41b9f52c4",
       "version_major": 2,
       "version_minor": 0
      },
      "text/plain": [
       "Image Batches:   0%|          | 0/13 [00:00<?, ?it/s]"
      ]
     },
     "metadata": {},
     "output_type": "display_data"
    },
    {
     "data": {
      "application/vnd.jupyter.widget-view+json": {
       "model_id": "f7ed2c94dd664dbbb78a71ac062f6380",
       "version_major": 2,
       "version_minor": 0
      },
      "text/plain": [
       "Image Batches:   0%|          | 0/13 [00:00<?, ?it/s]"
      ]
     },
     "metadata": {},
     "output_type": "display_data"
    },
    {
     "data": {
      "application/vnd.jupyter.widget-view+json": {
       "model_id": "1b0d99d41f2e4d2f85394c2321a4da2e",
       "version_major": 2,
       "version_minor": 0
      },
      "text/plain": [
       "Image Batches:   0%|          | 0/13 [00:00<?, ?it/s]"
      ]
     },
     "metadata": {},
     "output_type": "display_data"
    },
    {
     "data": {
      "application/vnd.jupyter.widget-view+json": {
       "model_id": "f1b3f44e151e460883b295b5eb42074c",
       "version_major": 2,
       "version_minor": 0
      },
      "text/plain": [
       "Image Batches:   0%|          | 0/13 [00:00<?, ?it/s]"
      ]
     },
     "metadata": {},
     "output_type": "display_data"
    },
    {
     "data": {
      "application/vnd.jupyter.widget-view+json": {
       "model_id": "fbdcfa7363bd4157ba26988d7b17a813",
       "version_major": 2,
       "version_minor": 0
      },
      "text/plain": [
       "Image Batches:   0%|          | 0/13 [00:00<?, ?it/s]"
      ]
     },
     "metadata": {},
     "output_type": "display_data"
    },
    {
     "data": {
      "application/vnd.jupyter.widget-view+json": {
       "model_id": "9cdb8af8b42345a1925dde78f2a591c2",
       "version_major": 2,
       "version_minor": 0
      },
      "text/plain": [
       "Image Batches:   0%|          | 0/14 [00:00<?, ?it/s]"
      ]
     },
     "metadata": {},
     "output_type": "display_data"
    },
    {
     "data": {
      "application/vnd.jupyter.widget-view+json": {
       "model_id": "1a1cd66382af4580891be45ad76d5695",
       "version_major": 2,
       "version_minor": 0
      },
      "text/plain": [
       "Image Batches:   0%|          | 0/13 [00:00<?, ?it/s]"
      ]
     },
     "metadata": {},
     "output_type": "display_data"
    },
    {
     "data": {
      "application/vnd.jupyter.widget-view+json": {
       "model_id": "2127a627ccc2404b8f21741ccca6a238",
       "version_major": 2,
       "version_minor": 0
      },
      "text/plain": [
       "Image Batches:   0%|          | 0/13 [00:00<?, ?it/s]"
      ]
     },
     "metadata": {},
     "output_type": "display_data"
    },
    {
     "data": {
      "application/vnd.jupyter.widget-view+json": {
       "model_id": "a16c6b51c17b4b4b8baef790aa2da346",
       "version_major": 2,
       "version_minor": 0
      },
      "text/plain": [
       "Image Batches:   0%|          | 0/13 [00:00<?, ?it/s]"
      ]
     },
     "metadata": {},
     "output_type": "display_data"
    },
    {
     "data": {
      "application/vnd.jupyter.widget-view+json": {
       "model_id": "02191998f17b42639f277b3b4e8c7224",
       "version_major": 2,
       "version_minor": 0
      },
      "text/plain": [
       "Image Batches:   0%|          | 0/13 [00:00<?, ?it/s]"
      ]
     },
     "metadata": {},
     "output_type": "display_data"
    },
    {
     "data": {
      "application/vnd.jupyter.widget-view+json": {
       "model_id": "2145e70d16da4971b87e3a189f2cf43f",
       "version_major": 2,
       "version_minor": 0
      },
      "text/plain": [
       "Image Batches:   0%|          | 0/13 [00:00<?, ?it/s]"
      ]
     },
     "metadata": {},
     "output_type": "display_data"
    },
    {
     "data": {
      "application/vnd.jupyter.widget-view+json": {
       "model_id": "062961e19bc04371b65ff1a0df65548f",
       "version_major": 2,
       "version_minor": 0
      },
      "text/plain": [
       "Image Batches:   0%|          | 0/13 [00:00<?, ?it/s]"
      ]
     },
     "metadata": {},
     "output_type": "display_data"
    },
    {
     "data": {
      "application/vnd.jupyter.widget-view+json": {
       "model_id": "81c713d7538740fbac214b860ee9c6c0",
       "version_major": 2,
       "version_minor": 0
      },
      "text/plain": [
       "Image Batches:   0%|          | 0/13 [00:00<?, ?it/s]"
      ]
     },
     "metadata": {},
     "output_type": "display_data"
    },
    {
     "data": {
      "application/vnd.jupyter.widget-view+json": {
       "model_id": "dd2d0a0d73664c2a83ae4320b38cc76b",
       "version_major": 2,
       "version_minor": 0
      },
      "text/plain": [
       "Image Batches:   0%|          | 0/13 [00:00<?, ?it/s]"
      ]
     },
     "metadata": {},
     "output_type": "display_data"
    },
    {
     "data": {
      "application/vnd.jupyter.widget-view+json": {
       "model_id": "751e7e2cdc5343aaa585244ea3b7aef2",
       "version_major": 2,
       "version_minor": 0
      },
      "text/plain": [
       "Image Batches:   0%|          | 0/13 [00:00<?, ?it/s]"
      ]
     },
     "metadata": {},
     "output_type": "display_data"
    },
    {
     "data": {
      "application/vnd.jupyter.widget-view+json": {
       "model_id": "af00a24a674b44f7b9a23338ffadfebe",
       "version_major": 2,
       "version_minor": 0
      },
      "text/plain": [
       "Image Batches:   0%|          | 0/28 [00:00<?, ?it/s]"
      ]
     },
     "metadata": {},
     "output_type": "display_data"
    },
    {
     "data": {
      "application/vnd.jupyter.widget-view+json": {
       "model_id": "610508617fc6404791bbb3244220bb33",
       "version_major": 2,
       "version_minor": 0
      },
      "text/plain": [
       "Image Batches:   0%|          | 0/13 [00:00<?, ?it/s]"
      ]
     },
     "metadata": {},
     "output_type": "display_data"
    },
    {
     "data": {
      "application/vnd.jupyter.widget-view+json": {
       "model_id": "9bac9f7eba714749b308dfd7bf191dda",
       "version_major": 2,
       "version_minor": 0
      },
      "text/plain": [
       "Image Batches:   0%|          | 0/13 [00:00<?, ?it/s]"
      ]
     },
     "metadata": {},
     "output_type": "display_data"
    },
    {
     "data": {
      "application/vnd.jupyter.widget-view+json": {
       "model_id": "3bcde5f2378a406ebac7b81759c3fbde",
       "version_major": 2,
       "version_minor": 0
      },
      "text/plain": [
       "Image Batches:   0%|          | 0/13 [00:00<?, ?it/s]"
      ]
     },
     "metadata": {},
     "output_type": "display_data"
    },
    {
     "data": {
      "application/vnd.jupyter.widget-view+json": {
       "model_id": "f5787a266926478a98df4c738ad27dd1",
       "version_major": 2,
       "version_minor": 0
      },
      "text/plain": [
       "Image Batches:   0%|          | 0/13 [00:00<?, ?it/s]"
      ]
     },
     "metadata": {},
     "output_type": "display_data"
    },
    {
     "data": {
      "application/vnd.jupyter.widget-view+json": {
       "model_id": "d5e09b27bc5f4a7398394e1335a375cb",
       "version_major": 2,
       "version_minor": 0
      },
      "text/plain": [
       "Image Batches:   0%|          | 0/13 [00:00<?, ?it/s]"
      ]
     },
     "metadata": {},
     "output_type": "display_data"
    },
    {
     "data": {
      "application/vnd.jupyter.widget-view+json": {
       "model_id": "be5080cc753541c7b5d58282c821060c",
       "version_major": 2,
       "version_minor": 0
      },
      "text/plain": [
       "Image Batches:   0%|          | 0/13 [00:00<?, ?it/s]"
      ]
     },
     "metadata": {},
     "output_type": "display_data"
    },
    {
     "data": {
      "application/vnd.jupyter.widget-view+json": {
       "model_id": "80e024f8a31f49dd9ca7307ffe1fb028",
       "version_major": 2,
       "version_minor": 0
      },
      "text/plain": [
       "Image Batches:   0%|          | 0/13 [00:00<?, ?it/s]"
      ]
     },
     "metadata": {},
     "output_type": "display_data"
    },
    {
     "data": {
      "application/vnd.jupyter.widget-view+json": {
       "model_id": "d4e93cbf0f3f4226a38306887fe97ea8",
       "version_major": 2,
       "version_minor": 0
      },
      "text/plain": [
       "Image Batches:   0%|          | 0/13 [00:00<?, ?it/s]"
      ]
     },
     "metadata": {},
     "output_type": "display_data"
    },
    {
     "data": {
      "application/vnd.jupyter.widget-view+json": {
       "model_id": "ef3af7d8ff844a7982cd14ca0c0f77a0",
       "version_major": 2,
       "version_minor": 0
      },
      "text/plain": [
       "Image Batches:   0%|          | 0/13 [00:00<?, ?it/s]"
      ]
     },
     "metadata": {},
     "output_type": "display_data"
    },
    {
     "data": {
      "application/vnd.jupyter.widget-view+json": {
       "model_id": "03a4cd7b671d41e395c4eb0ee631a656",
       "version_major": 2,
       "version_minor": 0
      },
      "text/plain": [
       "Image Batches:   0%|          | 0/13 [00:00<?, ?it/s]"
      ]
     },
     "metadata": {},
     "output_type": "display_data"
    },
    {
     "data": {
      "application/vnd.jupyter.widget-view+json": {
       "model_id": "76cf2e11c4fb4939846fadca4e9f0baf",
       "version_major": 2,
       "version_minor": 0
      },
      "text/plain": [
       "Image Batches:   0%|          | 0/13 [00:00<?, ?it/s]"
      ]
     },
     "metadata": {},
     "output_type": "display_data"
    },
    {
     "data": {
      "application/vnd.jupyter.widget-view+json": {
       "model_id": "58158626efa14981951a4af29731e403",
       "version_major": 2,
       "version_minor": 0
      },
      "text/plain": [
       "Image Batches:   0%|          | 0/13 [00:00<?, ?it/s]"
      ]
     },
     "metadata": {},
     "output_type": "display_data"
    },
    {
     "data": {
      "application/vnd.jupyter.widget-view+json": {
       "model_id": "d2f1079d5c7a48809b114568d56edec3",
       "version_major": 2,
       "version_minor": 0
      },
      "text/plain": [
       "Image Batches:   0%|          | 0/13 [00:00<?, ?it/s]"
      ]
     },
     "metadata": {},
     "output_type": "display_data"
    },
    {
     "data": {
      "application/vnd.jupyter.widget-view+json": {
       "model_id": "fc4bb15a34834528aed5ab555d4617a2",
       "version_major": 2,
       "version_minor": 0
      },
      "text/plain": [
       "Image Batches:   0%|          | 0/26 [00:00<?, ?it/s]"
      ]
     },
     "metadata": {},
     "output_type": "display_data"
    },
    {
     "data": {
      "application/vnd.jupyter.widget-view+json": {
       "model_id": "3e8c627f5c6c40f193ed363465d30c64",
       "version_major": 2,
       "version_minor": 0
      },
      "text/plain": [
       "Image Batches:   0%|          | 0/14 [00:00<?, ?it/s]"
      ]
     },
     "metadata": {},
     "output_type": "display_data"
    },
    {
     "data": {
      "application/vnd.jupyter.widget-view+json": {
       "model_id": "6f661b57ad414ef484e84f1695edf0f5",
       "version_major": 2,
       "version_minor": 0
      },
      "text/plain": [
       "Image Batches:   0%|          | 0/13 [00:00<?, ?it/s]"
      ]
     },
     "metadata": {},
     "output_type": "display_data"
    },
    {
     "data": {
      "application/vnd.jupyter.widget-view+json": {
       "model_id": "bc00a343301b41899a35f7be78c8e552",
       "version_major": 2,
       "version_minor": 0
      },
      "text/plain": [
       "Image Batches:   0%|          | 0/13 [00:00<?, ?it/s]"
      ]
     },
     "metadata": {},
     "output_type": "display_data"
    },
    {
     "data": {
      "application/vnd.jupyter.widget-view+json": {
       "model_id": "421fe0fec0064897af335f77545195c6",
       "version_major": 2,
       "version_minor": 0
      },
      "text/plain": [
       "Image Batches:   0%|          | 0/13 [00:00<?, ?it/s]"
      ]
     },
     "metadata": {},
     "output_type": "display_data"
    },
    {
     "data": {
      "application/vnd.jupyter.widget-view+json": {
       "model_id": "45d4544199de474fb2b5ce4a62cb1315",
       "version_major": 2,
       "version_minor": 0
      },
      "text/plain": [
       "Image Batches:   0%|          | 0/13 [00:00<?, ?it/s]"
      ]
     },
     "metadata": {},
     "output_type": "display_data"
    },
    {
     "data": {
      "application/vnd.jupyter.widget-view+json": {
       "model_id": "de16d6b26c8d4a319181fcb13916dbd1",
       "version_major": 2,
       "version_minor": 0
      },
      "text/plain": [
       "Image Batches:   0%|          | 0/13 [00:00<?, ?it/s]"
      ]
     },
     "metadata": {},
     "output_type": "display_data"
    },
    {
     "data": {
      "application/vnd.jupyter.widget-view+json": {
       "model_id": "1f71044b7c6d49c98cf02744f2b60cbd",
       "version_major": 2,
       "version_minor": 0
      },
      "text/plain": [
       "Image Batches:   0%|          | 0/13 [00:00<?, ?it/s]"
      ]
     },
     "metadata": {},
     "output_type": "display_data"
    },
    {
     "data": {
      "application/vnd.jupyter.widget-view+json": {
       "model_id": "9223c141cd294db0b19c1e23263d95ad",
       "version_major": 2,
       "version_minor": 0
      },
      "text/plain": [
       "Image Batches:   0%|          | 0/13 [00:00<?, ?it/s]"
      ]
     },
     "metadata": {},
     "output_type": "display_data"
    },
    {
     "data": {
      "application/vnd.jupyter.widget-view+json": {
       "model_id": "efde34113ebc475980a08327b1cf1580",
       "version_major": 2,
       "version_minor": 0
      },
      "text/plain": [
       "Image Batches:   0%|          | 0/13 [00:00<?, ?it/s]"
      ]
     },
     "metadata": {},
     "output_type": "display_data"
    },
    {
     "data": {
      "application/vnd.jupyter.widget-view+json": {
       "model_id": "cb4a6aa410cf44d6825e9934b7e3e4cb",
       "version_major": 2,
       "version_minor": 0
      },
      "text/plain": [
       "Image Batches:   0%|          | 0/26 [00:00<?, ?it/s]"
      ]
     },
     "metadata": {},
     "output_type": "display_data"
    },
    {
     "data": {
      "application/vnd.jupyter.widget-view+json": {
       "model_id": "b6dbae028e7d4f17855091c0b22faba7",
       "version_major": 2,
       "version_minor": 0
      },
      "text/plain": [
       "Image Batches:   0%|          | 0/14 [00:00<?, ?it/s]"
      ]
     },
     "metadata": {},
     "output_type": "display_data"
    },
    {
     "data": {
      "application/vnd.jupyter.widget-view+json": {
       "model_id": "01fc5facd5474eb188bb7c7fb9c98893",
       "version_major": 2,
       "version_minor": 0
      },
      "text/plain": [
       "Image Batches:   0%|          | 0/13 [00:00<?, ?it/s]"
      ]
     },
     "metadata": {},
     "output_type": "display_data"
    },
    {
     "data": {
      "application/vnd.jupyter.widget-view+json": {
       "model_id": "71655b4f0f0546d98af83828163bc008",
       "version_major": 2,
       "version_minor": 0
      },
      "text/plain": [
       "Image Batches:   0%|          | 0/13 [00:00<?, ?it/s]"
      ]
     },
     "metadata": {},
     "output_type": "display_data"
    },
    {
     "data": {
      "application/vnd.jupyter.widget-view+json": {
       "model_id": "d7a2cf19dcb945bd9bcbd095164eb5e8",
       "version_major": 2,
       "version_minor": 0
      },
      "text/plain": [
       "Image Batches:   0%|          | 0/13 [00:00<?, ?it/s]"
      ]
     },
     "metadata": {},
     "output_type": "display_data"
    },
    {
     "data": {
      "application/vnd.jupyter.widget-view+json": {
       "model_id": "352edb535fc64d0ebec207c26c5a4e28",
       "version_major": 2,
       "version_minor": 0
      },
      "text/plain": [
       "Image Batches:   0%|          | 0/13 [00:00<?, ?it/s]"
      ]
     },
     "metadata": {},
     "output_type": "display_data"
    },
    {
     "data": {
      "application/vnd.jupyter.widget-view+json": {
       "model_id": "ef1d043e8aca4dd4a19b55ad98c40f3a",
       "version_major": 2,
       "version_minor": 0
      },
      "text/plain": [
       "Image Batches:   0%|          | 0/13 [00:00<?, ?it/s]"
      ]
     },
     "metadata": {},
     "output_type": "display_data"
    },
    {
     "data": {
      "application/vnd.jupyter.widget-view+json": {
       "model_id": "1bd39533c8a44c4f82a6f2a122da426b",
       "version_major": 2,
       "version_minor": 0
      },
      "text/plain": [
       "Image Batches:   0%|          | 0/13 [00:00<?, ?it/s]"
      ]
     },
     "metadata": {},
     "output_type": "display_data"
    },
    {
     "data": {
      "application/vnd.jupyter.widget-view+json": {
       "model_id": "6df107f0797345f3a4186fb6640c2a61",
       "version_major": 2,
       "version_minor": 0
      },
      "text/plain": [
       "Image Batches:   0%|          | 0/13 [00:00<?, ?it/s]"
      ]
     },
     "metadata": {},
     "output_type": "display_data"
    },
    {
     "data": {
      "application/vnd.jupyter.widget-view+json": {
       "model_id": "6bc487f6f3f94ec4bd2e0797db782b7c",
       "version_major": 2,
       "version_minor": 0
      },
      "text/plain": [
       "Image Batches:   0%|          | 0/13 [00:00<?, ?it/s]"
      ]
     },
     "metadata": {},
     "output_type": "display_data"
    },
    {
     "data": {
      "application/vnd.jupyter.widget-view+json": {
       "model_id": "f1fac913bd2e4f95bd8732d4b53bc34e",
       "version_major": 2,
       "version_minor": 0
      },
      "text/plain": [
       "Image Batches:   0%|          | 0/29 [00:00<?, ?it/s]"
      ]
     },
     "metadata": {},
     "output_type": "display_data"
    },
    {
     "data": {
      "application/vnd.jupyter.widget-view+json": {
       "model_id": "70489f6de4664b9794c9f2d3139b2298",
       "version_major": 2,
       "version_minor": 0
      },
      "text/plain": [
       "Image Batches:   0%|          | 0/13 [00:00<?, ?it/s]"
      ]
     },
     "metadata": {},
     "output_type": "display_data"
    },
    {
     "data": {
      "application/vnd.jupyter.widget-view+json": {
       "model_id": "66bf639e7e614e15a00dd56cabf976fd",
       "version_major": 2,
       "version_minor": 0
      },
      "text/plain": [
       "Image Batches:   0%|          | 0/13 [00:00<?, ?it/s]"
      ]
     },
     "metadata": {},
     "output_type": "display_data"
    },
    {
     "data": {
      "application/vnd.jupyter.widget-view+json": {
       "model_id": "49ee5ad1a5504f76b7d025643d255b30",
       "version_major": 2,
       "version_minor": 0
      },
      "text/plain": [
       "Image Batches:   0%|          | 0/13 [00:00<?, ?it/s]"
      ]
     },
     "metadata": {},
     "output_type": "display_data"
    },
    {
     "data": {
      "application/vnd.jupyter.widget-view+json": {
       "model_id": "d66345b8f8cc41f3a168ebedffeea5cb",
       "version_major": 2,
       "version_minor": 0
      },
      "text/plain": [
       "Image Batches:   0%|          | 0/14 [00:00<?, ?it/s]"
      ]
     },
     "metadata": {},
     "output_type": "display_data"
    },
    {
     "data": {
      "application/vnd.jupyter.widget-view+json": {
       "model_id": "4b4a27d1d0f540b4b032bfa24a23f9ef",
       "version_major": 2,
       "version_minor": 0
      },
      "text/plain": [
       "Image Batches:   0%|          | 0/13 [00:00<?, ?it/s]"
      ]
     },
     "metadata": {},
     "output_type": "display_data"
    },
    {
     "data": {
      "application/vnd.jupyter.widget-view+json": {
       "model_id": "066466d9fa0a48ddaab7862905c13050",
       "version_major": 2,
       "version_minor": 0
      },
      "text/plain": [
       "Image Batches:   0%|          | 0/13 [00:00<?, ?it/s]"
      ]
     },
     "metadata": {},
     "output_type": "display_data"
    },
    {
     "data": {
      "application/vnd.jupyter.widget-view+json": {
       "model_id": "04a227c7d95a42809a17c594079ac38a",
       "version_major": 2,
       "version_minor": 0
      },
      "text/plain": [
       "Image Batches:   0%|          | 0/13 [00:00<?, ?it/s]"
      ]
     },
     "metadata": {},
     "output_type": "display_data"
    },
    {
     "data": {
      "application/vnd.jupyter.widget-view+json": {
       "model_id": "2a0350a83d3542a087a19aa1cb313f78",
       "version_major": 2,
       "version_minor": 0
      },
      "text/plain": [
       "Image Batches:   0%|          | 0/13 [00:00<?, ?it/s]"
      ]
     },
     "metadata": {},
     "output_type": "display_data"
    },
    {
     "data": {
      "application/vnd.jupyter.widget-view+json": {
       "model_id": "ab03e6938d144428af7e7d8c012c2538",
       "version_major": 2,
       "version_minor": 0
      },
      "text/plain": [
       "Image Batches:   0%|          | 0/13 [00:00<?, ?it/s]"
      ]
     },
     "metadata": {},
     "output_type": "display_data"
    },
    {
     "data": {
      "application/vnd.jupyter.widget-view+json": {
       "model_id": "168821f9dff042ba989d2d79e6b3c5f1",
       "version_major": 2,
       "version_minor": 0
      },
      "text/plain": [
       "Image Batches:   0%|          | 0/13 [00:00<?, ?it/s]"
      ]
     },
     "metadata": {},
     "output_type": "display_data"
    },
    {
     "data": {
      "application/vnd.jupyter.widget-view+json": {
       "model_id": "d5d361cda0fc4388b18332416df6d2ce",
       "version_major": 2,
       "version_minor": 0
      },
      "text/plain": [
       "Image Batches:   0%|          | 0/15 [00:00<?, ?it/s]"
      ]
     },
     "metadata": {},
     "output_type": "display_data"
    },
    {
     "data": {
      "application/vnd.jupyter.widget-view+json": {
       "model_id": "c10839ed8d5149418270f59eb4d29278",
       "version_major": 2,
       "version_minor": 0
      },
      "text/plain": [
       "Image Batches:   0%|          | 0/13 [00:00<?, ?it/s]"
      ]
     },
     "metadata": {},
     "output_type": "display_data"
    },
    {
     "data": {
      "application/vnd.jupyter.widget-view+json": {
       "model_id": "32d1e822fc854ae1a7a6e422b0102958",
       "version_major": 2,
       "version_minor": 0
      },
      "text/plain": [
       "Image Batches:   0%|          | 0/11 [00:00<?, ?it/s]"
      ]
     },
     "metadata": {},
     "output_type": "display_data"
    },
    {
     "data": {
      "application/vnd.jupyter.widget-view+json": {
       "model_id": "51004ecc1a694941b247d9fe83761dd7",
       "version_major": 2,
       "version_minor": 0
      },
      "text/plain": [
       "Image Batches:   0%|          | 0/13 [00:00<?, ?it/s]"
      ]
     },
     "metadata": {},
     "output_type": "display_data"
    },
    {
     "data": {
      "application/vnd.jupyter.widget-view+json": {
       "model_id": "d5c827b07dc5489681ebc2d443303c50",
       "version_major": 2,
       "version_minor": 0
      },
      "text/plain": [
       "Image Batches:   0%|          | 0/15 [00:00<?, ?it/s]"
      ]
     },
     "metadata": {},
     "output_type": "display_data"
    },
    {
     "data": {
      "application/vnd.jupyter.widget-view+json": {
       "model_id": "099a97acd010463881b39f4dfc95889e",
       "version_major": 2,
       "version_minor": 0
      },
      "text/plain": [
       "Image Batches:   0%|          | 0/13 [00:00<?, ?it/s]"
      ]
     },
     "metadata": {},
     "output_type": "display_data"
    },
    {
     "data": {
      "application/vnd.jupyter.widget-view+json": {
       "model_id": "18581a4e96b7448ab9c2b10a42cef380",
       "version_major": 2,
       "version_minor": 0
      },
      "text/plain": [
       "Image Batches:   0%|          | 0/13 [00:00<?, ?it/s]"
      ]
     },
     "metadata": {},
     "output_type": "display_data"
    },
    {
     "data": {
      "application/vnd.jupyter.widget-view+json": {
       "model_id": "9fb3a9ea4cef43c19cb3b7930b4da07e",
       "version_major": 2,
       "version_minor": 0
      },
      "text/plain": [
       "Image Batches:   0%|          | 0/13 [00:00<?, ?it/s]"
      ]
     },
     "metadata": {},
     "output_type": "display_data"
    },
    {
     "data": {
      "application/vnd.jupyter.widget-view+json": {
       "model_id": "6c16d811cf3b4dbb9a7b2d03ab350300",
       "version_major": 2,
       "version_minor": 0
      },
      "text/plain": [
       "Image Batches:   0%|          | 0/13 [00:00<?, ?it/s]"
      ]
     },
     "metadata": {},
     "output_type": "display_data"
    },
    {
     "data": {
      "application/vnd.jupyter.widget-view+json": {
       "model_id": "487d303afcd0425793ee3d8b0c9da254",
       "version_major": 2,
       "version_minor": 0
      },
      "text/plain": [
       "Image Batches:   0%|          | 0/13 [00:00<?, ?it/s]"
      ]
     },
     "metadata": {},
     "output_type": "display_data"
    },
    {
     "data": {
      "application/vnd.jupyter.widget-view+json": {
       "model_id": "e721a90eaa4b4f909caefc09b62103a8",
       "version_major": 2,
       "version_minor": 0
      },
      "text/plain": [
       "Image Batches:   0%|          | 0/14 [00:00<?, ?it/s]"
      ]
     },
     "metadata": {},
     "output_type": "display_data"
    },
    {
     "data": {
      "application/vnd.jupyter.widget-view+json": {
       "model_id": "af311fcce0e94a258d71365bcbfd89c6",
       "version_major": 2,
       "version_minor": 0
      },
      "text/plain": [
       "Image Batches:   0%|          | 0/13 [00:00<?, ?it/s]"
      ]
     },
     "metadata": {},
     "output_type": "display_data"
    },
    {
     "data": {
      "application/vnd.jupyter.widget-view+json": {
       "model_id": "cfda5b228a3d407fbf5473b7d1df4af3",
       "version_major": 2,
       "version_minor": 0
      },
      "text/plain": [
       "Image Batches:   0%|          | 0/13 [00:00<?, ?it/s]"
      ]
     },
     "metadata": {},
     "output_type": "display_data"
    },
    {
     "data": {
      "application/vnd.jupyter.widget-view+json": {
       "model_id": "5de59abff63f4cd2a7e65dde7ce95e54",
       "version_major": 2,
       "version_minor": 0
      },
      "text/plain": [
       "Image Batches:   0%|          | 0/13 [00:00<?, ?it/s]"
      ]
     },
     "metadata": {},
     "output_type": "display_data"
    },
    {
     "data": {
      "application/vnd.jupyter.widget-view+json": {
       "model_id": "3139c11d242f488d825528e7504bc475",
       "version_major": 2,
       "version_minor": 0
      },
      "text/plain": [
       "Image Batches:   0%|          | 0/14 [00:00<?, ?it/s]"
      ]
     },
     "metadata": {},
     "output_type": "display_data"
    },
    {
     "data": {
      "application/vnd.jupyter.widget-view+json": {
       "model_id": "e6f259d1781a481bbc178ec84082817d",
       "version_major": 2,
       "version_minor": 0
      },
      "text/plain": [
       "Image Batches:   0%|          | 0/13 [00:00<?, ?it/s]"
      ]
     },
     "metadata": {},
     "output_type": "display_data"
    },
    {
     "data": {
      "application/vnd.jupyter.widget-view+json": {
       "model_id": "d53357df3cd34ab89f6253e5bb900c50",
       "version_major": 2,
       "version_minor": 0
      },
      "text/plain": [
       "Image Batches:   0%|          | 0/13 [00:00<?, ?it/s]"
      ]
     },
     "metadata": {},
     "output_type": "display_data"
    },
    {
     "data": {
      "application/vnd.jupyter.widget-view+json": {
       "model_id": "3aa68f4a21984184a5035b62a2fe6723",
       "version_major": 2,
       "version_minor": 0
      },
      "text/plain": [
       "Image Batches:   0%|          | 0/13 [00:00<?, ?it/s]"
      ]
     },
     "metadata": {},
     "output_type": "display_data"
    },
    {
     "data": {
      "application/vnd.jupyter.widget-view+json": {
       "model_id": "6dc4563b19eb4a389baef566c0a0eacc",
       "version_major": 2,
       "version_minor": 0
      },
      "text/plain": [
       "Image Batches:   0%|          | 0/13 [00:00<?, ?it/s]"
      ]
     },
     "metadata": {},
     "output_type": "display_data"
    },
    {
     "data": {
      "application/vnd.jupyter.widget-view+json": {
       "model_id": "036be61dd2d846e190823423817f9340",
       "version_major": 2,
       "version_minor": 0
      },
      "text/plain": [
       "Image Batches:   0%|          | 0/13 [00:00<?, ?it/s]"
      ]
     },
     "metadata": {},
     "output_type": "display_data"
    },
    {
     "data": {
      "application/vnd.jupyter.widget-view+json": {
       "model_id": "befbb21b46074aa6a918102e23563bc9",
       "version_major": 2,
       "version_minor": 0
      },
      "text/plain": [
       "Image Batches:   0%|          | 0/13 [00:00<?, ?it/s]"
      ]
     },
     "metadata": {},
     "output_type": "display_data"
    },
    {
     "data": {
      "application/vnd.jupyter.widget-view+json": {
       "model_id": "fb043ea7e3b3436aaf85070df6250650",
       "version_major": 2,
       "version_minor": 0
      },
      "text/plain": [
       "Image Batches:   0%|          | 0/13 [00:00<?, ?it/s]"
      ]
     },
     "metadata": {},
     "output_type": "display_data"
    },
    {
     "data": {
      "application/vnd.jupyter.widget-view+json": {
       "model_id": "edb8ca2df40e4e05aeec06913742d73a",
       "version_major": 2,
       "version_minor": 0
      },
      "text/plain": [
       "Image Batches:   0%|          | 0/25 [00:00<?, ?it/s]"
      ]
     },
     "metadata": {},
     "output_type": "display_data"
    },
    {
     "data": {
      "application/vnd.jupyter.widget-view+json": {
       "model_id": "a51dae70ed964419b4ba92c58657962a",
       "version_major": 2,
       "version_minor": 0
      },
      "text/plain": [
       "Image Batches:   0%|          | 0/13 [00:00<?, ?it/s]"
      ]
     },
     "metadata": {},
     "output_type": "display_data"
    },
    {
     "data": {
      "application/vnd.jupyter.widget-view+json": {
       "model_id": "f47714c6f9ed47c98d908768f72cd06d",
       "version_major": 2,
       "version_minor": 0
      },
      "text/plain": [
       "Image Batches:   0%|          | 0/13 [00:00<?, ?it/s]"
      ]
     },
     "metadata": {},
     "output_type": "display_data"
    },
    {
     "data": {
      "application/vnd.jupyter.widget-view+json": {
       "model_id": "b179d2ab8155453381795275b3ffa442",
       "version_major": 2,
       "version_minor": 0
      },
      "text/plain": [
       "Image Batches:   0%|          | 0/13 [00:00<?, ?it/s]"
      ]
     },
     "metadata": {},
     "output_type": "display_data"
    },
    {
     "data": {
      "application/vnd.jupyter.widget-view+json": {
       "model_id": "1bb409289dd54ae5b791ab526a290102",
       "version_major": 2,
       "version_minor": 0
      },
      "text/plain": [
       "Image Batches:   0%|          | 0/13 [00:00<?, ?it/s]"
      ]
     },
     "metadata": {},
     "output_type": "display_data"
    },
    {
     "data": {
      "application/vnd.jupyter.widget-view+json": {
       "model_id": "200e70ec7f724e75ac51367030017eea",
       "version_major": 2,
       "version_minor": 0
      },
      "text/plain": [
       "Image Batches:   0%|          | 0/26 [00:00<?, ?it/s]"
      ]
     },
     "metadata": {},
     "output_type": "display_data"
    },
    {
     "data": {
      "application/vnd.jupyter.widget-view+json": {
       "model_id": "62b610800cb1495da73f3c390a53f74d",
       "version_major": 2,
       "version_minor": 0
      },
      "text/plain": [
       "Image Batches:   0%|          | 0/13 [00:00<?, ?it/s]"
      ]
     },
     "metadata": {},
     "output_type": "display_data"
    },
    {
     "data": {
      "application/vnd.jupyter.widget-view+json": {
       "model_id": "d86ce0bb080d48f8a7b5d33348c03e71",
       "version_major": 2,
       "version_minor": 0
      },
      "text/plain": [
       "Image Batches:   0%|          | 0/13 [00:00<?, ?it/s]"
      ]
     },
     "metadata": {},
     "output_type": "display_data"
    },
    {
     "data": {
      "application/vnd.jupyter.widget-view+json": {
       "model_id": "17543da1879942bb8def447c648727dd",
       "version_major": 2,
       "version_minor": 0
      },
      "text/plain": [
       "Image Batches:   0%|          | 0/13 [00:00<?, ?it/s]"
      ]
     },
     "metadata": {},
     "output_type": "display_data"
    },
    {
     "data": {
      "application/vnd.jupyter.widget-view+json": {
       "model_id": "179264cd337543cdb026ef825ddde6b4",
       "version_major": 2,
       "version_minor": 0
      },
      "text/plain": [
       "Image Batches:   0%|          | 0/14 [00:00<?, ?it/s]"
      ]
     },
     "metadata": {},
     "output_type": "display_data"
    },
    {
     "data": {
      "application/vnd.jupyter.widget-view+json": {
       "model_id": "023837be704c466ba889c59d0f67a48d",
       "version_major": 2,
       "version_minor": 0
      },
      "text/plain": [
       "Image Batches:   0%|          | 0/30 [00:00<?, ?it/s]"
      ]
     },
     "metadata": {},
     "output_type": "display_data"
    },
    {
     "data": {
      "application/vnd.jupyter.widget-view+json": {
       "model_id": "99aa7f3763c94f89aad28ff03858c22c",
       "version_major": 2,
       "version_minor": 0
      },
      "text/plain": [
       "Image Batches:   0%|          | 0/13 [00:00<?, ?it/s]"
      ]
     },
     "metadata": {},
     "output_type": "display_data"
    },
    {
     "data": {
      "application/vnd.jupyter.widget-view+json": {
       "model_id": "9105bea767834da0a33f0b42e6b628a1",
       "version_major": 2,
       "version_minor": 0
      },
      "text/plain": [
       "Image Batches:   0%|          | 0/13 [00:00<?, ?it/s]"
      ]
     },
     "metadata": {},
     "output_type": "display_data"
    },
    {
     "data": {
      "application/vnd.jupyter.widget-view+json": {
       "model_id": "e647fca3c9644001a62948db1ebb5eda",
       "version_major": 2,
       "version_minor": 0
      },
      "text/plain": [
       "Image Batches:   0%|          | 0/25 [00:00<?, ?it/s]"
      ]
     },
     "metadata": {},
     "output_type": "display_data"
    },
    {
     "data": {
      "application/vnd.jupyter.widget-view+json": {
       "model_id": "fca71d7c5515453283e010055ddb78c8",
       "version_major": 2,
       "version_minor": 0
      },
      "text/plain": [
       "Image Batches:   0%|          | 0/26 [00:00<?, ?it/s]"
      ]
     },
     "metadata": {},
     "output_type": "display_data"
    },
    {
     "data": {
      "application/vnd.jupyter.widget-view+json": {
       "model_id": "781ded493d5341279b5c8b7c37b23dc6",
       "version_major": 2,
       "version_minor": 0
      },
      "text/plain": [
       "Image Batches:   0%|          | 0/13 [00:00<?, ?it/s]"
      ]
     },
     "metadata": {},
     "output_type": "display_data"
    },
    {
     "data": {
      "application/vnd.jupyter.widget-view+json": {
       "model_id": "1148bd30da22459da6ca82238d30ea6f",
       "version_major": 2,
       "version_minor": 0
      },
      "text/plain": [
       "Image Batches:   0%|          | 0/14 [00:00<?, ?it/s]"
      ]
     },
     "metadata": {},
     "output_type": "display_data"
    },
    {
     "data": {
      "application/vnd.jupyter.widget-view+json": {
       "model_id": "731f3ed357634461bf75f3865e227f11",
       "version_major": 2,
       "version_minor": 0
      },
      "text/plain": [
       "Image Batches:   0%|          | 0/26 [00:00<?, ?it/s]"
      ]
     },
     "metadata": {},
     "output_type": "display_data"
    },
    {
     "data": {
      "application/vnd.jupyter.widget-view+json": {
       "model_id": "6ada2aea04f34adbb00ad6516fb6f0c2",
       "version_major": 2,
       "version_minor": 0
      },
      "text/plain": [
       "Image Batches:   0%|          | 0/13 [00:00<?, ?it/s]"
      ]
     },
     "metadata": {},
     "output_type": "display_data"
    },
    {
     "data": {
      "application/vnd.jupyter.widget-view+json": {
       "model_id": "e086786063fd4a2b9afbb62fc36bbff0",
       "version_major": 2,
       "version_minor": 0
      },
      "text/plain": [
       "Image Batches:   0%|          | 0/13 [00:00<?, ?it/s]"
      ]
     },
     "metadata": {},
     "output_type": "display_data"
    },
    {
     "data": {
      "application/vnd.jupyter.widget-view+json": {
       "model_id": "44cea82af43a455f9e94ff2cb898455d",
       "version_major": 2,
       "version_minor": 0
      },
      "text/plain": [
       "Image Batches:   0%|          | 0/13 [00:00<?, ?it/s]"
      ]
     },
     "metadata": {},
     "output_type": "display_data"
    },
    {
     "data": {
      "application/vnd.jupyter.widget-view+json": {
       "model_id": "813ea56969674b899da8714943441029",
       "version_major": 2,
       "version_minor": 0
      },
      "text/plain": [
       "Image Batches:   0%|          | 0/24 [00:00<?, ?it/s]"
      ]
     },
     "metadata": {},
     "output_type": "display_data"
    },
    {
     "name": "stdout",
     "output_type": "stream",
     "text": [
      "Validation Accuracy: 80.01%\n",
      "Validation Log Loss: 0.0045\n",
      "Validation Time: 2.03 minutes\n",
      "Validation Single Inference Time: 0.00 seconds\n",
      "Validation FPS: 318.28 images/second\n"
     ]
    }
   ],
   "source": [
    "batch_size = 24\n",
    "video_paths = x_val\n",
    "video_labels = y_val\n",
    "labels = []\n",
    "\n",
    "model.eval()\n",
    "# classifier.eval()\n",
    "\n",
    "running_loss = 0.0\n",
    "total_batches = 0\n",
    "total_images = 0\n",
    "correct = 0\n",
    "total = 0\n",
    "\n",
    "start_time = time.time()\n",
    "\n",
    "video_bar = tqdm(zip(video_paths, video_labels),desc='Videos', total=len(video_paths))\n",
    "for path, label in video_bar:\n",
    "    image_files = sorted([ os.path.join(path, f)\n",
    "    for f in os.listdir(path)\n",
    "    if f.lower().endswith('.png')\n",
    "    ])\n",
    "\n",
    "    labels.extend([label] * len(image_files))  # Repeat label for each image\n",
    "    total_images += len(image_files)\n",
    "\n",
    "    for i in tqdm(range(0, len(image_files), batch_size), desc='Image Batches', leave=False):\n",
    "        total_batches += 1\n",
    "        batch_paths = image_files[i:i+batch_size]\n",
    "        images = [Image.open(p).convert(\"RGB\") for p in batch_paths]\n",
    "\n",
    "        batch_tensor = torch.stack([transforms(img) for img in images]).to(device)\n",
    "        batch_labels = torch.tensor([label] * len(images), dtype=torch.float).unsqueeze(1).to(device)\n",
    "\n",
    "\n",
    "        with torch.no_grad():\n",
    "            outputs = model(batch_tensor)  # shape: [batch_size, 1]\n",
    "            batch_logits = outputs\n",
    "\n",
    "            # running_loss += criterion(batch_logits, batch_labels).item()\n",
    "            running_loss=criterion(batch_logits, batch_labels).item() * batch_labels.size(0)\n",
    "\n",
    "            preds = (torch.sigmoid(batch_logits) > 0.5).int()\n",
    "            correct += (preds == batch_labels.int()).sum().item()\n",
    "            total += batch_labels.size(0)\n",
    "\n",
    "accuracy = correct / total if total > 0 else 0\n",
    "\n",
    "# val_loss = running_loss / total_batches if total_batches > 0 else 0\n",
    "val_loss = running_loss / total if total > 0 else 0\n",
    "\n",
    "end_time = time.time()\n",
    "vali_time = end_time - start_time\n",
    "vali_inf_time = vali_time / total_images\n",
    "vali_fps = total_images / vali_time\n",
    "\n",
    "print(f\"Validation Accuracy: {accuracy*100:.2f}%\")\n",
    "print(f\"Validation Log Loss: {val_loss:.4f}\")\n",
    "\n",
    "print(f\"Validation Time: {vali_time/60:.2f} minutes\")\n",
    "print(f\"Validation Single Inference Time: {vali_inf_time:.2f} seconds\")\n",
    "print(f\"Validation FPS: {vali_fps:.2f} images/second\")\n",
    "\n",
    "\n",
    "\n"
   ]
  },
  {
   "cell_type": "markdown",
   "id": "c1962210",
   "metadata": {},
   "source": [
    "Measuring Gflops"
   ]
  },
  {
   "cell_type": "code",
   "execution_count": 6,
   "id": "38a3367e",
   "metadata": {},
   "outputs": [
    {
     "name": "stdout",
     "output_type": "stream",
     "text": [
      "Total parameters: 5.86M\n"
     ]
    }
   ],
   "source": [
    "total_params = sum(p.numel() for p in model.parameters())\n",
    "print(f\"Total parameters: {total_params / 1e6:.2f}M\")"
   ]
  },
  {
   "cell_type": "code",
   "execution_count": 7,
   "id": "9c2cb31d",
   "metadata": {},
   "outputs": [
    {
     "name": "stdout",
     "output_type": "stream",
     "text": [
      "[INFO] Register count_convNd() for <class 'torch.nn.modules.conv.Conv2d'>.\n",
      "[INFO] Register zero_ops() for <class 'torch.nn.modules.container.Sequential'>.\n",
      "[INFO] Register count_adap_avgpool() for <class 'torch.nn.modules.pooling.AdaptiveAvgPool2d'>.\n",
      "[INFO] Register count_linear() for <class 'torch.nn.modules.linear.Linear'>.\n",
      "Params: 5.74M, GFLOPs: 1.30\n"
     ]
    }
   ],
   "source": [
    "from thop import profile\n",
    "input_tensor = torch.randn(1, 3, 224, 224).to(device)\n",
    "tmacs, tparams = profile(model, inputs=(input_tensor,))\n",
    "print(f\"Params: {tparams / 1e6:.2f}M, GFLOPs: {2*tmacs / 1e9:.2f}\")"
   ]
  }
 ],
 "metadata": {
  "kernelspec": {
   "display_name": "env1",
   "language": "python",
   "name": "python3"
  },
  "language_info": {
   "codemirror_mode": {
    "name": "ipython",
    "version": 3
   },
   "file_extension": ".py",
   "mimetype": "text/x-python",
   "name": "python",
   "nbconvert_exporter": "python",
   "pygments_lexer": "ipython3",
   "version": "3.13.2"
  }
 },
 "nbformat": 4,
 "nbformat_minor": 5
}
